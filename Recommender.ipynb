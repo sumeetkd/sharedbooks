{
 "cells": [
  {
   "cell_type": "markdown",
   "id": "d04f1811-88c7-4efb-91f2-257731c1d27d",
   "metadata": {},
   "source": [
    "# Introduction\n",
    "- We will be doing content based filtering\n",
    "- A user vector can be created using the information in filter>Keywords and viewed articles\n",
    "- This user vector can be compared with the vectors of the items\n",
    "- Nearest neighbours algorithm can be used to determine the most similar items for suggestion"
   ]
  },
  {
   "cell_type": "markdown",
   "id": "27a73dc5-3e03-418c-afd4-d3184e83f6c4",
   "metadata": {},
   "source": [
    "# Flow of logic"
   ]
  },
  {
   "cell_type": "markdown",
   "id": "a6d41d4b-82c1-4656-93c2-65cb981883b4",
   "metadata": {},
   "source": [
    "## Ingesting data\n",
    "- There are three tables which overlap on different keys\n",
    "- Checking the extent of overlap\n",
    "## Feature Engineering\n",
    "- Creating a column containing words that identify the user\n",
    "  - Extracting the keywords from user['filters'] and saving them as strings\n",
    "  - Merging user intereaction and items information\n",
    "    - Pulling in the details of all the items viewed by user\n",
    "    - Combining all the details into a single sring\n",
    "    - Combining the keywords with the details of viewed items\n",
    "## Recommender system\n",
    "- Using a spacy tokenizer to convert the strings into a vector\n",
    "- Using the nearest neighbour algorithm with the cosine metric to extract the 10 closest neighbours"
   ]
  },
  {
   "cell_type": "markdown",
   "id": "44c64ab7-9c56-4e72-8281-0c88a8cb91f2",
   "metadata": {
    "tags": []
   },
   "source": [
    "# Ingesting data"
   ]
  },
  {
   "cell_type": "code",
   "execution_count": null,
   "id": "ed711271-4404-42cb-893e-6706acb772d8",
   "metadata": {},
   "outputs": [],
   "source": [
    "import pandas as pd"
   ]
  },
  {
   "cell_type": "code",
   "execution_count": null,
   "id": "0f2a617f-d84f-40cd-bdfb-1f9d32f943d0",
   "metadata": {},
   "outputs": [],
   "source": [
    "items = pd.read_csv(\n",
    "filepath_or_buffer='data/dataScienceAssignment/items.csv',\\\n",
    "# This is the file path of the csv\n",
    "# Give the column number that is to be used as index\n",
    "#index_col=,\\\n",
    "# Give the row numbers that have to be dropped when reading a data file\n",
    "#skiprows=,\\\n",
    "# na_values defaults include NaN, nan, null, n/a,\n",
    "na_values=['','nan'],\\\n",
    "# Get the column names from a header row\n",
    "header=0,\\\n",
    "    encoding='utf-8'\n",
    ")"
   ]
  },
  {
   "cell_type": "code",
   "execution_count": null,
   "id": "637d2562-1775-45c6-8a71-e55359a93a72",
   "metadata": {},
   "outputs": [],
   "source": [
    "userint = pd.read_csv(\n",
    "filepath_or_buffer='data/dataScienceAssignment/userInteractions.csv',\\\n",
    "# This is the file path of the csv\n",
    "# Give the column number that is to be used as index\n",
    "#index_col=,\\\n",
    "# Give the row numbers that have to be dropped when reading a data file\n",
    "#skiprows=,\\\n",
    "# na_values defaults include NaN, nan, null, n/a,\n",
    "na_values=['','nan'],\\\n",
    "# Get the column names from a header row\n",
    "header=0,\\\n",
    "    encoding='utf-8'\n",
    ")"
   ]
  },
  {
   "cell_type": "code",
   "execution_count": null,
   "id": "339e9f62-9b6b-4297-9cb8-d9588f0c96b6",
   "metadata": {},
   "outputs": [],
   "source": [
    "user = pd.read_csv(\n",
    "filepath_or_buffer='data/dataScienceAssignment/users.csv',\\\n",
    "# This is the file path of the csv\n",
    "# Give the column number that is to be used as index\n",
    "#index_col=,\\\n",
    "# Give the row numbers that have to be dropped when reading a data file\n",
    "#skiprows=,\\\n",
    "# na_values defaults include NaN, nan, null, n/a,\n",
    "na_values=['','nan'],\\\n",
    "# Get the column names from a header row\n",
    "header=0,\\\n",
    "    encoding='utf-8'\n",
    ")"
   ]
  },
  {
   "cell_type": "markdown",
   "id": "4c4f9b18-7004-44f0-ba59-3d2a9d1d0b28",
   "metadata": {},
   "source": [
    "## Viewing data"
   ]
  },
  {
   "cell_type": "code",
   "execution_count": null,
   "id": "153f9a2f-5783-4539-bbf8-113af78364a6",
   "metadata": {},
   "outputs": [],
   "source": [
    "user.info()"
   ]
  },
  {
   "cell_type": "code",
   "execution_count": null,
   "id": "741c65b7-d8a5-4291-ad98-a46952eaf3bf",
   "metadata": {},
   "outputs": [],
   "source": [
    "userint.info()"
   ]
  },
  {
   "cell_type": "code",
   "execution_count": null,
   "id": "a1b8eb48-f9d3-4ab0-82fb-4823ab7baa07",
   "metadata": {},
   "outputs": [],
   "source": [
    "userint.head()"
   ]
  },
  {
   "cell_type": "code",
   "execution_count": null,
   "id": "be69b7a1-648a-42f5-8716-de45815853ad",
   "metadata": {},
   "outputs": [],
   "source": [
    "userint[userint.duplicated('entityId')]"
   ]
  },
  {
   "cell_type": "code",
   "execution_count": null,
   "id": "4b5ad159-5ceb-491a-9859-86d788b50299",
   "metadata": {},
   "outputs": [],
   "source": [
    "userint[userint.duplicated('accountId')]"
   ]
  },
  {
   "cell_type": "markdown",
   "id": "7659ea24-57af-4308-8bb5-6427dff657f8",
   "metadata": {},
   "source": [
    "### Checking that there is an overlap between user and userint"
   ]
  },
  {
   "cell_type": "code",
   "execution_count": null,
   "id": "1d0cc0d3-08bb-4f56-a4c4-6e6c599c4cce",
   "metadata": {},
   "outputs": [],
   "source": [
    "user.loc[userint['accountId'].isin(user['accountId'].values)]"
   ]
  },
  {
   "cell_type": "code",
   "execution_count": null,
   "id": "98fd4a36-3553-471d-b58e-fcc412693401",
   "metadata": {},
   "outputs": [],
   "source": [
    "userint.loc[userint['accountId'].isin(user['accountId'].values)]"
   ]
  },
  {
   "cell_type": "code",
   "execution_count": null,
   "id": "b0c23263-dc3c-45c8-bb8c-11d79349533c",
   "metadata": {},
   "outputs": [],
   "source": [
    "items.loc[items['id'].isin(userint['entityId'].values)]"
   ]
  },
  {
   "cell_type": "markdown",
   "id": "229121d5-6f27-448c-83b3-8a89442e88ed",
   "metadata": {
    "tags": []
   },
   "source": [
    "# Feature engineering"
   ]
  },
  {
   "cell_type": "markdown",
   "id": "75efa2f9-8109-4eb2-8a27-f15dfbab2418",
   "metadata": {
    "tags": []
   },
   "source": [
    "## User keywords"
   ]
  },
  {
   "cell_type": "code",
   "execution_count": null,
   "id": "79de56fb-bc79-4bdb-8d41-076fc0e8b938",
   "metadata": {},
   "outputs": [],
   "source": [
    "user.head()"
   ]
  },
  {
   "cell_type": "code",
   "execution_count": null,
   "id": "f23532e1-3047-414a-beb3-528ac4fe4088",
   "metadata": {},
   "outputs": [],
   "source": [
    "user['filter'][20]"
   ]
  },
  {
   "cell_type": "code",
   "execution_count": null,
   "id": "f93dd8e2-4e04-411c-a3a2-9380a0d1c458",
   "metadata": {},
   "outputs": [],
   "source": [
    "user['filter'].fillna('{}',inplace=True)"
   ]
  },
  {
   "cell_type": "code",
   "execution_count": null,
   "id": "17c36fbd-3824-45fd-a6ca-2c2c2c571fa3",
   "metadata": {},
   "outputs": [],
   "source": [
    "from ast import literal_eval"
   ]
  },
  {
   "cell_type": "code",
   "execution_count": null,
   "id": "1a2dfe6c-8631-48aa-9213-5969f50e54b2",
   "metadata": {},
   "outputs": [],
   "source": [
    "def user_keywords(rowitem):\n",
    "    pylist = literal_eval(rowitem)\n",
    "    if 'KEYWORD' in pylist.keys():\n",
    "        keywords = pylist['KEYWORD']\n",
    "        string = ' '.join(keywords)\n",
    "        return string\n",
    "    else:\n",
    "        return ''"
   ]
  },
  {
   "cell_type": "code",
   "execution_count": null,
   "id": "adb92544-e6cc-4a5f-a1e2-bab742866301",
   "metadata": {
    "tags": []
   },
   "outputs": [],
   "source": [
    "user['filter'] = user['filter'].map(user_keywords)"
   ]
  },
  {
   "cell_type": "markdown",
   "id": "7b4dd473-0a7f-4e8d-a831-2ef254179a66",
   "metadata": {
    "tags": []
   },
   "source": [
    "## Items "
   ]
  },
  {
   "cell_type": "code",
   "execution_count": null,
   "id": "8d0eb322-f2e3-4c23-a92a-cdd988dd34a3",
   "metadata": {},
   "outputs": [],
   "source": [
    "items.head()"
   ]
  },
  {
   "cell_type": "code",
   "execution_count": null,
   "id": "de584cb6-ecd0-4bfd-ba4d-0be5611b403f",
   "metadata": {},
   "outputs": [],
   "source": [
    "items['details'].fillna('',inplace=True)"
   ]
  },
  {
   "cell_type": "code",
   "execution_count": null,
   "id": "396ad555-15c3-4f82-b450-f7ae4a202bcb",
   "metadata": {},
   "outputs": [],
   "source": [
    "items['details'].eq('').sum()"
   ]
  },
  {
   "cell_type": "code",
   "execution_count": null,
   "id": "8b0d3ef5-813f-4ba7-a6ca-19c462f887d9",
   "metadata": {},
   "outputs": [],
   "source": [
    "itemfeatures = items[items['details'] != ''][['id','details']]"
   ]
  },
  {
   "cell_type": "code",
   "execution_count": null,
   "id": "0a7efdbf-bb7b-4a6b-b4c6-a5d61cb1335a",
   "metadata": {},
   "outputs": [],
   "source": [
    "itemfeatures"
   ]
  },
  {
   "cell_type": "markdown",
   "id": "6f6db6a8-30a3-4334-aff2-22c60e7f7174",
   "metadata": {
    "tags": []
   },
   "source": [
    "## Create user features"
   ]
  },
  {
   "cell_type": "code",
   "execution_count": null,
   "id": "228be7c4-6857-4010-96fb-e1052a6a80c6",
   "metadata": {},
   "outputs": [],
   "source": [
    "userint.head()"
   ]
  },
  {
   "cell_type": "markdown",
   "id": "ba0bb8f4-4df3-4b34-8ef5-2e4d07d1ca8d",
   "metadata": {},
   "source": [
    "Combining the user interactions and user tables to created a combined table.\n",
    "It appears that some of the entities in the 'user interactions' don't exist on 'items'"
   ]
  },
  {
   "cell_type": "code",
   "execution_count": null,
   "id": "a205fff3-7a61-486a-a9d5-aaeca2382b8f",
   "metadata": {},
   "outputs": [],
   "source": [
    "userintitems = pd.merge(userint, items, how=\"left\", left_on='entityId', right_on='id')[['accountId','details']]"
   ]
  },
  {
   "cell_type": "code",
   "execution_count": null,
   "id": "71b0b280-cc9b-4acc-ab89-35b09ed4087f",
   "metadata": {},
   "outputs": [],
   "source": [
    "userintitems['details']"
   ]
  },
  {
   "cell_type": "code",
   "execution_count": null,
   "id": "3834aec6-5662-4a87-bd55-36dd88457a05",
   "metadata": {},
   "outputs": [],
   "source": [
    "userintitems['details'] = userintitems['details'].fillna('')"
   ]
  },
  {
   "cell_type": "markdown",
   "id": "32627ee7-2aeb-434c-b1ae-2efe477df970",
   "metadata": {},
   "source": [
    "Converting all the items viewed by the user into a list"
   ]
  },
  {
   "cell_type": "code",
   "execution_count": null,
   "id": "d8fdfa1b-2eca-4db1-9c40-b954645463c5",
   "metadata": {},
   "outputs": [],
   "source": [
    "userintitems = userintitems.groupby('accountId')['details'].apply(list)"
   ]
  },
  {
   "cell_type": "code",
   "execution_count": null,
   "id": "afd72547-49d5-4b05-8670-b76c2340d3d4",
   "metadata": {},
   "outputs": [],
   "source": [
    "userintitems"
   ]
  },
  {
   "cell_type": "markdown",
   "id": "c7859e84-64ff-4e32-a96f-09ffac7cb99e",
   "metadata": {},
   "source": [
    "Combining the viewed item list and the user list to create one data frame for modeling"
   ]
  },
  {
   "cell_type": "code",
   "execution_count": null,
   "id": "eaddffe1-b3dc-4f4a-bc08-79f450c67742",
   "metadata": {},
   "outputs": [],
   "source": [
    "userfeatures = pd.merge(userintitems, user, on=\"accountId\")[['accountId','details','filter']]"
   ]
  },
  {
   "cell_type": "code",
   "execution_count": null,
   "id": "a3971ec8-7b7f-4bf1-b704-79d3291c2c97",
   "metadata": {},
   "outputs": [],
   "source": [
    "userfeatures"
   ]
  },
  {
   "cell_type": "markdown",
   "id": "cc56088f-310b-402c-b36f-6e8dee344a04",
   "metadata": {},
   "source": [
    "Combining the details column into a single string"
   ]
  },
  {
   "cell_type": "code",
   "execution_count": null,
   "id": "cf6ba24b-214d-424a-9187-9a4ba4a7d2fe",
   "metadata": {},
   "outputs": [],
   "source": [
    "import numpy as np"
   ]
  },
  {
   "cell_type": "code",
   "execution_count": null,
   "id": "41cac646-f941-4639-88b8-4539a9434202",
   "metadata": {},
   "outputs": [],
   "source": [
    "def itemdetails(rowitem):\n",
    "    #print(type(rowitem))\n",
    "    detailsstring = ''\n",
    "    for item in rowitem:\n",
    "        #item = literal_eval(item)\n",
    "        if not type(item)==float:\n",
    "            detailsstring = detailsstring + ' ' + item\n",
    "    return detailsstring\n",
    "    "
   ]
  },
  {
   "cell_type": "code",
   "execution_count": null,
   "id": "fd4de35c-ab3a-4831-83ab-24f45c7d4d82",
   "metadata": {},
   "outputs": [],
   "source": [
    "userfeatures['viewed'] = userfeatures['details'].apply(itemdetails)"
   ]
  },
  {
   "cell_type": "code",
   "execution_count": null,
   "id": "5f80fedd-fca1-417d-aa8c-b37ef5c85863",
   "metadata": {},
   "outputs": [],
   "source": [
    "userfeatures.head()"
   ]
  },
  {
   "cell_type": "markdown",
   "id": "6b03ca7a-1518-4df0-826c-b910c5f4f1ca",
   "metadata": {},
   "source": [
    "Combining the strings keywords and viewed items strings to create one main string"
   ]
  },
  {
   "cell_type": "code",
   "execution_count": null,
   "id": "deb8753d-c6df-4abb-a3c9-3218cee47c03",
   "metadata": {},
   "outputs": [],
   "source": [
    "userfeatures['finalfeatures'] = userfeatures['filter'] + userfeatures['viewed']"
   ]
  },
  {
   "cell_type": "code",
   "execution_count": null,
   "id": "3abca9e7-4bea-428d-a6da-75c5eed84469",
   "metadata": {},
   "outputs": [],
   "source": [
    "userfeatures['finalfeatures'].eq('').sum()"
   ]
  },
  {
   "cell_type": "code",
   "execution_count": null,
   "id": "21f833e1-50a1-4ad7-b717-743830d7e466",
   "metadata": {},
   "outputs": [],
   "source": [
    "userfeatures.head()"
   ]
  },
  {
   "cell_type": "code",
   "execution_count": null,
   "id": "455b9c4f-ab54-4154-aeb7-215c7d25611d",
   "metadata": {},
   "outputs": [],
   "source": [
    "features = userfeatures[userfeatures['finalfeatures']!=''].drop(columns=['details','filter', 'viewed'])"
   ]
  },
  {
   "cell_type": "markdown",
   "id": "7a52707c-fbd0-42d3-9971-d3cbc9fcde23",
   "metadata": {
    "tags": []
   },
   "source": [
    "# Recommender"
   ]
  },
  {
   "cell_type": "markdown",
   "id": "21566cfe-a710-4bc6-b2f5-9e4ac5a80f45",
   "metadata": {},
   "source": [
    "## Converting to vectors"
   ]
  },
  {
   "cell_type": "markdown",
   "id": "80e7ef44-2a2d-4654-9a8e-2e496d2c9d3b",
   "metadata": {},
   "source": [
    "Creating the tokenizer"
   ]
  },
  {
   "cell_type": "code",
   "execution_count": null,
   "id": "2d7d4b2f-cbbb-46db-8df2-f2373059376c",
   "metadata": {},
   "outputs": [],
   "source": [
    "import spacy\n",
    "nlp = spacy.load(\"en_core_web_sm\")"
   ]
  },
  {
   "cell_type": "code",
   "execution_count": null,
   "id": "f45f9aba-bcad-4888-97d0-515a1db83aa4",
   "metadata": {},
   "outputs": [],
   "source": [
    "def spacy_tokenizer(document):\n",
    "    tokens = nlp(document)\n",
    "    tokens = [token.lemma_.lower() for token in tokens if (\n",
    "        token.is_stop == False and \\\n",
    "        token.is_punct == False and \\\n",
    "        token.lemma_.strip()!= '')]\n",
    "    return tokens"
   ]
  },
  {
   "cell_type": "markdown",
   "id": "04fb261a-bc7f-4c8b-b28d-9c1b79194e51",
   "metadata": {},
   "source": [
    "Calling the count vectorizer"
   ]
  },
  {
   "cell_type": "code",
   "execution_count": null,
   "id": "93b9e779-d785-461f-8f20-faa6adea7210",
   "metadata": {},
   "outputs": [],
   "source": [
    "from sklearn.feature_extraction.text import CountVectorizer\n",
    "vector = CountVectorizer(input = 'content', tokenizer = spacy_tokenizer)"
   ]
  },
  {
   "cell_type": "code",
   "execution_count": null,
   "id": "6b3a09b9-dd79-462d-b124-cea2115956ea",
   "metadata": {},
   "outputs": [],
   "source": [
    "items['details'].count()"
   ]
  },
  {
   "cell_type": "markdown",
   "id": "1a2ba028-f9a0-4697-b71f-2e4d0884a121",
   "metadata": {},
   "source": [
    "Training the count vectorizer and transforming items"
   ]
  },
  {
   "cell_type": "code",
   "execution_count": null,
   "id": "0b95cc4c-bd79-4b2b-9df7-dcbf99089306",
   "metadata": {
    "tags": []
   },
   "outputs": [],
   "source": [
    "train_features = vector.fit_transform(items['details'].iloc[0:500].values)"
   ]
  },
  {
   "cell_type": "code",
   "execution_count": null,
   "id": "462ac462-141c-462a-a118-a9e409d6ccfd",
   "metadata": {},
   "outputs": [],
   "source": [
    "train_features"
   ]
  },
  {
   "cell_type": "markdown",
   "id": "8c4eeb78-cbdb-43b0-8667-13275f4a8ebf",
   "metadata": {},
   "source": [
    "Evaluating the nearest neighbours for a given user id"
   ]
  },
  {
   "cell_type": "code",
   "execution_count": null,
   "id": "67661e47-49ff-42f0-9acc-f447ee1f9cfc",
   "metadata": {},
   "outputs": [],
   "source": [
    "from sklearn.neighbors import NearestNeighbors"
   ]
  },
  {
   "cell_type": "code",
   "execution_count": null,
   "id": "d72f5b8a-1f93-417e-a73f-d74b65b39ba0",
   "metadata": {},
   "outputs": [],
   "source": [
    "from scipy.sparse import vstack, csr_matrix\n"
   ]
  },
  {
   "cell_type": "code",
   "execution_count": null,
   "id": "23ba3dab-dce1-4c14-b031-b38203a69032",
   "metadata": {},
   "outputs": [],
   "source": [
    "def similar(userid):\n",
    "    user_vector = vector.transform(features.loc[features['accountId']==userid]['finalfeatures'].values)\n",
    "    combined = vstack([user_vector,train_features])\n",
    "    nbrs = NearestNeighbors(n_neighbors=10, metric='cosine').fit(combined)                                                                                                                        \n",
    "    _, indices = nbrs.kneighbors(combined)    \n",
    "    ids = []\n",
    "    for i in indices[0][1:]:\n",
    "        ids.append(items['id'].iloc[i-1])\n",
    "    return ids"
   ]
  },
  {
   "cell_type": "code",
   "execution_count": 52,
   "id": "93dd1829-dd0f-46b2-8934-f0e62c7da7ce",
   "metadata": {
    "tags": []
   },
   "outputs": [
    {
     "data": {
      "text/plain": [
       "['7fd4658b-74a5-4978-87f1-33a24fa36c42',\n",
       " '9eb6e662-146f-4d5a-859d-40db8cddb4ec',\n",
       " 'aa29a50c-47c8-4f54-81e2-dca5f7e7a5d6',\n",
       " '71daccba-3e8a-471e-a4d2-acfafa4a5b8f',\n",
       " 'ff6a216f-4957-45b2-bc9f-3b9862d85a1b',\n",
       " '271d6ff7-3d09-4a84-993d-2d51a04a66f1',\n",
       " '0d98ce4d-fdb1-40a8-967d-dcc5c3db57ac',\n",
       " '4fe60e4b-15b0-4fb8-9da6-3cbf78bce866',\n",
       " 'c0d6f47f-2fdd-4ec4-bb88-6abb9d74b3a4']"
      ]
     },
     "execution_count": 52,
     "metadata": {},
     "output_type": "execute_result"
    }
   ],
   "source": [
    "similar('6076439132127629518')"
   ]
  },
  {
   "cell_type": "code",
   "execution_count": null,
   "id": "fe9a030c-2cd5-412b-9edc-4748f58b362f",
   "metadata": {},
   "outputs": [],
   "source": []
  }
 ],
 "metadata": {
  "kernelspec": {
   "display_name": "DS",
   "language": "python",
   "name": "ds"
  },
  "language_info": {
   "codemirror_mode": {
    "name": "ipython",
    "version": 3
   },
   "file_extension": ".py",
   "mimetype": "text/x-python",
   "name": "python",
   "nbconvert_exporter": "python",
   "pygments_lexer": "ipython3",
   "version": "3.11.1"
  }
 },
 "nbformat": 4,
 "nbformat_minor": 5
}

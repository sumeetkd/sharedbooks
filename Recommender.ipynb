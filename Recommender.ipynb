{
 "cells": [
  {
   "cell_type": "markdown",
   "id": "44c64ab7-9c56-4e72-8281-0c88a8cb91f2",
   "metadata": {},
   "source": [
    "# Ingesting data"
   ]
  },
  {
   "cell_type": "code",
   "execution_count": 4,
   "id": "ed711271-4404-42cb-893e-6706acb772d8",
   "metadata": {},
   "outputs": [],
   "source": [
    "import pandas as pd"
   ]
  },
  {
   "cell_type": "code",
   "execution_count": 5,
   "id": "0f2a617f-d84f-40cd-bdfb-1f9d32f943d0",
   "metadata": {},
   "outputs": [],
   "source": [
    "items = pd.read_csv(\n",
    "filepath_or_buffer='data/dataScienceAssignment/items.csv',\\\n",
    "# This is the file path of the csv\n",
    "# Give the column number that is to be used as index\n",
    "#index_col=,\\\n",
    "# Give the row numbers that have to be dropped when reading a data file\n",
    "#skiprows=,\\\n",
    "# na_values defaults include NaN, nan, null, n/a,\n",
    "na_values=['','nan'],\\\n",
    "# Get the column names from a header row\n",
    "header=0,\\\n",
    "    encoding='utf-8'\n",
    ")"
   ]
  },
  {
   "cell_type": "code",
   "execution_count": 6,
   "id": "637d2562-1775-45c6-8a71-e55359a93a72",
   "metadata": {},
   "outputs": [],
   "source": [
    "userint = pd.read_csv(\n",
    "filepath_or_buffer='data/dataScienceAssignment/userInteractions.csv',\\\n",
    "# This is the file path of the csv\n",
    "# Give the column number that is to be used as index\n",
    "#index_col=,\\\n",
    "# Give the row numbers that have to be dropped when reading a data file\n",
    "#skiprows=,\\\n",
    "# na_values defaults include NaN, nan, null, n/a,\n",
    "na_values=['','nan'],\\\n",
    "# Get the column names from a header row\n",
    "header=0,\\\n",
    "    encoding='utf-8'\n",
    ")"
   ]
  },
  {
   "cell_type": "code",
   "execution_count": 7,
   "id": "339e9f62-9b6b-4297-9cb8-d9588f0c96b6",
   "metadata": {},
   "outputs": [],
   "source": [
    "user = pd.read_csv(\n",
    "filepath_or_buffer='data/dataScienceAssignment/users.csv',\\\n",
    "# This is the file path of the csv\n",
    "# Give the column number that is to be used as index\n",
    "#index_col=,\\\n",
    "# Give the row numbers that have to be dropped when reading a data file\n",
    "#skiprows=,\\\n",
    "# na_values defaults include NaN, nan, null, n/a,\n",
    "na_values=['','nan'],\\\n",
    "# Get the column names from a header row\n",
    "header=0,\\\n",
    "    encoding='utf-8'\n",
    ")"
   ]
  },
  {
   "cell_type": "markdown",
   "id": "4c4f9b18-7004-44f0-ba59-3d2a9d1d0b28",
   "metadata": {},
   "source": [
    "## Viewing data"
   ]
  },
  {
   "cell_type": "code",
   "execution_count": 8,
   "id": "153f9a2f-5783-4539-bbf8-113af78364a6",
   "metadata": {},
   "outputs": [
    {
     "name": "stdout",
     "output_type": "stream",
     "text": [
      "<class 'pandas.core.frame.DataFrame'>\n",
      "RangeIndex: 7566 entries, 0 to 7565\n",
      "Data columns (total 2 columns):\n",
      " #   Column     Non-Null Count  Dtype \n",
      "---  ------     --------------  ----- \n",
      " 0   accountId  7566 non-null   object\n",
      " 1   filter     4161 non-null   object\n",
      "dtypes: object(2)\n",
      "memory usage: 118.3+ KB\n"
     ]
    }
   ],
   "source": [
    "user.info()"
   ]
  },
  {
   "cell_type": "code",
   "execution_count": 9,
   "id": "741c65b7-d8a5-4291-ad98-a46952eaf3bf",
   "metadata": {},
   "outputs": [
    {
     "name": "stdout",
     "output_type": "stream",
     "text": [
      "<class 'pandas.core.frame.DataFrame'>\n",
      "RangeIndex: 40466 entries, 0 to 40465\n",
      "Data columns (total 3 columns):\n",
      " #   Column     Non-Null Count  Dtype \n",
      "---  ------     --------------  ----- \n",
      " 0   activity   40466 non-null  object\n",
      " 1   entityId   40466 non-null  object\n",
      " 2   accountId  40466 non-null  object\n",
      "dtypes: object(3)\n",
      "memory usage: 948.5+ KB\n"
     ]
    }
   ],
   "source": [
    "userint.info()"
   ]
  },
  {
   "cell_type": "code",
   "execution_count": 10,
   "id": "a1b8eb48-f9d3-4ab0-82fb-4823ab7baa07",
   "metadata": {},
   "outputs": [
    {
     "data": {
      "text/html": [
       "<div>\n",
       "<style scoped>\n",
       "    .dataframe tbody tr th:only-of-type {\n",
       "        vertical-align: middle;\n",
       "    }\n",
       "\n",
       "    .dataframe tbody tr th {\n",
       "        vertical-align: top;\n",
       "    }\n",
       "\n",
       "    .dataframe thead th {\n",
       "        text-align: right;\n",
       "    }\n",
       "</style>\n",
       "<table border=\"1\" class=\"dataframe\">\n",
       "  <thead>\n",
       "    <tr style=\"text-align: right;\">\n",
       "      <th></th>\n",
       "      <th>activity</th>\n",
       "      <th>entityId</th>\n",
       "      <th>accountId</th>\n",
       "    </tr>\n",
       "  </thead>\n",
       "  <tbody>\n",
       "    <tr>\n",
       "      <th>0</th>\n",
       "      <td>VIEWED</td>\n",
       "      <td>6658c6db-7b22-4612-b14b-edcdfe3f61c4</td>\n",
       "      <td>794928084817024957</td>\n",
       "    </tr>\n",
       "    <tr>\n",
       "      <th>1</th>\n",
       "      <td>DOWNLOADED</td>\n",
       "      <td>0c5b4a9d-21c8-428b-bce4-ee27556ba49d</td>\n",
       "      <td>794929730519308433</td>\n",
       "    </tr>\n",
       "    <tr>\n",
       "      <th>2</th>\n",
       "      <td>VIEWED</td>\n",
       "      <td>0c5b4a9d-21c8-428b-bce4-ee27556ba49d</td>\n",
       "      <td>794929730519308433</td>\n",
       "    </tr>\n",
       "    <tr>\n",
       "      <th>3</th>\n",
       "      <td>DOWNLOADED</td>\n",
       "      <td>817f9dbd-c37c-4e47-af18-01d3c2d25e41</td>\n",
       "      <td>794934903824193736</td>\n",
       "    </tr>\n",
       "    <tr>\n",
       "      <th>4</th>\n",
       "      <td>VIEWED</td>\n",
       "      <td>817f9dbd-c37c-4e47-af18-01d3c2d25e41</td>\n",
       "      <td>794934903824193736</td>\n",
       "    </tr>\n",
       "  </tbody>\n",
       "</table>\n",
       "</div>"
      ],
      "text/plain": [
       "     activity                              entityId           accountId\n",
       "0      VIEWED  6658c6db-7b22-4612-b14b-edcdfe3f61c4  794928084817024957\n",
       "1  DOWNLOADED  0c5b4a9d-21c8-428b-bce4-ee27556ba49d  794929730519308433\n",
       "2      VIEWED  0c5b4a9d-21c8-428b-bce4-ee27556ba49d  794929730519308433\n",
       "3  DOWNLOADED  817f9dbd-c37c-4e47-af18-01d3c2d25e41  794934903824193736\n",
       "4      VIEWED  817f9dbd-c37c-4e47-af18-01d3c2d25e41  794934903824193736"
      ]
     },
     "execution_count": 10,
     "metadata": {},
     "output_type": "execute_result"
    }
   ],
   "source": [
    "userint.head()"
   ]
  },
  {
   "cell_type": "code",
   "execution_count": 11,
   "id": "be69b7a1-648a-42f5-8716-de45815853ad",
   "metadata": {},
   "outputs": [
    {
     "data": {
      "text/html": [
       "<div>\n",
       "<style scoped>\n",
       "    .dataframe tbody tr th:only-of-type {\n",
       "        vertical-align: middle;\n",
       "    }\n",
       "\n",
       "    .dataframe tbody tr th {\n",
       "        vertical-align: top;\n",
       "    }\n",
       "\n",
       "    .dataframe thead th {\n",
       "        text-align: right;\n",
       "    }\n",
       "</style>\n",
       "<table border=\"1\" class=\"dataframe\">\n",
       "  <thead>\n",
       "    <tr style=\"text-align: right;\">\n",
       "      <th></th>\n",
       "      <th>activity</th>\n",
       "      <th>entityId</th>\n",
       "      <th>accountId</th>\n",
       "    </tr>\n",
       "  </thead>\n",
       "  <tbody>\n",
       "    <tr>\n",
       "      <th>2</th>\n",
       "      <td>VIEWED</td>\n",
       "      <td>0c5b4a9d-21c8-428b-bce4-ee27556ba49d</td>\n",
       "      <td>794929730519308433</td>\n",
       "    </tr>\n",
       "    <tr>\n",
       "      <th>4</th>\n",
       "      <td>VIEWED</td>\n",
       "      <td>817f9dbd-c37c-4e47-af18-01d3c2d25e41</td>\n",
       "      <td>794934903824193736</td>\n",
       "    </tr>\n",
       "    <tr>\n",
       "      <th>22</th>\n",
       "      <td>DOWNLOADED</td>\n",
       "      <td>036dd6f5-88cd-4505-a6c5-d29c8cc6463d</td>\n",
       "      <td>6599911511613774475</td>\n",
       "    </tr>\n",
       "    <tr>\n",
       "      <th>30</th>\n",
       "      <td>DOWNLOADED</td>\n",
       "      <td>45c5d0ea-485b-4654-baa2-076b8d61388f</td>\n",
       "      <td>6757220641285345543</td>\n",
       "    </tr>\n",
       "    <tr>\n",
       "      <th>32</th>\n",
       "      <td>DOWNLOADED</td>\n",
       "      <td>ac9b2037-0e88-4c0f-8a9d-e562fa2bdd17</td>\n",
       "      <td>6757220641285345543</td>\n",
       "    </tr>\n",
       "    <tr>\n",
       "      <th>...</th>\n",
       "      <td>...</td>\n",
       "      <td>...</td>\n",
       "      <td>...</td>\n",
       "    </tr>\n",
       "    <tr>\n",
       "      <th>40449</th>\n",
       "      <td>VIEWED</td>\n",
       "      <td>0116f0a5-3885-4821-a5f3-f1fd6ca39083</td>\n",
       "      <td>797451534953617045</td>\n",
       "    </tr>\n",
       "    <tr>\n",
       "      <th>40456</th>\n",
       "      <td>DOWNLOADED</td>\n",
       "      <td>4c06581a-722e-4aa7-8fa6-2535e28dd9e5</td>\n",
       "      <td>797451534953617045</td>\n",
       "    </tr>\n",
       "    <tr>\n",
       "      <th>40457</th>\n",
       "      <td>VIEWED</td>\n",
       "      <td>00d87bc0-77ae-4983-bcdd-a5e45bb58288</td>\n",
       "      <td>797451534953617045</td>\n",
       "    </tr>\n",
       "    <tr>\n",
       "      <th>40458</th>\n",
       "      <td>VIEWED</td>\n",
       "      <td>018fa186-1907-40a6-b17d-f4298cf66775</td>\n",
       "      <td>797451534953617045</td>\n",
       "    </tr>\n",
       "    <tr>\n",
       "      <th>40465</th>\n",
       "      <td>DOWNLOADED</td>\n",
       "      <td>0039f6c3-def9-42fa-9668-202ad440b173</td>\n",
       "      <td>797467675436522636</td>\n",
       "    </tr>\n",
       "  </tbody>\n",
       "</table>\n",
       "<p>17520 rows × 3 columns</p>\n",
       "</div>"
      ],
      "text/plain": [
       "         activity                              entityId            accountId\n",
       "2          VIEWED  0c5b4a9d-21c8-428b-bce4-ee27556ba49d   794929730519308433\n",
       "4          VIEWED  817f9dbd-c37c-4e47-af18-01d3c2d25e41   794934903824193736\n",
       "22     DOWNLOADED  036dd6f5-88cd-4505-a6c5-d29c8cc6463d  6599911511613774475\n",
       "30     DOWNLOADED  45c5d0ea-485b-4654-baa2-076b8d61388f  6757220641285345543\n",
       "32     DOWNLOADED  ac9b2037-0e88-4c0f-8a9d-e562fa2bdd17  6757220641285345543\n",
       "...           ...                                   ...                  ...\n",
       "40449      VIEWED  0116f0a5-3885-4821-a5f3-f1fd6ca39083   797451534953617045\n",
       "40456  DOWNLOADED  4c06581a-722e-4aa7-8fa6-2535e28dd9e5   797451534953617045\n",
       "40457      VIEWED  00d87bc0-77ae-4983-bcdd-a5e45bb58288   797451534953617045\n",
       "40458      VIEWED  018fa186-1907-40a6-b17d-f4298cf66775   797451534953617045\n",
       "40465  DOWNLOADED  0039f6c3-def9-42fa-9668-202ad440b173   797467675436522636\n",
       "\n",
       "[17520 rows x 3 columns]"
      ]
     },
     "execution_count": 11,
     "metadata": {},
     "output_type": "execute_result"
    }
   ],
   "source": [
    "userint[userint.duplicated('entityId')]"
   ]
  },
  {
   "cell_type": "code",
   "execution_count": 12,
   "id": "4b5ad159-5ceb-491a-9859-86d788b50299",
   "metadata": {},
   "outputs": [
    {
     "data": {
      "text/html": [
       "<div>\n",
       "<style scoped>\n",
       "    .dataframe tbody tr th:only-of-type {\n",
       "        vertical-align: middle;\n",
       "    }\n",
       "\n",
       "    .dataframe tbody tr th {\n",
       "        vertical-align: top;\n",
       "    }\n",
       "\n",
       "    .dataframe thead th {\n",
       "        text-align: right;\n",
       "    }\n",
       "</style>\n",
       "<table border=\"1\" class=\"dataframe\">\n",
       "  <thead>\n",
       "    <tr style=\"text-align: right;\">\n",
       "      <th></th>\n",
       "      <th>activity</th>\n",
       "      <th>entityId</th>\n",
       "      <th>accountId</th>\n",
       "    </tr>\n",
       "  </thead>\n",
       "  <tbody>\n",
       "    <tr>\n",
       "      <th>2</th>\n",
       "      <td>VIEWED</td>\n",
       "      <td>0c5b4a9d-21c8-428b-bce4-ee27556ba49d</td>\n",
       "      <td>794929730519308433</td>\n",
       "    </tr>\n",
       "    <tr>\n",
       "      <th>4</th>\n",
       "      <td>VIEWED</td>\n",
       "      <td>817f9dbd-c37c-4e47-af18-01d3c2d25e41</td>\n",
       "      <td>794934903824193736</td>\n",
       "    </tr>\n",
       "    <tr>\n",
       "      <th>7</th>\n",
       "      <td>VIEWED</td>\n",
       "      <td>d9487346-91cc-4014-b299-5d70e80423ab</td>\n",
       "      <td>6599911511613774475</td>\n",
       "    </tr>\n",
       "    <tr>\n",
       "      <th>8</th>\n",
       "      <td>VIEWED</td>\n",
       "      <td>f8f5499c-7429-4877-97ca-317b29480219</td>\n",
       "      <td>6599911511613774475</td>\n",
       "    </tr>\n",
       "    <tr>\n",
       "      <th>9</th>\n",
       "      <td>VIEWED</td>\n",
       "      <td>6a33318f-308b-4c15-b2ce-838dd5ea4741</td>\n",
       "      <td>6599911511613774475</td>\n",
       "    </tr>\n",
       "    <tr>\n",
       "      <th>...</th>\n",
       "      <td>...</td>\n",
       "      <td>...</td>\n",
       "      <td>...</td>\n",
       "    </tr>\n",
       "    <tr>\n",
       "      <th>40459</th>\n",
       "      <td>VIEWED</td>\n",
       "      <td>cda06649-7f9a-4b9b-9ecc-9aa61927c14b</td>\n",
       "      <td>6716299819444345211</td>\n",
       "    </tr>\n",
       "    <tr>\n",
       "      <th>40460</th>\n",
       "      <td>VIEWED</td>\n",
       "      <td>bc1d3936-6792-4abe-9277-67912340470e</td>\n",
       "      <td>6716299819444345211</td>\n",
       "    </tr>\n",
       "    <tr>\n",
       "      <th>40461</th>\n",
       "      <td>VIEWED</td>\n",
       "      <td>18f3f612-a84d-4991-9a44-d83670d04216</td>\n",
       "      <td>6716299819444345211</td>\n",
       "    </tr>\n",
       "    <tr>\n",
       "      <th>40462</th>\n",
       "      <td>VIEWED</td>\n",
       "      <td>6be1cbf8-126a-402e-84a0-81b63d5cc4c5</td>\n",
       "      <td>6716299819444345211</td>\n",
       "    </tr>\n",
       "    <tr>\n",
       "      <th>40465</th>\n",
       "      <td>DOWNLOADED</td>\n",
       "      <td>0039f6c3-def9-42fa-9668-202ad440b173</td>\n",
       "      <td>797467675436522636</td>\n",
       "    </tr>\n",
       "  </tbody>\n",
       "</table>\n",
       "<p>32900 rows × 3 columns</p>\n",
       "</div>"
      ],
      "text/plain": [
       "         activity                              entityId            accountId\n",
       "2          VIEWED  0c5b4a9d-21c8-428b-bce4-ee27556ba49d   794929730519308433\n",
       "4          VIEWED  817f9dbd-c37c-4e47-af18-01d3c2d25e41   794934903824193736\n",
       "7          VIEWED  d9487346-91cc-4014-b299-5d70e80423ab  6599911511613774475\n",
       "8          VIEWED  f8f5499c-7429-4877-97ca-317b29480219  6599911511613774475\n",
       "9          VIEWED  6a33318f-308b-4c15-b2ce-838dd5ea4741  6599911511613774475\n",
       "...           ...                                   ...                  ...\n",
       "40459      VIEWED  cda06649-7f9a-4b9b-9ecc-9aa61927c14b  6716299819444345211\n",
       "40460      VIEWED  bc1d3936-6792-4abe-9277-67912340470e  6716299819444345211\n",
       "40461      VIEWED  18f3f612-a84d-4991-9a44-d83670d04216  6716299819444345211\n",
       "40462      VIEWED  6be1cbf8-126a-402e-84a0-81b63d5cc4c5  6716299819444345211\n",
       "40465  DOWNLOADED  0039f6c3-def9-42fa-9668-202ad440b173   797467675436522636\n",
       "\n",
       "[32900 rows x 3 columns]"
      ]
     },
     "execution_count": 12,
     "metadata": {},
     "output_type": "execute_result"
    }
   ],
   "source": [
    "userint[userint.duplicated('accountId')]"
   ]
  },
  {
   "cell_type": "markdown",
   "id": "7659ea24-57af-4308-8bb5-6427dff657f8",
   "metadata": {},
   "source": [
    "### Checking that there is an overlap between user and userint"
   ]
  },
  {
   "cell_type": "code",
   "execution_count": 13,
   "id": "1d0cc0d3-08bb-4f56-a4c4-6e6c599c4cce",
   "metadata": {},
   "outputs": [
    {
     "data": {
      "text/html": [
       "<div>\n",
       "<style scoped>\n",
       "    .dataframe tbody tr th:only-of-type {\n",
       "        vertical-align: middle;\n",
       "    }\n",
       "\n",
       "    .dataframe tbody tr th {\n",
       "        vertical-align: top;\n",
       "    }\n",
       "\n",
       "    .dataframe thead th {\n",
       "        text-align: right;\n",
       "    }\n",
       "</style>\n",
       "<table border=\"1\" class=\"dataframe\">\n",
       "  <thead>\n",
       "    <tr style=\"text-align: right;\">\n",
       "      <th></th>\n",
       "      <th>accountId</th>\n",
       "      <th>filter</th>\n",
       "    </tr>\n",
       "  </thead>\n",
       "  <tbody>\n",
       "    <tr>\n",
       "      <th>0</th>\n",
       "      <td>794928084817024957</td>\n",
       "      <td>{'KEYWORD': ['Delhi', 'House Keeping']}</td>\n",
       "    </tr>\n",
       "    <tr>\n",
       "      <th>1</th>\n",
       "      <td>794929730519308433</td>\n",
       "      <td>NaN</td>\n",
       "    </tr>\n",
       "    <tr>\n",
       "      <th>2</th>\n",
       "      <td>794934903824193736</td>\n",
       "      <td>{'KEYWORD': ['Power'], 'PURCHASER_NAME': ['GUN...</td>\n",
       "    </tr>\n",
       "    <tr>\n",
       "      <th>3</th>\n",
       "      <td>711046096666759540</td>\n",
       "      <td>{}</td>\n",
       "    </tr>\n",
       "    <tr>\n",
       "      <th>4</th>\n",
       "      <td>6599911511613774475</td>\n",
       "      <td>{'LOCATION_STRING': ['Kerala'], 'KEYWORD': ['a...</td>\n",
       "    </tr>\n",
       "    <tr>\n",
       "      <th>...</th>\n",
       "      <td>...</td>\n",
       "      <td>...</td>\n",
       "    </tr>\n",
       "    <tr>\n",
       "      <th>7561</th>\n",
       "      <td>6626837040359021976</td>\n",
       "      <td>NaN</td>\n",
       "    </tr>\n",
       "    <tr>\n",
       "      <th>7562</th>\n",
       "      <td>797451534953617045</td>\n",
       "      <td>{'KEYWORD': ['Software'], 'PURCHASER_NAME': []}</td>\n",
       "    </tr>\n",
       "    <tr>\n",
       "      <th>7563</th>\n",
       "      <td>797454655339632564</td>\n",
       "      <td>NaN</td>\n",
       "    </tr>\n",
       "    <tr>\n",
       "      <th>7564</th>\n",
       "      <td>797465021356448660</td>\n",
       "      <td>NaN</td>\n",
       "    </tr>\n",
       "    <tr>\n",
       "      <th>7565</th>\n",
       "      <td>797467675436522636</td>\n",
       "      <td>NaN</td>\n",
       "    </tr>\n",
       "  </tbody>\n",
       "</table>\n",
       "<p>7566 rows × 2 columns</p>\n",
       "</div>"
      ],
      "text/plain": [
       "                accountId                                             filter\n",
       "0      794928084817024957            {'KEYWORD': ['Delhi', 'House Keeping']}\n",
       "1      794929730519308433                                                NaN\n",
       "2      794934903824193736  {'KEYWORD': ['Power'], 'PURCHASER_NAME': ['GUN...\n",
       "3      711046096666759540                                                 {}\n",
       "4     6599911511613774475  {'LOCATION_STRING': ['Kerala'], 'KEYWORD': ['a...\n",
       "...                   ...                                                ...\n",
       "7561  6626837040359021976                                                NaN\n",
       "7562   797451534953617045    {'KEYWORD': ['Software'], 'PURCHASER_NAME': []}\n",
       "7563   797454655339632564                                                NaN\n",
       "7564   797465021356448660                                                NaN\n",
       "7565   797467675436522636                                                NaN\n",
       "\n",
       "[7566 rows x 2 columns]"
      ]
     },
     "execution_count": 13,
     "metadata": {},
     "output_type": "execute_result"
    }
   ],
   "source": [
    "user.loc[userint['accountId'].isin(user['accountId'].values)]"
   ]
  },
  {
   "cell_type": "code",
   "execution_count": 14,
   "id": "98fd4a36-3553-471d-b58e-fcc412693401",
   "metadata": {},
   "outputs": [
    {
     "data": {
      "text/html": [
       "<div>\n",
       "<style scoped>\n",
       "    .dataframe tbody tr th:only-of-type {\n",
       "        vertical-align: middle;\n",
       "    }\n",
       "\n",
       "    .dataframe tbody tr th {\n",
       "        vertical-align: top;\n",
       "    }\n",
       "\n",
       "    .dataframe thead th {\n",
       "        text-align: right;\n",
       "    }\n",
       "</style>\n",
       "<table border=\"1\" class=\"dataframe\">\n",
       "  <thead>\n",
       "    <tr style=\"text-align: right;\">\n",
       "      <th></th>\n",
       "      <th>activity</th>\n",
       "      <th>entityId</th>\n",
       "      <th>accountId</th>\n",
       "    </tr>\n",
       "  </thead>\n",
       "  <tbody>\n",
       "    <tr>\n",
       "      <th>0</th>\n",
       "      <td>VIEWED</td>\n",
       "      <td>6658c6db-7b22-4612-b14b-edcdfe3f61c4</td>\n",
       "      <td>794928084817024957</td>\n",
       "    </tr>\n",
       "    <tr>\n",
       "      <th>1</th>\n",
       "      <td>DOWNLOADED</td>\n",
       "      <td>0c5b4a9d-21c8-428b-bce4-ee27556ba49d</td>\n",
       "      <td>794929730519308433</td>\n",
       "    </tr>\n",
       "    <tr>\n",
       "      <th>2</th>\n",
       "      <td>VIEWED</td>\n",
       "      <td>0c5b4a9d-21c8-428b-bce4-ee27556ba49d</td>\n",
       "      <td>794929730519308433</td>\n",
       "    </tr>\n",
       "    <tr>\n",
       "      <th>3</th>\n",
       "      <td>DOWNLOADED</td>\n",
       "      <td>817f9dbd-c37c-4e47-af18-01d3c2d25e41</td>\n",
       "      <td>794934903824193736</td>\n",
       "    </tr>\n",
       "    <tr>\n",
       "      <th>4</th>\n",
       "      <td>VIEWED</td>\n",
       "      <td>817f9dbd-c37c-4e47-af18-01d3c2d25e41</td>\n",
       "      <td>794934903824193736</td>\n",
       "    </tr>\n",
       "    <tr>\n",
       "      <th>...</th>\n",
       "      <td>...</td>\n",
       "      <td>...</td>\n",
       "      <td>...</td>\n",
       "    </tr>\n",
       "    <tr>\n",
       "      <th>40461</th>\n",
       "      <td>VIEWED</td>\n",
       "      <td>18f3f612-a84d-4991-9a44-d83670d04216</td>\n",
       "      <td>6716299819444345211</td>\n",
       "    </tr>\n",
       "    <tr>\n",
       "      <th>40462</th>\n",
       "      <td>VIEWED</td>\n",
       "      <td>6be1cbf8-126a-402e-84a0-81b63d5cc4c5</td>\n",
       "      <td>6716299819444345211</td>\n",
       "    </tr>\n",
       "    <tr>\n",
       "      <th>40463</th>\n",
       "      <td>VIEWED</td>\n",
       "      <td>e171ceb0-9865-4fc7-802d-cd38661450ec</td>\n",
       "      <td>797465021356448660</td>\n",
       "    </tr>\n",
       "    <tr>\n",
       "      <th>40464</th>\n",
       "      <td>VIEWED</td>\n",
       "      <td>0039f6c3-def9-42fa-9668-202ad440b173</td>\n",
       "      <td>797467675436522636</td>\n",
       "    </tr>\n",
       "    <tr>\n",
       "      <th>40465</th>\n",
       "      <td>DOWNLOADED</td>\n",
       "      <td>0039f6c3-def9-42fa-9668-202ad440b173</td>\n",
       "      <td>797467675436522636</td>\n",
       "    </tr>\n",
       "  </tbody>\n",
       "</table>\n",
       "<p>40466 rows × 3 columns</p>\n",
       "</div>"
      ],
      "text/plain": [
       "         activity                              entityId            accountId\n",
       "0          VIEWED  6658c6db-7b22-4612-b14b-edcdfe3f61c4   794928084817024957\n",
       "1      DOWNLOADED  0c5b4a9d-21c8-428b-bce4-ee27556ba49d   794929730519308433\n",
       "2          VIEWED  0c5b4a9d-21c8-428b-bce4-ee27556ba49d   794929730519308433\n",
       "3      DOWNLOADED  817f9dbd-c37c-4e47-af18-01d3c2d25e41   794934903824193736\n",
       "4          VIEWED  817f9dbd-c37c-4e47-af18-01d3c2d25e41   794934903824193736\n",
       "...           ...                                   ...                  ...\n",
       "40461      VIEWED  18f3f612-a84d-4991-9a44-d83670d04216  6716299819444345211\n",
       "40462      VIEWED  6be1cbf8-126a-402e-84a0-81b63d5cc4c5  6716299819444345211\n",
       "40463      VIEWED  e171ceb0-9865-4fc7-802d-cd38661450ec   797465021356448660\n",
       "40464      VIEWED  0039f6c3-def9-42fa-9668-202ad440b173   797467675436522636\n",
       "40465  DOWNLOADED  0039f6c3-def9-42fa-9668-202ad440b173   797467675436522636\n",
       "\n",
       "[40466 rows x 3 columns]"
      ]
     },
     "execution_count": 14,
     "metadata": {},
     "output_type": "execute_result"
    }
   ],
   "source": [
    "userint.loc[userint['accountId'].isin(user['accountId'].values)]"
   ]
  },
  {
   "cell_type": "code",
   "execution_count": 15,
   "id": "b0c23263-dc3c-45c8-bb8c-11d79349533c",
   "metadata": {},
   "outputs": [
    {
     "data": {
      "text/html": [
       "<div>\n",
       "<style scoped>\n",
       "    .dataframe tbody tr th:only-of-type {\n",
       "        vertical-align: middle;\n",
       "    }\n",
       "\n",
       "    .dataframe tbody tr th {\n",
       "        vertical-align: top;\n",
       "    }\n",
       "\n",
       "    .dataframe thead th {\n",
       "        text-align: right;\n",
       "    }\n",
       "</style>\n",
       "<table border=\"1\" class=\"dataframe\">\n",
       "  <thead>\n",
       "    <tr style=\"text-align: right;\">\n",
       "      <th></th>\n",
       "      <th>id</th>\n",
       "      <th>authority</th>\n",
       "      <th>publishingDate</th>\n",
       "      <th>bidDeadline</th>\n",
       "      <th>value</th>\n",
       "      <th>emd</th>\n",
       "      <th>status</th>\n",
       "      <th>locations</th>\n",
       "      <th>details</th>\n",
       "    </tr>\n",
       "  </thead>\n",
       "  <tbody>\n",
       "    <tr>\n",
       "      <th>1</th>\n",
       "      <td>828d3851-105f-4c24-ae68-c5b24597c7e7</td>\n",
       "      <td>Jharkhand State Rural Road Development Authority</td>\n",
       "      <td>1.645247e+12</td>\n",
       "      <td>1.646048e+12</td>\n",
       "      <td>16861000.0</td>\n",
       "      <td>339000.0</td>\n",
       "      <td>PUBLISHED</td>\n",
       "      <td>[{'state': 'Jharkhand', 'city': 'Ranchi'}]</td>\n",
       "      <td>Repair And Maintenance Of Pmgsy Roads</td>\n",
       "    </tr>\n",
       "    <tr>\n",
       "      <th>3</th>\n",
       "      <td>836737ee-1d1d-4ae7-86f8-0c5abb8823c4</td>\n",
       "      <td>Jharkhand State Rural Road Development Authority</td>\n",
       "      <td>1.645247e+12</td>\n",
       "      <td>1.646048e+12</td>\n",
       "      <td>52264000.0</td>\n",
       "      <td>1045000.0</td>\n",
       "      <td>PUBLISHED</td>\n",
       "      <td>[{'state': 'Jharkhand', 'city': 'Garhwa'}]</td>\n",
       "      <td>Repair And Maintenance Of Pmgsy Roads</td>\n",
       "    </tr>\n",
       "    <tr>\n",
       "      <th>58</th>\n",
       "      <td>660d9359-a254-4b6c-ae9e-9b4e373ba41e</td>\n",
       "      <td>Public Works Department</td>\n",
       "      <td>1.645101e+12</td>\n",
       "      <td>1.646400e+12</td>\n",
       "      <td>2218721.0</td>\n",
       "      <td>23000.0</td>\n",
       "      <td>PUBLISHED</td>\n",
       "      <td>[{'state': 'Maharashtra', 'city': 'Nagpur'}]</td>\n",
       "      <td>Current Repairs To Furniture, Water Supply And...</td>\n",
       "    </tr>\n",
       "    <tr>\n",
       "      <th>60</th>\n",
       "      <td>e2c877db-03ca-4ed7-af2c-9c6ec0221e7b</td>\n",
       "      <td>National Health Mission</td>\n",
       "      <td>1.645101e+12</td>\n",
       "      <td>1.645673e+12</td>\n",
       "      <td>NaN</td>\n",
       "      <td>1978301.0</td>\n",
       "      <td>ARCHIVED</td>\n",
       "      <td>[{'state': 'Maharashtra', 'city': 'Mumbai'}]</td>\n",
       "      <td>Prov Transformer Work For Icu Ward Six Eight T...</td>\n",
       "    </tr>\n",
       "    <tr>\n",
       "      <th>62</th>\n",
       "      <td>fd897123-fd45-4e8c-b54e-fa81f4008036</td>\n",
       "      <td>Directorate Of Municipal Administration</td>\n",
       "      <td>1.645076e+12</td>\n",
       "      <td>1.646307e+12</td>\n",
       "      <td>439685.0</td>\n",
       "      <td>4396.0</td>\n",
       "      <td>PUBLISHED</td>\n",
       "      <td>[{'state': 'Maharashtra', 'city': 'Beed'}]</td>\n",
       "      <td>Proposed Development Of C.c. Road In Ward No 4...</td>\n",
       "    </tr>\n",
       "    <tr>\n",
       "      <th>...</th>\n",
       "      <td>...</td>\n",
       "      <td>...</td>\n",
       "      <td>...</td>\n",
       "      <td>...</td>\n",
       "      <td>...</td>\n",
       "      <td>...</td>\n",
       "      <td>...</td>\n",
       "      <td>...</td>\n",
       "      <td>...</td>\n",
       "    </tr>\n",
       "    <tr>\n",
       "      <th>75176</th>\n",
       "      <td>015f39ca-5fde-44cf-a7d1-57707285cda4</td>\n",
       "      <td>Defence Research And Development Organisation</td>\n",
       "      <td>1.645097e+12</td>\n",
       "      <td>1.646816e+12</td>\n",
       "      <td>NaN</td>\n",
       "      <td>NaN</td>\n",
       "      <td>PUBLISHED</td>\n",
       "      <td>[{'state': 'Tamil Nadu', 'city': 'Tiruvallur'}]</td>\n",
       "      <td>Preparation Of 3d Model , 2d Drawings And Prep...</td>\n",
       "    </tr>\n",
       "    <tr>\n",
       "      <th>75532</th>\n",
       "      <td>eb9bcac5-9401-426b-a807-71d1bf36eae9</td>\n",
       "      <td>Rural Development Department</td>\n",
       "      <td>1.640950e+12</td>\n",
       "      <td>1.646653e+12</td>\n",
       "      <td>6848901.0</td>\n",
       "      <td>68489.0</td>\n",
       "      <td>PUBLISHED</td>\n",
       "      <td>[{'state': 'Maharashtra', 'city': 'Satara'}]</td>\n",
       "      <td>Construction Of Pws Scheme At Dare Tarf Tamb, ...</td>\n",
       "    </tr>\n",
       "    <tr>\n",
       "      <th>75533</th>\n",
       "      <td>ff2d3391-fdcc-481d-a309-9f021d7124d3</td>\n",
       "      <td>Nashik Municipal Corporation</td>\n",
       "      <td>1.639143e+12</td>\n",
       "      <td>1.646656e+12</td>\n",
       "      <td>NaN</td>\n",
       "      <td>6400000.0</td>\n",
       "      <td>PUBLISHED</td>\n",
       "      <td>[{'state': 'Maharashtra', 'city': 'Nashik'}]</td>\n",
       "      <td>Design And Redevelopment Of Water Treatment Pl...</td>\n",
       "    </tr>\n",
       "    <tr>\n",
       "      <th>75643</th>\n",
       "      <td>2af32db9-08fa-480b-bf7c-10c6c2c47495</td>\n",
       "      <td>Haryana Board Corporation</td>\n",
       "      <td>1.643949e+12</td>\n",
       "      <td>1.646041e+12</td>\n",
       "      <td>NaN</td>\n",
       "      <td>50000.0</td>\n",
       "      <td>PUBLISHED</td>\n",
       "      <td>[{'state': 'Haryana', 'city': 'Faridabad'}]</td>\n",
       "      <td>Hiring Of Pickup Van For Milk Route 168 Indri</td>\n",
       "    </tr>\n",
       "    <tr>\n",
       "      <th>76028</th>\n",
       "      <td>0edd361a-71d0-4dd7-af0a-d5060d52668f</td>\n",
       "      <td>South 24 Parganas Zilla Parisad</td>\n",
       "      <td>1.645015e+12</td>\n",
       "      <td>1.646210e+12</td>\n",
       "      <td>396345.0</td>\n",
       "      <td>7927.0</td>\n",
       "      <td>PUBLISHED</td>\n",
       "      <td>[{'state': 'West Bengal', 'city': 'South 24 Pa...</td>\n",
       "      <td>Construction Of Dining Hall Model1 60 Capacity...</td>\n",
       "    </tr>\n",
       "  </tbody>\n",
       "</table>\n",
       "<p>6397 rows × 9 columns</p>\n",
       "</div>"
      ],
      "text/plain": [
       "                                         id  \\\n",
       "1      828d3851-105f-4c24-ae68-c5b24597c7e7   \n",
       "3      836737ee-1d1d-4ae7-86f8-0c5abb8823c4   \n",
       "58     660d9359-a254-4b6c-ae9e-9b4e373ba41e   \n",
       "60     e2c877db-03ca-4ed7-af2c-9c6ec0221e7b   \n",
       "62     fd897123-fd45-4e8c-b54e-fa81f4008036   \n",
       "...                                     ...   \n",
       "75176  015f39ca-5fde-44cf-a7d1-57707285cda4   \n",
       "75532  eb9bcac5-9401-426b-a807-71d1bf36eae9   \n",
       "75533  ff2d3391-fdcc-481d-a309-9f021d7124d3   \n",
       "75643  2af32db9-08fa-480b-bf7c-10c6c2c47495   \n",
       "76028  0edd361a-71d0-4dd7-af0a-d5060d52668f   \n",
       "\n",
       "                                              authority  publishingDate  \\\n",
       "1      Jharkhand State Rural Road Development Authority    1.645247e+12   \n",
       "3      Jharkhand State Rural Road Development Authority    1.645247e+12   \n",
       "58                              Public Works Department    1.645101e+12   \n",
       "60                              National Health Mission    1.645101e+12   \n",
       "62              Directorate Of Municipal Administration    1.645076e+12   \n",
       "...                                                 ...             ...   \n",
       "75176     Defence Research And Development Organisation    1.645097e+12   \n",
       "75532                      Rural Development Department    1.640950e+12   \n",
       "75533                      Nashik Municipal Corporation    1.639143e+12   \n",
       "75643                         Haryana Board Corporation    1.643949e+12   \n",
       "76028                   South 24 Parganas Zilla Parisad    1.645015e+12   \n",
       "\n",
       "        bidDeadline       value        emd     status  \\\n",
       "1      1.646048e+12  16861000.0   339000.0  PUBLISHED   \n",
       "3      1.646048e+12  52264000.0  1045000.0  PUBLISHED   \n",
       "58     1.646400e+12   2218721.0    23000.0  PUBLISHED   \n",
       "60     1.645673e+12         NaN  1978301.0   ARCHIVED   \n",
       "62     1.646307e+12    439685.0     4396.0  PUBLISHED   \n",
       "...             ...         ...        ...        ...   \n",
       "75176  1.646816e+12         NaN        NaN  PUBLISHED   \n",
       "75532  1.646653e+12   6848901.0    68489.0  PUBLISHED   \n",
       "75533  1.646656e+12         NaN  6400000.0  PUBLISHED   \n",
       "75643  1.646041e+12         NaN    50000.0  PUBLISHED   \n",
       "76028  1.646210e+12    396345.0     7927.0  PUBLISHED   \n",
       "\n",
       "                                               locations  \\\n",
       "1             [{'state': 'Jharkhand', 'city': 'Ranchi'}]   \n",
       "3             [{'state': 'Jharkhand', 'city': 'Garhwa'}]   \n",
       "58          [{'state': 'Maharashtra', 'city': 'Nagpur'}]   \n",
       "60          [{'state': 'Maharashtra', 'city': 'Mumbai'}]   \n",
       "62            [{'state': 'Maharashtra', 'city': 'Beed'}]   \n",
       "...                                                  ...   \n",
       "75176    [{'state': 'Tamil Nadu', 'city': 'Tiruvallur'}]   \n",
       "75532       [{'state': 'Maharashtra', 'city': 'Satara'}]   \n",
       "75533       [{'state': 'Maharashtra', 'city': 'Nashik'}]   \n",
       "75643        [{'state': 'Haryana', 'city': 'Faridabad'}]   \n",
       "76028  [{'state': 'West Bengal', 'city': 'South 24 Pa...   \n",
       "\n",
       "                                                 details  \n",
       "1                  Repair And Maintenance Of Pmgsy Roads  \n",
       "3                  Repair And Maintenance Of Pmgsy Roads  \n",
       "58     Current Repairs To Furniture, Water Supply And...  \n",
       "60     Prov Transformer Work For Icu Ward Six Eight T...  \n",
       "62     Proposed Development Of C.c. Road In Ward No 4...  \n",
       "...                                                  ...  \n",
       "75176  Preparation Of 3d Model , 2d Drawings And Prep...  \n",
       "75532  Construction Of Pws Scheme At Dare Tarf Tamb, ...  \n",
       "75533  Design And Redevelopment Of Water Treatment Pl...  \n",
       "75643      Hiring Of Pickup Van For Milk Route 168 Indri  \n",
       "76028  Construction Of Dining Hall Model1 60 Capacity...  \n",
       "\n",
       "[6397 rows x 9 columns]"
      ]
     },
     "execution_count": 15,
     "metadata": {},
     "output_type": "execute_result"
    }
   ],
   "source": [
    "items.loc[items['id'].isin(userint['entityId'].values)]"
   ]
  },
  {
   "cell_type": "markdown",
   "id": "229121d5-6f27-448c-83b3-8a89442e88ed",
   "metadata": {},
   "source": [
    "# Feature engineering"
   ]
  },
  {
   "cell_type": "markdown",
   "id": "75efa2f9-8109-4eb2-8a27-f15dfbab2418",
   "metadata": {
    "tags": []
   },
   "source": [
    "## User keywords"
   ]
  },
  {
   "cell_type": "code",
   "execution_count": 16,
   "id": "79de56fb-bc79-4bdb-8d41-076fc0e8b938",
   "metadata": {},
   "outputs": [
    {
     "data": {
      "text/html": [
       "<div>\n",
       "<style scoped>\n",
       "    .dataframe tbody tr th:only-of-type {\n",
       "        vertical-align: middle;\n",
       "    }\n",
       "\n",
       "    .dataframe tbody tr th {\n",
       "        vertical-align: top;\n",
       "    }\n",
       "\n",
       "    .dataframe thead th {\n",
       "        text-align: right;\n",
       "    }\n",
       "</style>\n",
       "<table border=\"1\" class=\"dataframe\">\n",
       "  <thead>\n",
       "    <tr style=\"text-align: right;\">\n",
       "      <th></th>\n",
       "      <th>accountId</th>\n",
       "      <th>filter</th>\n",
       "    </tr>\n",
       "  </thead>\n",
       "  <tbody>\n",
       "    <tr>\n",
       "      <th>0</th>\n",
       "      <td>794928084817024957</td>\n",
       "      <td>{'KEYWORD': ['Delhi', 'House Keeping']}</td>\n",
       "    </tr>\n",
       "    <tr>\n",
       "      <th>1</th>\n",
       "      <td>794929730519308433</td>\n",
       "      <td>NaN</td>\n",
       "    </tr>\n",
       "    <tr>\n",
       "      <th>2</th>\n",
       "      <td>794934903824193736</td>\n",
       "      <td>{'KEYWORD': ['Power'], 'PURCHASER_NAME': ['GUN...</td>\n",
       "    </tr>\n",
       "    <tr>\n",
       "      <th>3</th>\n",
       "      <td>711046096666759540</td>\n",
       "      <td>{}</td>\n",
       "    </tr>\n",
       "    <tr>\n",
       "      <th>4</th>\n",
       "      <td>6599911511613774475</td>\n",
       "      <td>{'LOCATION_STRING': ['Kerala'], 'KEYWORD': ['a...</td>\n",
       "    </tr>\n",
       "  </tbody>\n",
       "</table>\n",
       "</div>"
      ],
      "text/plain": [
       "             accountId                                             filter\n",
       "0   794928084817024957            {'KEYWORD': ['Delhi', 'House Keeping']}\n",
       "1   794929730519308433                                                NaN\n",
       "2   794934903824193736  {'KEYWORD': ['Power'], 'PURCHASER_NAME': ['GUN...\n",
       "3   711046096666759540                                                 {}\n",
       "4  6599911511613774475  {'LOCATION_STRING': ['Kerala'], 'KEYWORD': ['a..."
      ]
     },
     "execution_count": 16,
     "metadata": {},
     "output_type": "execute_result"
    }
   ],
   "source": [
    "user.head()"
   ]
  },
  {
   "cell_type": "code",
   "execution_count": 17,
   "id": "f23532e1-3047-414a-beb3-528ac4fe4088",
   "metadata": {},
   "outputs": [
    {
     "data": {
      "text/plain": [
       "\"{'KEYWORD': ['Cement', 'Construction', 'Road', 'Supply', 'Uttar Pradesh']}\""
      ]
     },
     "execution_count": 17,
     "metadata": {},
     "output_type": "execute_result"
    }
   ],
   "source": [
    "user['filter'][20]"
   ]
  },
  {
   "cell_type": "code",
   "execution_count": 18,
   "id": "f93dd8e2-4e04-411c-a3a2-9380a0d1c458",
   "metadata": {},
   "outputs": [],
   "source": [
    "user['filter'].fillna('{}',inplace=True)"
   ]
  },
  {
   "cell_type": "code",
   "execution_count": 19,
   "id": "17c36fbd-3824-45fd-a6ca-2c2c2c571fa3",
   "metadata": {},
   "outputs": [],
   "source": [
    "from ast import literal_eval"
   ]
  },
  {
   "cell_type": "code",
   "execution_count": 20,
   "id": "1a2dfe6c-8631-48aa-9213-5969f50e54b2",
   "metadata": {},
   "outputs": [],
   "source": [
    "def user_keywords(rowitem):\n",
    "    pylist = literal_eval(rowitem)\n",
    "    if 'KEYWORD' in pylist.keys():\n",
    "        keywords = pylist['KEYWORD']\n",
    "        string = ' '.join(keywords)\n",
    "        return string\n",
    "    else:\n",
    "        return ''"
   ]
  },
  {
   "cell_type": "code",
   "execution_count": 21,
   "id": "adb92544-e6cc-4a5f-a1e2-bab742866301",
   "metadata": {
    "tags": []
   },
   "outputs": [],
   "source": [
    "user['filter'] = user['filter'].map(user_keywords)"
   ]
  },
  {
   "cell_type": "markdown",
   "id": "7b4dd473-0a7f-4e8d-a831-2ef254179a66",
   "metadata": {
    "tags": []
   },
   "source": [
    "## Items "
   ]
  },
  {
   "cell_type": "code",
   "execution_count": 22,
   "id": "8d0eb322-f2e3-4c23-a92a-cdd988dd34a3",
   "metadata": {},
   "outputs": [
    {
     "data": {
      "text/html": [
       "<div>\n",
       "<style scoped>\n",
       "    .dataframe tbody tr th:only-of-type {\n",
       "        vertical-align: middle;\n",
       "    }\n",
       "\n",
       "    .dataframe tbody tr th {\n",
       "        vertical-align: top;\n",
       "    }\n",
       "\n",
       "    .dataframe thead th {\n",
       "        text-align: right;\n",
       "    }\n",
       "</style>\n",
       "<table border=\"1\" class=\"dataframe\">\n",
       "  <thead>\n",
       "    <tr style=\"text-align: right;\">\n",
       "      <th></th>\n",
       "      <th>id</th>\n",
       "      <th>authority</th>\n",
       "      <th>publishingDate</th>\n",
       "      <th>bidDeadline</th>\n",
       "      <th>value</th>\n",
       "      <th>emd</th>\n",
       "      <th>status</th>\n",
       "      <th>locations</th>\n",
       "      <th>details</th>\n",
       "    </tr>\n",
       "  </thead>\n",
       "  <tbody>\n",
       "    <tr>\n",
       "      <th>0</th>\n",
       "      <td>7e5e42eb-de7d-4b63-bd8c-9a842c445e66</td>\n",
       "      <td>Directorate Of Rural Development</td>\n",
       "      <td>1.645277e+12</td>\n",
       "      <td>1.645787e+12</td>\n",
       "      <td>300000.0</td>\n",
       "      <td>6000.0</td>\n",
       "      <td>CANCELLED</td>\n",
       "      <td>[{'state': 'Jammu &amp; Kashmir', 'city': 'Kathua'}]</td>\n",
       "      <td>Construction Of Community Sanitary Complex Uni...</td>\n",
       "    </tr>\n",
       "    <tr>\n",
       "      <th>1</th>\n",
       "      <td>828d3851-105f-4c24-ae68-c5b24597c7e7</td>\n",
       "      <td>Jharkhand State Rural Road Development Authority</td>\n",
       "      <td>1.645247e+12</td>\n",
       "      <td>1.646048e+12</td>\n",
       "      <td>16861000.0</td>\n",
       "      <td>339000.0</td>\n",
       "      <td>PUBLISHED</td>\n",
       "      <td>[{'state': 'Jharkhand', 'city': 'Ranchi'}]</td>\n",
       "      <td>Repair And Maintenance Of Pmgsy Roads</td>\n",
       "    </tr>\n",
       "    <tr>\n",
       "      <th>2</th>\n",
       "      <td>673074b9-8592-4682-a4e4-ee388a1d86c5</td>\n",
       "      <td>Jharkhand State Rural Road Development Authority</td>\n",
       "      <td>1.645247e+12</td>\n",
       "      <td>1.646048e+12</td>\n",
       "      <td>32778000.0</td>\n",
       "      <td>656000.0</td>\n",
       "      <td>PUBLISHED</td>\n",
       "      <td>[{'state': 'Jharkhand', 'city': 'West Singhbhu...</td>\n",
       "      <td>Repair And Maintenance Of Pmgsy Roads</td>\n",
       "    </tr>\n",
       "    <tr>\n",
       "      <th>3</th>\n",
       "      <td>836737ee-1d1d-4ae7-86f8-0c5abb8823c4</td>\n",
       "      <td>Jharkhand State Rural Road Development Authority</td>\n",
       "      <td>1.645247e+12</td>\n",
       "      <td>1.646048e+12</td>\n",
       "      <td>52264000.0</td>\n",
       "      <td>1045000.0</td>\n",
       "      <td>PUBLISHED</td>\n",
       "      <td>[{'state': 'Jharkhand', 'city': 'Garhwa'}]</td>\n",
       "      <td>Repair And Maintenance Of Pmgsy Roads</td>\n",
       "    </tr>\n",
       "    <tr>\n",
       "      <th>4</th>\n",
       "      <td>929d94a1-0921-4625-9630-2720ee762f50</td>\n",
       "      <td>Rural Development Department</td>\n",
       "      <td>1.645270e+12</td>\n",
       "      <td>1.645760e+12</td>\n",
       "      <td>375755.0</td>\n",
       "      <td>NaN</td>\n",
       "      <td>ARCHIVED</td>\n",
       "      <td>[{'state': 'Maharashtra', 'city': 'Nanded'}]</td>\n",
       "      <td>Construction Of Closed C.c. Drain / Road At Da...</td>\n",
       "    </tr>\n",
       "  </tbody>\n",
       "</table>\n",
       "</div>"
      ],
      "text/plain": [
       "                                     id  \\\n",
       "0  7e5e42eb-de7d-4b63-bd8c-9a842c445e66   \n",
       "1  828d3851-105f-4c24-ae68-c5b24597c7e7   \n",
       "2  673074b9-8592-4682-a4e4-ee388a1d86c5   \n",
       "3  836737ee-1d1d-4ae7-86f8-0c5abb8823c4   \n",
       "4  929d94a1-0921-4625-9630-2720ee762f50   \n",
       "\n",
       "                                          authority  publishingDate  \\\n",
       "0                  Directorate Of Rural Development    1.645277e+12   \n",
       "1  Jharkhand State Rural Road Development Authority    1.645247e+12   \n",
       "2  Jharkhand State Rural Road Development Authority    1.645247e+12   \n",
       "3  Jharkhand State Rural Road Development Authority    1.645247e+12   \n",
       "4                      Rural Development Department    1.645270e+12   \n",
       "\n",
       "    bidDeadline       value        emd     status  \\\n",
       "0  1.645787e+12    300000.0     6000.0  CANCELLED   \n",
       "1  1.646048e+12  16861000.0   339000.0  PUBLISHED   \n",
       "2  1.646048e+12  32778000.0   656000.0  PUBLISHED   \n",
       "3  1.646048e+12  52264000.0  1045000.0  PUBLISHED   \n",
       "4  1.645760e+12    375755.0        NaN   ARCHIVED   \n",
       "\n",
       "                                           locations  \\\n",
       "0   [{'state': 'Jammu & Kashmir', 'city': 'Kathua'}]   \n",
       "1         [{'state': 'Jharkhand', 'city': 'Ranchi'}]   \n",
       "2  [{'state': 'Jharkhand', 'city': 'West Singhbhu...   \n",
       "3         [{'state': 'Jharkhand', 'city': 'Garhwa'}]   \n",
       "4       [{'state': 'Maharashtra', 'city': 'Nanded'}]   \n",
       "\n",
       "                                             details  \n",
       "0  Construction Of Community Sanitary Complex Uni...  \n",
       "1              Repair And Maintenance Of Pmgsy Roads  \n",
       "2              Repair And Maintenance Of Pmgsy Roads  \n",
       "3              Repair And Maintenance Of Pmgsy Roads  \n",
       "4  Construction Of Closed C.c. Drain / Road At Da...  "
      ]
     },
     "execution_count": 22,
     "metadata": {},
     "output_type": "execute_result"
    }
   ],
   "source": [
    "items.head()"
   ]
  },
  {
   "cell_type": "code",
   "execution_count": 23,
   "id": "de584cb6-ecd0-4bfd-ba4d-0be5611b403f",
   "metadata": {},
   "outputs": [],
   "source": [
    "items['details'].fillna('',inplace=True)"
   ]
  },
  {
   "cell_type": "code",
   "execution_count": 24,
   "id": "396ad555-15c3-4f82-b450-f7ae4a202bcb",
   "metadata": {},
   "outputs": [
    {
     "data": {
      "text/plain": [
       "51"
      ]
     },
     "execution_count": 24,
     "metadata": {},
     "output_type": "execute_result"
    }
   ],
   "source": [
    "items['details'].eq('').sum()"
   ]
  },
  {
   "cell_type": "code",
   "execution_count": 25,
   "id": "8b0d3ef5-813f-4ba7-a6ca-19c462f887d9",
   "metadata": {},
   "outputs": [],
   "source": [
    "itemfeatures = items[items['details'] != ''][['id','details']]"
   ]
  },
  {
   "cell_type": "code",
   "execution_count": 26,
   "id": "0a7efdbf-bb7b-4a6b-b4c6-a5d61cb1335a",
   "metadata": {},
   "outputs": [
    {
     "data": {
      "text/html": [
       "<div>\n",
       "<style scoped>\n",
       "    .dataframe tbody tr th:only-of-type {\n",
       "        vertical-align: middle;\n",
       "    }\n",
       "\n",
       "    .dataframe tbody tr th {\n",
       "        vertical-align: top;\n",
       "    }\n",
       "\n",
       "    .dataframe thead th {\n",
       "        text-align: right;\n",
       "    }\n",
       "</style>\n",
       "<table border=\"1\" class=\"dataframe\">\n",
       "  <thead>\n",
       "    <tr style=\"text-align: right;\">\n",
       "      <th></th>\n",
       "      <th>id</th>\n",
       "      <th>details</th>\n",
       "    </tr>\n",
       "  </thead>\n",
       "  <tbody>\n",
       "    <tr>\n",
       "      <th>0</th>\n",
       "      <td>7e5e42eb-de7d-4b63-bd8c-9a842c445e66</td>\n",
       "      <td>Construction Of Community Sanitary Complex Uni...</td>\n",
       "    </tr>\n",
       "    <tr>\n",
       "      <th>1</th>\n",
       "      <td>828d3851-105f-4c24-ae68-c5b24597c7e7</td>\n",
       "      <td>Repair And Maintenance Of Pmgsy Roads</td>\n",
       "    </tr>\n",
       "    <tr>\n",
       "      <th>2</th>\n",
       "      <td>673074b9-8592-4682-a4e4-ee388a1d86c5</td>\n",
       "      <td>Repair And Maintenance Of Pmgsy Roads</td>\n",
       "    </tr>\n",
       "    <tr>\n",
       "      <th>3</th>\n",
       "      <td>836737ee-1d1d-4ae7-86f8-0c5abb8823c4</td>\n",
       "      <td>Repair And Maintenance Of Pmgsy Roads</td>\n",
       "    </tr>\n",
       "    <tr>\n",
       "      <th>4</th>\n",
       "      <td>929d94a1-0921-4625-9630-2720ee762f50</td>\n",
       "      <td>Construction Of Closed C.c. Drain / Road At Da...</td>\n",
       "    </tr>\n",
       "    <tr>\n",
       "      <th>...</th>\n",
       "      <td>...</td>\n",
       "      <td>...</td>\n",
       "    </tr>\n",
       "    <tr>\n",
       "      <th>76218</th>\n",
       "      <td>bd11be68-f400-4d67-a1c4-bed99c74b49c</td>\n",
       "      <td>Latrin Bathroom At Ward No 5 And 6 Under Head ...</td>\n",
       "    </tr>\n",
       "    <tr>\n",
       "      <th>76219</th>\n",
       "      <td>93ff0af1-7ca6-4ec1-94e6-2440c9fc487b</td>\n",
       "      <td>Const.of Class Room At Darote M S In Pyt. Juda...</td>\n",
       "    </tr>\n",
       "    <tr>\n",
       "      <th>76220</th>\n",
       "      <td>73081412-1500-41c5-b667-827f6ea458c3</td>\n",
       "      <td>Providing, Instt., Testing And Comm. Of P/mach...</td>\n",
       "    </tr>\n",
       "    <tr>\n",
       "      <th>76221</th>\n",
       "      <td>adb5de46-82cc-4757-a686-1612823b5028</td>\n",
       "      <td>Installation Of Solar Street Lights Across Sar...</td>\n",
       "    </tr>\n",
       "    <tr>\n",
       "      <th>76222</th>\n",
       "      <td>9faa0002-fa86-4c38-8f07-1713c092e833</td>\n",
       "      <td>Complete Cleaning , Servicing And Repairing Of...</td>\n",
       "    </tr>\n",
       "  </tbody>\n",
       "</table>\n",
       "<p>76172 rows × 2 columns</p>\n",
       "</div>"
      ],
      "text/plain": [
       "                                         id  \\\n",
       "0      7e5e42eb-de7d-4b63-bd8c-9a842c445e66   \n",
       "1      828d3851-105f-4c24-ae68-c5b24597c7e7   \n",
       "2      673074b9-8592-4682-a4e4-ee388a1d86c5   \n",
       "3      836737ee-1d1d-4ae7-86f8-0c5abb8823c4   \n",
       "4      929d94a1-0921-4625-9630-2720ee762f50   \n",
       "...                                     ...   \n",
       "76218  bd11be68-f400-4d67-a1c4-bed99c74b49c   \n",
       "76219  93ff0af1-7ca6-4ec1-94e6-2440c9fc487b   \n",
       "76220  73081412-1500-41c5-b667-827f6ea458c3   \n",
       "76221  adb5de46-82cc-4757-a686-1612823b5028   \n",
       "76222  9faa0002-fa86-4c38-8f07-1713c092e833   \n",
       "\n",
       "                                                 details  \n",
       "0      Construction Of Community Sanitary Complex Uni...  \n",
       "1                  Repair And Maintenance Of Pmgsy Roads  \n",
       "2                  Repair And Maintenance Of Pmgsy Roads  \n",
       "3                  Repair And Maintenance Of Pmgsy Roads  \n",
       "4      Construction Of Closed C.c. Drain / Road At Da...  \n",
       "...                                                  ...  \n",
       "76218  Latrin Bathroom At Ward No 5 And 6 Under Head ...  \n",
       "76219  Const.of Class Room At Darote M S In Pyt. Juda...  \n",
       "76220  Providing, Instt., Testing And Comm. Of P/mach...  \n",
       "76221  Installation Of Solar Street Lights Across Sar...  \n",
       "76222  Complete Cleaning , Servicing And Repairing Of...  \n",
       "\n",
       "[76172 rows x 2 columns]"
      ]
     },
     "execution_count": 26,
     "metadata": {},
     "output_type": "execute_result"
    }
   ],
   "source": [
    "itemfeatures"
   ]
  },
  {
   "cell_type": "markdown",
   "id": "6f6db6a8-30a3-4334-aff2-22c60e7f7174",
   "metadata": {
    "tags": []
   },
   "source": [
    "## Create user features"
   ]
  },
  {
   "cell_type": "code",
   "execution_count": 27,
   "id": "228be7c4-6857-4010-96fb-e1052a6a80c6",
   "metadata": {},
   "outputs": [
    {
     "data": {
      "text/html": [
       "<div>\n",
       "<style scoped>\n",
       "    .dataframe tbody tr th:only-of-type {\n",
       "        vertical-align: middle;\n",
       "    }\n",
       "\n",
       "    .dataframe tbody tr th {\n",
       "        vertical-align: top;\n",
       "    }\n",
       "\n",
       "    .dataframe thead th {\n",
       "        text-align: right;\n",
       "    }\n",
       "</style>\n",
       "<table border=\"1\" class=\"dataframe\">\n",
       "  <thead>\n",
       "    <tr style=\"text-align: right;\">\n",
       "      <th></th>\n",
       "      <th>activity</th>\n",
       "      <th>entityId</th>\n",
       "      <th>accountId</th>\n",
       "    </tr>\n",
       "  </thead>\n",
       "  <tbody>\n",
       "    <tr>\n",
       "      <th>0</th>\n",
       "      <td>VIEWED</td>\n",
       "      <td>6658c6db-7b22-4612-b14b-edcdfe3f61c4</td>\n",
       "      <td>794928084817024957</td>\n",
       "    </tr>\n",
       "    <tr>\n",
       "      <th>1</th>\n",
       "      <td>DOWNLOADED</td>\n",
       "      <td>0c5b4a9d-21c8-428b-bce4-ee27556ba49d</td>\n",
       "      <td>794929730519308433</td>\n",
       "    </tr>\n",
       "    <tr>\n",
       "      <th>2</th>\n",
       "      <td>VIEWED</td>\n",
       "      <td>0c5b4a9d-21c8-428b-bce4-ee27556ba49d</td>\n",
       "      <td>794929730519308433</td>\n",
       "    </tr>\n",
       "    <tr>\n",
       "      <th>3</th>\n",
       "      <td>DOWNLOADED</td>\n",
       "      <td>817f9dbd-c37c-4e47-af18-01d3c2d25e41</td>\n",
       "      <td>794934903824193736</td>\n",
       "    </tr>\n",
       "    <tr>\n",
       "      <th>4</th>\n",
       "      <td>VIEWED</td>\n",
       "      <td>817f9dbd-c37c-4e47-af18-01d3c2d25e41</td>\n",
       "      <td>794934903824193736</td>\n",
       "    </tr>\n",
       "  </tbody>\n",
       "</table>\n",
       "</div>"
      ],
      "text/plain": [
       "     activity                              entityId           accountId\n",
       "0      VIEWED  6658c6db-7b22-4612-b14b-edcdfe3f61c4  794928084817024957\n",
       "1  DOWNLOADED  0c5b4a9d-21c8-428b-bce4-ee27556ba49d  794929730519308433\n",
       "2      VIEWED  0c5b4a9d-21c8-428b-bce4-ee27556ba49d  794929730519308433\n",
       "3  DOWNLOADED  817f9dbd-c37c-4e47-af18-01d3c2d25e41  794934903824193736\n",
       "4      VIEWED  817f9dbd-c37c-4e47-af18-01d3c2d25e41  794934903824193736"
      ]
     },
     "execution_count": 27,
     "metadata": {},
     "output_type": "execute_result"
    }
   ],
   "source": [
    "userint.head()"
   ]
  },
  {
   "cell_type": "markdown",
   "id": "ba0bb8f4-4df3-4b34-8ef5-2e4d07d1ca8d",
   "metadata": {},
   "source": [
    "Combining the user interactions and user tables to created a combined table.\n",
    "It appears that some of the entities in the 'user interactions' don't exist on 'items'"
   ]
  },
  {
   "cell_type": "code",
   "execution_count": 28,
   "id": "a205fff3-7a61-486a-a9d5-aaeca2382b8f",
   "metadata": {},
   "outputs": [],
   "source": [
    "userintitems = pd.merge(userint, items, how=\"left\", left_on='entityId', right_on='id')[['accountId','details']]"
   ]
  },
  {
   "cell_type": "code",
   "execution_count": 29,
   "id": "71b0b280-cc9b-4acc-ab89-35b09ed4087f",
   "metadata": {},
   "outputs": [
    {
     "data": {
      "text/plain": [
       "0                                                      NaN\n",
       "1                                                      NaN\n",
       "2                                                      NaN\n",
       "3                                                      NaN\n",
       "4                                                      NaN\n",
       "                               ...                        \n",
       "40461    Modification Work For Physiotherapy Room, Pass...\n",
       "40462    Deposit Work-jails Dept- Mws To Thavanur Centr...\n",
       "40463                                                  NaN\n",
       "40464    Providing And Laying G.i. Pipeline At Bl Incli...\n",
       "40465    Providing And Laying G.i. Pipeline At Bl Incli...\n",
       "Name: details, Length: 40466, dtype: object"
      ]
     },
     "execution_count": 29,
     "metadata": {},
     "output_type": "execute_result"
    }
   ],
   "source": [
    "userintitems['details']"
   ]
  },
  {
   "cell_type": "code",
   "execution_count": 30,
   "id": "3834aec6-5662-4a87-bd55-36dd88457a05",
   "metadata": {},
   "outputs": [],
   "source": [
    "userintitems['details'] = userintitems['details'].fillna('')"
   ]
  },
  {
   "cell_type": "markdown",
   "id": "32627ee7-2aeb-434c-b1ae-2efe477df970",
   "metadata": {},
   "source": [
    "Converting all the items viewed by the user into a list"
   ]
  },
  {
   "cell_type": "code",
   "execution_count": 31,
   "id": "d8fdfa1b-2eca-4db1-9c40-b954645463c5",
   "metadata": {},
   "outputs": [],
   "source": [
    "userintitems = userintitems.groupby('accountId')['details'].apply(list)"
   ]
  },
  {
   "cell_type": "code",
   "execution_count": 32,
   "id": "afd72547-49d5-4b05-8670-b76c2340d3d4",
   "metadata": {},
   "outputs": [
    {
     "data": {
      "text/plain": [
       "accountId\n",
       "6076439132127629518    [, , Engagement Of Security Services Agency Fo...\n",
       "6090418399291119165           [, , Thread Ring Gauge-is:14962 , Is:2334]\n",
       "6148417430046643859    [, , , , Construction Of New Office Building O...\n",
       "6180975557690267471    [, , , , Supply Of 19\" 24u Rack Enclosure Netw...\n",
       "6261728811314844815    [, , , , Consultancy Services For Sewage Treat...\n",
       "                                             ...                        \n",
       "797451534953617045     [Hiring Of Agency For It Projects- Milestone B...\n",
       "797454655339632564                                                    []\n",
       "797465021356448660                                                    []\n",
       "797467675436522636     [Providing And Laying G.i. Pipeline At Bl Incl...\n",
       "ANONYMOUS              [, , , , , , , , , , , , , , , , , , , , , , ,...\n",
       "Name: details, Length: 7566, dtype: object"
      ]
     },
     "execution_count": 32,
     "metadata": {},
     "output_type": "execute_result"
    }
   ],
   "source": [
    "userintitems"
   ]
  },
  {
   "cell_type": "markdown",
   "id": "c7859e84-64ff-4e32-a96f-09ffac7cb99e",
   "metadata": {},
   "source": [
    "Combining the viewed item list and the user list to create one data frame for modeling"
   ]
  },
  {
   "cell_type": "code",
   "execution_count": 33,
   "id": "eaddffe1-b3dc-4f4a-bc08-79f450c67742",
   "metadata": {},
   "outputs": [],
   "source": [
    "userfeatures = pd.merge(userintitems, user, on=\"accountId\")[['accountId','details','filter']]"
   ]
  },
  {
   "cell_type": "code",
   "execution_count": 34,
   "id": "a3971ec8-7b7f-4bf1-b704-79d3291c2c97",
   "metadata": {},
   "outputs": [
    {
     "data": {
      "text/html": [
       "<div>\n",
       "<style scoped>\n",
       "    .dataframe tbody tr th:only-of-type {\n",
       "        vertical-align: middle;\n",
       "    }\n",
       "\n",
       "    .dataframe tbody tr th {\n",
       "        vertical-align: top;\n",
       "    }\n",
       "\n",
       "    .dataframe thead th {\n",
       "        text-align: right;\n",
       "    }\n",
       "</style>\n",
       "<table border=\"1\" class=\"dataframe\">\n",
       "  <thead>\n",
       "    <tr style=\"text-align: right;\">\n",
       "      <th></th>\n",
       "      <th>accountId</th>\n",
       "      <th>details</th>\n",
       "      <th>filter</th>\n",
       "    </tr>\n",
       "  </thead>\n",
       "  <tbody>\n",
       "    <tr>\n",
       "      <th>0</th>\n",
       "      <td>6076439132127629518</td>\n",
       "      <td>[, , Engagement Of Security Services Agency Fo...</td>\n",
       "      <td>ASTM D Building Cleaning Construction Paint Pa...</td>\n",
       "    </tr>\n",
       "    <tr>\n",
       "      <th>1</th>\n",
       "      <td>6090418399291119165</td>\n",
       "      <td>[, , Thread Ring Gauge-is:14962 , Is:2334]</td>\n",
       "      <td>ERW Black Pipe ERW Pipes ERW Steel Tubes GI Pi...</td>\n",
       "    </tr>\n",
       "    <tr>\n",
       "      <th>2</th>\n",
       "      <td>6148417430046643859</td>\n",
       "      <td>[, , , , Construction Of New Office Building O...</td>\n",
       "      <td></td>\n",
       "    </tr>\n",
       "    <tr>\n",
       "      <th>3</th>\n",
       "      <td>6180975557690267471</td>\n",
       "      <td>[, , , , Supply Of 19\" 24u Rack Enclosure Netw...</td>\n",
       "      <td>19 inch rack Angle Bracket for Step Hanger Enc...</td>\n",
       "    </tr>\n",
       "    <tr>\n",
       "      <th>4</th>\n",
       "      <td>6261728811314844815</td>\n",
       "      <td>[, , , , Consultancy Services For Sewage Treat...</td>\n",
       "      <td>3D PRINTING  CMM INSPECTIONS  Furniture GI Wir...</td>\n",
       "    </tr>\n",
       "    <tr>\n",
       "      <th>...</th>\n",
       "      <td>...</td>\n",
       "      <td>...</td>\n",
       "      <td>...</td>\n",
       "    </tr>\n",
       "    <tr>\n",
       "      <th>7561</th>\n",
       "      <td>797451534953617045</td>\n",
       "      <td>[Hiring Of Agency For It Projects- Milestone B...</td>\n",
       "      <td>Software</td>\n",
       "    </tr>\n",
       "    <tr>\n",
       "      <th>7562</th>\n",
       "      <td>797454655339632564</td>\n",
       "      <td>[]</td>\n",
       "      <td></td>\n",
       "    </tr>\n",
       "    <tr>\n",
       "      <th>7563</th>\n",
       "      <td>797465021356448660</td>\n",
       "      <td>[]</td>\n",
       "      <td></td>\n",
       "    </tr>\n",
       "    <tr>\n",
       "      <th>7564</th>\n",
       "      <td>797467675436522636</td>\n",
       "      <td>[Providing And Laying G.i. Pipeline At Bl Incl...</td>\n",
       "      <td></td>\n",
       "    </tr>\n",
       "    <tr>\n",
       "      <th>7565</th>\n",
       "      <td>ANONYMOUS</td>\n",
       "      <td>[, , , , , , , , , , , , , , , , , , , , , , ,...</td>\n",
       "      <td></td>\n",
       "    </tr>\n",
       "  </tbody>\n",
       "</table>\n",
       "<p>7566 rows × 3 columns</p>\n",
       "</div>"
      ],
      "text/plain": [
       "                accountId                                            details  \\\n",
       "0     6076439132127629518  [, , Engagement Of Security Services Agency Fo...   \n",
       "1     6090418399291119165         [, , Thread Ring Gauge-is:14962 , Is:2334]   \n",
       "2     6148417430046643859  [, , , , Construction Of New Office Building O...   \n",
       "3     6180975557690267471  [, , , , Supply Of 19\" 24u Rack Enclosure Netw...   \n",
       "4     6261728811314844815  [, , , , Consultancy Services For Sewage Treat...   \n",
       "...                   ...                                                ...   \n",
       "7561   797451534953617045  [Hiring Of Agency For It Projects- Milestone B...   \n",
       "7562   797454655339632564                                                 []   \n",
       "7563   797465021356448660                                                 []   \n",
       "7564   797467675436522636  [Providing And Laying G.i. Pipeline At Bl Incl...   \n",
       "7565            ANONYMOUS  [, , , , , , , , , , , , , , , , , , , , , , ,...   \n",
       "\n",
       "                                                 filter  \n",
       "0     ASTM D Building Cleaning Construction Paint Pa...  \n",
       "1     ERW Black Pipe ERW Pipes ERW Steel Tubes GI Pi...  \n",
       "2                                                        \n",
       "3     19 inch rack Angle Bracket for Step Hanger Enc...  \n",
       "4     3D PRINTING  CMM INSPECTIONS  Furniture GI Wir...  \n",
       "...                                                 ...  \n",
       "7561                                           Software  \n",
       "7562                                                     \n",
       "7563                                                     \n",
       "7564                                                     \n",
       "7565                                                     \n",
       "\n",
       "[7566 rows x 3 columns]"
      ]
     },
     "execution_count": 34,
     "metadata": {},
     "output_type": "execute_result"
    }
   ],
   "source": [
    "userfeatures"
   ]
  },
  {
   "cell_type": "markdown",
   "id": "cc56088f-310b-402c-b36f-6e8dee344a04",
   "metadata": {},
   "source": [
    "Combining the details column into a single string"
   ]
  },
  {
   "cell_type": "code",
   "execution_count": 35,
   "id": "cf6ba24b-214d-424a-9187-9a4ba4a7d2fe",
   "metadata": {},
   "outputs": [],
   "source": [
    "import numpy as np"
   ]
  },
  {
   "cell_type": "code",
   "execution_count": 36,
   "id": "41cac646-f941-4639-88b8-4539a9434202",
   "metadata": {},
   "outputs": [],
   "source": [
    "def itemdetails(rowitem):\n",
    "    #print(type(rowitem))\n",
    "    detailsstring = ''\n",
    "    for item in rowitem:\n",
    "        #item = literal_eval(item)\n",
    "        if not type(item)==float:\n",
    "            detailsstring = detailsstring + ' ' + item\n",
    "    return detailsstring\n",
    "    "
   ]
  },
  {
   "cell_type": "code",
   "execution_count": 37,
   "id": "fd4de35c-ab3a-4831-83ab-24f45c7d4d82",
   "metadata": {},
   "outputs": [],
   "source": [
    "userfeatures['viewed'] = userfeatures['details'].apply(itemdetails)"
   ]
  },
  {
   "cell_type": "code",
   "execution_count": 38,
   "id": "5f80fedd-fca1-417d-aa8c-b37ef5c85863",
   "metadata": {},
   "outputs": [
    {
     "data": {
      "text/html": [
       "<div>\n",
       "<style scoped>\n",
       "    .dataframe tbody tr th:only-of-type {\n",
       "        vertical-align: middle;\n",
       "    }\n",
       "\n",
       "    .dataframe tbody tr th {\n",
       "        vertical-align: top;\n",
       "    }\n",
       "\n",
       "    .dataframe thead th {\n",
       "        text-align: right;\n",
       "    }\n",
       "</style>\n",
       "<table border=\"1\" class=\"dataframe\">\n",
       "  <thead>\n",
       "    <tr style=\"text-align: right;\">\n",
       "      <th></th>\n",
       "      <th>accountId</th>\n",
       "      <th>details</th>\n",
       "      <th>filter</th>\n",
       "      <th>viewed</th>\n",
       "    </tr>\n",
       "  </thead>\n",
       "  <tbody>\n",
       "    <tr>\n",
       "      <th>0</th>\n",
       "      <td>6076439132127629518</td>\n",
       "      <td>[, , Engagement Of Security Services Agency Fo...</td>\n",
       "      <td>ASTM D Building Cleaning Construction Paint Pa...</td>\n",
       "      <td>Engagement Of Security Services Agency For ...</td>\n",
       "    </tr>\n",
       "    <tr>\n",
       "      <th>1</th>\n",
       "      <td>6090418399291119165</td>\n",
       "      <td>[, , Thread Ring Gauge-is:14962 , Is:2334]</td>\n",
       "      <td>ERW Black Pipe ERW Pipes ERW Steel Tubes GI Pi...</td>\n",
       "      <td>Thread Ring Gauge-is:14962 , Is:2334</td>\n",
       "    </tr>\n",
       "    <tr>\n",
       "      <th>2</th>\n",
       "      <td>6148417430046643859</td>\n",
       "      <td>[, , , , Construction Of New Office Building O...</td>\n",
       "      <td></td>\n",
       "      <td>Construction Of New Office Building Of Me...</td>\n",
       "    </tr>\n",
       "    <tr>\n",
       "      <th>3</th>\n",
       "      <td>6180975557690267471</td>\n",
       "      <td>[, , , , Supply Of 19\" 24u Rack Enclosure Netw...</td>\n",
       "      <td>19 inch rack Angle Bracket for Step Hanger Enc...</td>\n",
       "      <td>Supply Of 19\" 24u Rack Enclosure Networki...</td>\n",
       "    </tr>\n",
       "    <tr>\n",
       "      <th>4</th>\n",
       "      <td>6261728811314844815</td>\n",
       "      <td>[, , , , Consultancy Services For Sewage Treat...</td>\n",
       "      <td>3D PRINTING  CMM INSPECTIONS  Furniture GI Wir...</td>\n",
       "      <td>Consultancy Services For Sewage Treatment...</td>\n",
       "    </tr>\n",
       "  </tbody>\n",
       "</table>\n",
       "</div>"
      ],
      "text/plain": [
       "             accountId                                            details  \\\n",
       "0  6076439132127629518  [, , Engagement Of Security Services Agency Fo...   \n",
       "1  6090418399291119165         [, , Thread Ring Gauge-is:14962 , Is:2334]   \n",
       "2  6148417430046643859  [, , , , Construction Of New Office Building O...   \n",
       "3  6180975557690267471  [, , , , Supply Of 19\" 24u Rack Enclosure Netw...   \n",
       "4  6261728811314844815  [, , , , Consultancy Services For Sewage Treat...   \n",
       "\n",
       "                                              filter  \\\n",
       "0  ASTM D Building Cleaning Construction Paint Pa...   \n",
       "1  ERW Black Pipe ERW Pipes ERW Steel Tubes GI Pi...   \n",
       "2                                                      \n",
       "3  19 inch rack Angle Bracket for Step Hanger Enc...   \n",
       "4  3D PRINTING  CMM INSPECTIONS  Furniture GI Wir...   \n",
       "\n",
       "                                              viewed  \n",
       "0     Engagement Of Security Services Agency For ...  \n",
       "1               Thread Ring Gauge-is:14962 , Is:2334  \n",
       "2       Construction Of New Office Building Of Me...  \n",
       "3       Supply Of 19\" 24u Rack Enclosure Networki...  \n",
       "4       Consultancy Services For Sewage Treatment...  "
      ]
     },
     "execution_count": 38,
     "metadata": {},
     "output_type": "execute_result"
    }
   ],
   "source": [
    "userfeatures.head()"
   ]
  },
  {
   "cell_type": "markdown",
   "id": "6b03ca7a-1518-4df0-826c-b910c5f4f1ca",
   "metadata": {},
   "source": [
    "Combining the strings keywords and viewed items strings to create one main string"
   ]
  },
  {
   "cell_type": "code",
   "execution_count": 39,
   "id": "deb8753d-c6df-4abb-a3c9-3218cee47c03",
   "metadata": {},
   "outputs": [],
   "source": [
    "userfeatures['finalfeatures'] = userfeatures['filter'] + userfeatures['viewed']"
   ]
  },
  {
   "cell_type": "code",
   "execution_count": 40,
   "id": "3abca9e7-4bea-428d-a6da-75c5eed84469",
   "metadata": {},
   "outputs": [
    {
     "data": {
      "text/plain": [
       "0"
      ]
     },
     "execution_count": 40,
     "metadata": {},
     "output_type": "execute_result"
    }
   ],
   "source": [
    "userfeatures['finalfeatures'].eq('').sum()"
   ]
  },
  {
   "cell_type": "code",
   "execution_count": 41,
   "id": "21f833e1-50a1-4ad7-b717-743830d7e466",
   "metadata": {},
   "outputs": [
    {
     "data": {
      "text/html": [
       "<div>\n",
       "<style scoped>\n",
       "    .dataframe tbody tr th:only-of-type {\n",
       "        vertical-align: middle;\n",
       "    }\n",
       "\n",
       "    .dataframe tbody tr th {\n",
       "        vertical-align: top;\n",
       "    }\n",
       "\n",
       "    .dataframe thead th {\n",
       "        text-align: right;\n",
       "    }\n",
       "</style>\n",
       "<table border=\"1\" class=\"dataframe\">\n",
       "  <thead>\n",
       "    <tr style=\"text-align: right;\">\n",
       "      <th></th>\n",
       "      <th>accountId</th>\n",
       "      <th>details</th>\n",
       "      <th>filter</th>\n",
       "      <th>viewed</th>\n",
       "      <th>finalfeatures</th>\n",
       "    </tr>\n",
       "  </thead>\n",
       "  <tbody>\n",
       "    <tr>\n",
       "      <th>0</th>\n",
       "      <td>6076439132127629518</td>\n",
       "      <td>[, , Engagement Of Security Services Agency Fo...</td>\n",
       "      <td>ASTM D Building Cleaning Construction Paint Pa...</td>\n",
       "      <td>Engagement Of Security Services Agency For ...</td>\n",
       "      <td>ASTM D Building Cleaning Construction Paint Pa...</td>\n",
       "    </tr>\n",
       "    <tr>\n",
       "      <th>1</th>\n",
       "      <td>6090418399291119165</td>\n",
       "      <td>[, , Thread Ring Gauge-is:14962 , Is:2334]</td>\n",
       "      <td>ERW Black Pipe ERW Pipes ERW Steel Tubes GI Pi...</td>\n",
       "      <td>Thread Ring Gauge-is:14962 , Is:2334</td>\n",
       "      <td>ERW Black Pipe ERW Pipes ERW Steel Tubes GI Pi...</td>\n",
       "    </tr>\n",
       "    <tr>\n",
       "      <th>2</th>\n",
       "      <td>6148417430046643859</td>\n",
       "      <td>[, , , , Construction Of New Office Building O...</td>\n",
       "      <td></td>\n",
       "      <td>Construction Of New Office Building Of Me...</td>\n",
       "      <td>Construction Of New Office Building Of Me...</td>\n",
       "    </tr>\n",
       "    <tr>\n",
       "      <th>3</th>\n",
       "      <td>6180975557690267471</td>\n",
       "      <td>[, , , , Supply Of 19\" 24u Rack Enclosure Netw...</td>\n",
       "      <td>19 inch rack Angle Bracket for Step Hanger Enc...</td>\n",
       "      <td>Supply Of 19\" 24u Rack Enclosure Networki...</td>\n",
       "      <td>19 inch rack Angle Bracket for Step Hanger Enc...</td>\n",
       "    </tr>\n",
       "    <tr>\n",
       "      <th>4</th>\n",
       "      <td>6261728811314844815</td>\n",
       "      <td>[, , , , Consultancy Services For Sewage Treat...</td>\n",
       "      <td>3D PRINTING  CMM INSPECTIONS  Furniture GI Wir...</td>\n",
       "      <td>Consultancy Services For Sewage Treatment...</td>\n",
       "      <td>3D PRINTING  CMM INSPECTIONS  Furniture GI Wir...</td>\n",
       "    </tr>\n",
       "  </tbody>\n",
       "</table>\n",
       "</div>"
      ],
      "text/plain": [
       "             accountId                                            details  \\\n",
       "0  6076439132127629518  [, , Engagement Of Security Services Agency Fo...   \n",
       "1  6090418399291119165         [, , Thread Ring Gauge-is:14962 , Is:2334]   \n",
       "2  6148417430046643859  [, , , , Construction Of New Office Building O...   \n",
       "3  6180975557690267471  [, , , , Supply Of 19\" 24u Rack Enclosure Netw...   \n",
       "4  6261728811314844815  [, , , , Consultancy Services For Sewage Treat...   \n",
       "\n",
       "                                              filter  \\\n",
       "0  ASTM D Building Cleaning Construction Paint Pa...   \n",
       "1  ERW Black Pipe ERW Pipes ERW Steel Tubes GI Pi...   \n",
       "2                                                      \n",
       "3  19 inch rack Angle Bracket for Step Hanger Enc...   \n",
       "4  3D PRINTING  CMM INSPECTIONS  Furniture GI Wir...   \n",
       "\n",
       "                                              viewed  \\\n",
       "0     Engagement Of Security Services Agency For ...   \n",
       "1               Thread Ring Gauge-is:14962 , Is:2334   \n",
       "2       Construction Of New Office Building Of Me...   \n",
       "3       Supply Of 19\" 24u Rack Enclosure Networki...   \n",
       "4       Consultancy Services For Sewage Treatment...   \n",
       "\n",
       "                                       finalfeatures  \n",
       "0  ASTM D Building Cleaning Construction Paint Pa...  \n",
       "1  ERW Black Pipe ERW Pipes ERW Steel Tubes GI Pi...  \n",
       "2       Construction Of New Office Building Of Me...  \n",
       "3  19 inch rack Angle Bracket for Step Hanger Enc...  \n",
       "4  3D PRINTING  CMM INSPECTIONS  Furniture GI Wir...  "
      ]
     },
     "execution_count": 41,
     "metadata": {},
     "output_type": "execute_result"
    }
   ],
   "source": [
    "userfeatures.head()"
   ]
  },
  {
   "cell_type": "code",
   "execution_count": 42,
   "id": "455b9c4f-ab54-4154-aeb7-215c7d25611d",
   "metadata": {},
   "outputs": [],
   "source": [
    "features = userfeatures[userfeatures['finalfeatures']!=''].drop(columns=['details','filter', 'viewed'])"
   ]
  },
  {
   "cell_type": "markdown",
   "id": "7a52707c-fbd0-42d3-9971-d3cbc9fcde23",
   "metadata": {},
   "source": [
    "# Recommender"
   ]
  },
  {
   "cell_type": "markdown",
   "id": "21566cfe-a710-4bc6-b2f5-9e4ac5a80f45",
   "metadata": {},
   "source": [
    "## Converting to vectors"
   ]
  },
  {
   "cell_type": "markdown",
   "id": "80e7ef44-2a2d-4654-9a8e-2e496d2c9d3b",
   "metadata": {},
   "source": [
    "Creating the tokenizer"
   ]
  },
  {
   "cell_type": "code",
   "execution_count": 43,
   "id": "2d7d4b2f-cbbb-46db-8df2-f2373059376c",
   "metadata": {},
   "outputs": [],
   "source": [
    "import spacy\n",
    "nlp = spacy.load(\"en_core_web_sm\")"
   ]
  },
  {
   "cell_type": "code",
   "execution_count": 44,
   "id": "f45f9aba-bcad-4888-97d0-515a1db83aa4",
   "metadata": {},
   "outputs": [],
   "source": [
    "def spacy_tokenizer(document):\n",
    "    tokens = nlp(document)\n",
    "    tokens = [token.lemma_.lower() for token in tokens if (\n",
    "        token.is_stop == False and \\\n",
    "        token.is_punct == False and \\\n",
    "        token.lemma_.strip()!= '')]\n",
    "    return tokens"
   ]
  },
  {
   "cell_type": "markdown",
   "id": "04fb261a-bc7f-4c8b-b28d-9c1b79194e51",
   "metadata": {},
   "source": [
    "Calling the count vectorizer"
   ]
  },
  {
   "cell_type": "code",
   "execution_count": 45,
   "id": "93b9e779-d785-461f-8f20-faa6adea7210",
   "metadata": {},
   "outputs": [],
   "source": [
    "from sklearn.feature_extraction.text import CountVectorizer\n",
    "vector = CountVectorizer(input = 'content', tokenizer = spacy_tokenizer)"
   ]
  },
  {
   "cell_type": "code",
   "execution_count": 46,
   "id": "6b3a09b9-dd79-462d-b124-cea2115956ea",
   "metadata": {},
   "outputs": [
    {
     "data": {
      "text/plain": [
       "76223"
      ]
     },
     "execution_count": 46,
     "metadata": {},
     "output_type": "execute_result"
    }
   ],
   "source": [
    "items['details'].count()"
   ]
  },
  {
   "cell_type": "markdown",
   "id": "1a2ba028-f9a0-4697-b71f-2e4d0884a121",
   "metadata": {},
   "source": [
    "Training the count vectorizer and transforming items"
   ]
  },
  {
   "cell_type": "code",
   "execution_count": 47,
   "id": "0b95cc4c-bd79-4b2b-9df7-dcbf99089306",
   "metadata": {
    "tags": []
   },
   "outputs": [
    {
     "name": "stderr",
     "output_type": "stream",
     "text": [
      "/home/sumeetkd/.pyenv/versions/tenders/lib/python3.11/site-packages/sklearn/feature_extraction/text.py:528: UserWarning: The parameter 'token_pattern' will not be used since 'tokenizer' is not None'\n",
      "  warnings.warn(\n"
     ]
    }
   ],
   "source": [
    "train_features = vector.fit_transform(items['details'].iloc[0:500].values)"
   ]
  },
  {
   "cell_type": "code",
   "execution_count": 48,
   "id": "462ac462-141c-462a-a118-a9e409d6ccfd",
   "metadata": {},
   "outputs": [
    {
     "data": {
      "text/plain": [
       "<500x2691 sparse matrix of type '<class 'numpy.int64'>'\n",
       "\twith 6001 stored elements in Compressed Sparse Row format>"
      ]
     },
     "execution_count": 48,
     "metadata": {},
     "output_type": "execute_result"
    }
   ],
   "source": [
    "train_features"
   ]
  },
  {
   "cell_type": "markdown",
   "id": "8c4eeb78-cbdb-43b0-8667-13275f4a8ebf",
   "metadata": {},
   "source": [
    "Evaluating the nearest neighbours for a given user id"
   ]
  },
  {
   "cell_type": "code",
   "execution_count": 49,
   "id": "67661e47-49ff-42f0-9acc-f447ee1f9cfc",
   "metadata": {},
   "outputs": [],
   "source": [
    "from sklearn.neighbors import NearestNeighbors"
   ]
  },
  {
   "cell_type": "code",
   "execution_count": 50,
   "id": "d72f5b8a-1f93-417e-a73f-d74b65b39ba0",
   "metadata": {},
   "outputs": [],
   "source": [
    "from scipy.sparse import vstack, csr_matrix\n"
   ]
  },
  {
   "cell_type": "code",
   "execution_count": 86,
   "id": "23ba3dab-dce1-4c14-b031-b38203a69032",
   "metadata": {},
   "outputs": [],
   "source": [
    "def similar(userid):\n",
    "    user_vector = vector.transform(features.loc[features['accountId']==userid]['finalfeatures'].values)\n",
    "    combined = vstack([user_vector,train_features])\n",
    "    nbrs = NearestNeighbors(n_neighbors=10, metric='cosine').fit(combined)                                                                                                                        \n",
    "    _, indices = nbrs.kneighbors(combined)    \n",
    "    print(indices[0])\n",
    "    ids = []\n",
    "    for i in indices[0][1:]:\n",
    "        ids.append(items['id'].iloc[i-1])\n",
    "    return ids"
   ]
  },
  {
   "cell_type": "code",
   "execution_count": 87,
   "id": "93dd1829-dd0f-46b2-8934-f0e62c7da7ce",
   "metadata": {
    "tags": []
   },
   "outputs": [
    {
     "name": "stdout",
     "output_type": "stream",
     "text": [
      "[  0 401 290 479 489 153 201 471 429  28]\n"
     ]
    },
    {
     "data": {
      "text/plain": [
       "['7fd4658b-74a5-4978-87f1-33a24fa36c42',\n",
       " '9eb6e662-146f-4d5a-859d-40db8cddb4ec',\n",
       " 'aa29a50c-47c8-4f54-81e2-dca5f7e7a5d6',\n",
       " '71daccba-3e8a-471e-a4d2-acfafa4a5b8f',\n",
       " 'ff6a216f-4957-45b2-bc9f-3b9862d85a1b',\n",
       " '271d6ff7-3d09-4a84-993d-2d51a04a66f1',\n",
       " '0d98ce4d-fdb1-40a8-967d-dcc5c3db57ac',\n",
       " '4fe60e4b-15b0-4fb8-9da6-3cbf78bce866',\n",
       " 'c0d6f47f-2fdd-4ec4-bb88-6abb9d74b3a4']"
      ]
     },
     "execution_count": 87,
     "metadata": {},
     "output_type": "execute_result"
    }
   ],
   "source": [
    "similar('6076439132127629518')"
   ]
  },
  {
   "cell_type": "code",
   "execution_count": null,
   "id": "fe9a030c-2cd5-412b-9edc-4748f58b362f",
   "metadata": {},
   "outputs": [],
   "source": []
  }
 ],
 "metadata": {
  "kernelspec": {
   "display_name": "tenders",
   "language": "python",
   "name": "tenders"
  },
  "language_info": {
   "codemirror_mode": {
    "name": "ipython",
    "version": 3
   },
   "file_extension": ".py",
   "mimetype": "text/x-python",
   "name": "python",
   "nbconvert_exporter": "python",
   "pygments_lexer": "ipython3",
   "version": "3.11.1"
  }
 },
 "nbformat": 4,
 "nbformat_minor": 5
}

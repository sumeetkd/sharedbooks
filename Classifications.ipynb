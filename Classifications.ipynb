{
 "cells": [
  {
   "cell_type": "markdown",
   "id": "7f81c472-dd78-45ab-b267-1f4978c86064",
   "metadata": {},
   "source": [
    "# Introduction "
   ]
  },
  {
   "cell_type": "markdown",
   "id": "4b2271af-ba27-48a6-9655-06936814ba6e",
   "metadata": {},
   "source": [
    "- The categories in are available in tender_categories\n",
    "- Data that is useful for categorization includes\n",
    "  - 'tender_details'\n",
    "  - 'tender_description' \n",
    "  - 'boq_items'\n",
    "  - 'boq_details'\n",
    "- After going through the features, we chose to combine the columns into a single string before feeding to the model\n",
    "- Bag of words\n",
    "  - We used a simple countvectorizer to make vectors based on word frequencies\n",
    "  - Naive Bayes was used to analyze these vectors\n",
    "  - Evaluation using the standard accuracy metric suggests that the model is good but when using balanced accuracy we can see that naive bayes does not perform well.\n",
    "  - This is expected due to the skew in the data\n",
    "- Word embeddings\n",
    "  - We use the GoogleNews embedding to create better representations for the words\n",
    "  - Naive Bayes is applied\n",
    "  - It is observed that the overall accuracy improved but the balanced accuracy suffered\n",
    "- Large Language model\n",
    "  - We used the bert-base-uncased model and fine tuned it with our training data\n",
    "  - Text classification was carried out on the test set\n",
    "  - It was discovered that the both accuracy metrics have improved "
   ]
  },
  {
   "cell_type": "markdown",
   "id": "21c20beb-91a2-4e93-8153-963d7d1801de",
   "metadata": {
    "tags": []
   },
   "source": [
    "## Flow of logic"
   ]
  },
  {
   "cell_type": "markdown",
   "id": "9e4f85b8-6143-45d0-8429-18c3d7491816",
   "metadata": {
    "tags": []
   },
   "source": [
    "### Ingesting tenders\n",
    "- Reading of data into pandas\n",
    "- Fixing repeated columns\n",
    "- Checking for uniqueness of information\n",
    "  - boq_details and boq_items\n",
    "  - tender_description and tender_details\n",
    "  - tender_details and boq_details\n",
    "### Feature engineering\n",
    "- Creating labels\n",
    "  - Plotting the skew in data\n",
    "  - Looking for ways to combine labels\n",
    "- Dropping additional columns\n",
    "- Splitting the data into train and test set\n",
    "### Bag of Word representation\n",
    "- Representing the text as vectors: Countvectorizer\n",
    "  - Combining tender_details and boq_details into a single string\n",
    "  - Tokenizing the string using Spacy tokenizer\n",
    "    - Training vector which can transform new instances\n",
    "#### Using Naive Bayes\n",
    "#### Evaluation\n",
    "- Evaluation is carried out using the accuracy metric\n",
    "- Evaluation is carried out using the balanced accuracy metric\n",
    "- Since balanced accuracy is low, moving to word embeddings to see if there is an improvement\n",
    "### Word embeddings\n",
    "- Downloading GoogleNew embedding\n",
    "- Transforming the train and test features \n",
    "#### Using Naive Bayes\n",
    "- Same as the previous Naive Bayes implementation\n",
    "#### Evaluation\n",
    "- Same as the previous Evaluation implementation\n",
    "### Large Language Model\n",
    "#### Creating the training and evaluation dataset\n",
    "- Splitting the dataset for fine tuning of the LLM\n",
    "#### Tokenization\n",
    "- Using the BERT tokenizer on the training and evaluation sets\n",
    "#### Fine Tuning of the mode\n",
    "- Using google colab to fine tune the model"
   ]
  },
  {
   "cell_type": "code",
   "execution_count": null,
   "id": "158df99d-5169-4a0c-83ff-76cdf1ce0c50",
   "metadata": {},
   "outputs": [],
   "source": [
    "\n"
   ]
  },
  {
   "cell_type": "markdown",
   "id": "97bf3527-f75c-46f0-9509-dfe88ed1e84e",
   "metadata": {},
   "source": [
    "# Prequisites"
   ]
  },
  {
   "cell_type": "markdown",
   "id": "41ed4b5d-a77e-4ed9-9992-d2044f57fcde",
   "metadata": {},
   "source": [
    "!pip install pandas\n",
    "!pip install scipy\n",
    "!pip install numpy\n",
    "!pip install spacy\n",
    "!pip install matplotlib\n",
    "!python -m spacy download en_core_web_sm\n",
    "!pip install scikit-learn\n",
    "!pip install gensim"
   ]
  },
  {
   "cell_type": "markdown",
   "id": "f68213e7-ec0f-4de2-9d05-9ef7ea5f5616",
   "metadata": {
    "tags": []
   },
   "source": [
    "# Ingesting Tenders"
   ]
  },
  {
   "cell_type": "code",
   "execution_count": 1,
   "id": "2ce1d10f-65ab-4db3-9925-806b3b7d98ac",
   "metadata": {},
   "outputs": [],
   "source": [
    "import pandas as pd"
   ]
  },
  {
   "cell_type": "code",
   "execution_count": 2,
   "id": "124a8dc8-bffd-4c5a-97f4-5ed159d69267",
   "metadata": {},
   "outputs": [],
   "source": [
    "tenders = pd.read_csv(\n",
    "filepath_or_buffer='data/dataScienceAssignment/tender.csv',\\\n",
    "# This is the file path of the csv\n",
    "# Get the column names from a header row\n",
    "na_values='[]',\n",
    "header=0,\n",
    ")"
   ]
  },
  {
   "cell_type": "code",
   "execution_count": 3,
   "id": "f5f192f3-5055-458f-b3e6-a1cf0cfac95f",
   "metadata": {},
   "outputs": [
    {
     "data": {
      "text/html": [
       "<div>\n",
       "<style scoped>\n",
       "    .dataframe tbody tr th:only-of-type {\n",
       "        vertical-align: middle;\n",
       "    }\n",
       "\n",
       "    .dataframe tbody tr th {\n",
       "        vertical-align: top;\n",
       "    }\n",
       "\n",
       "    .dataframe thead th {\n",
       "        text-align: right;\n",
       "    }\n",
       "</style>\n",
       "<table border=\"1\" class=\"dataframe\">\n",
       "  <thead>\n",
       "    <tr style=\"text-align: right;\">\n",
       "      <th></th>\n",
       "      <th>Unnamed: 0.1</th>\n",
       "      <th>Unnamed: 0</th>\n",
       "      <th>tender_id</th>\n",
       "      <th>tender_description</th>\n",
       "      <th>tender_details</th>\n",
       "      <th>tender_category</th>\n",
       "      <th>boq_items</th>\n",
       "      <th>boq_details</th>\n",
       "      <th>boq_len</th>\n",
       "    </tr>\n",
       "  </thead>\n",
       "  <tbody>\n",
       "    <tr>\n",
       "      <th>0</th>\n",
       "      <td>0</td>\n",
       "      <td>0</td>\n",
       "      <td>ad77c36d-ee5b-415a-917b-f65a81752625</td>\n",
       "      <td>Construction Of Rcc Drain With Cover Slab From...</td>\n",
       "      <td>Construction Of Rcc Drain With Cover Slab From...</td>\n",
       "      <td>Works</td>\n",
       "      <td>[{'rowNumber': 12, 'itemDescription': 'Dismant...</td>\n",
       "      <td>['Dismantling and removing cement concrete inc...</td>\n",
       "      <td>11</td>\n",
       "    </tr>\n",
       "    <tr>\n",
       "      <th>1</th>\n",
       "      <td>1</td>\n",
       "      <td>1</td>\n",
       "      <td>d17ff512-0f4e-4e63-b9c0-4b4c13157f47</td>\n",
       "      <td>Day To Day Upkeeping Of Lawn And Garden At Koy...</td>\n",
       "      <td>Day To Day Upkeeping Of Lawn And Garden At Koy...</td>\n",
       "      <td>Works</td>\n",
       "      <td>[{'rowNumber': 21, 'itemDescription': 'Shiftin...</td>\n",
       "      <td>['Shifting of Ghamlas from garden to 1 to 10 t...</td>\n",
       "      <td>29</td>\n",
       "    </tr>\n",
       "    <tr>\n",
       "      <th>2</th>\n",
       "      <td>2</td>\n",
       "      <td>2</td>\n",
       "      <td>d5d6a926-6dec-473c-b6f4-c195e1c334f2</td>\n",
       "      <td>P/l Wmb G-ii, 75 Mm Thick Wet Mix Macadam And ...</td>\n",
       "      <td>P/l Wmb G-ii, 75 Mm Thick Wet Mix Macadam And ...</td>\n",
       "      <td>Works</td>\n",
       "      <td>[{'rowNumber': 12, 'itemDescription': 'Providi...</td>\n",
       "      <td>['Providing , laying, spreading and compacting...</td>\n",
       "      <td>4</td>\n",
       "    </tr>\n",
       "    <tr>\n",
       "      <th>3</th>\n",
       "      <td>3</td>\n",
       "      <td>3</td>\n",
       "      <td>67bab7b5-b577-481f-a64f-f52a9e89a13f</td>\n",
       "      <td>Improvement And Biannual Maintenance To Anjang...</td>\n",
       "      <td>Improvement And Biannual Maintenance To Anjang...</td>\n",
       "      <td>Works</td>\n",
       "      <td>[{'rowNumber': 12, 'itemDescription': 'IMPROVE...</td>\n",
       "      <td>['IMPROVEMENT AND BIANNUAL MAINTENANCE TO ANJA...</td>\n",
       "      <td>1</td>\n",
       "    </tr>\n",
       "    <tr>\n",
       "      <th>4</th>\n",
       "      <td>4</td>\n",
       "      <td>4</td>\n",
       "      <td>a47aeaf3-7b4d-4551-8d7e-c0415f65f411</td>\n",
       "      <td>Pre-monsoon Cleaning And Desilting Of</td>\n",
       "      <td>Pre-monsoon Cleaning And Desilting Of Exisitin...</td>\n",
       "      <td>Works</td>\n",
       "      <td>[{'rowNumber': 18, 'itemDescription': 'GST 12%...</td>\n",
       "      <td>['GST 12%', 'PROVIDING AND OPERATING DUMPER OF...</td>\n",
       "      <td>6</td>\n",
       "    </tr>\n",
       "  </tbody>\n",
       "</table>\n",
       "</div>"
      ],
      "text/plain": [
       "   Unnamed: 0.1  Unnamed: 0                             tender_id  \\\n",
       "0             0           0  ad77c36d-ee5b-415a-917b-f65a81752625   \n",
       "1             1           1  d17ff512-0f4e-4e63-b9c0-4b4c13157f47   \n",
       "2             2           2  d5d6a926-6dec-473c-b6f4-c195e1c334f2   \n",
       "3             3           3  67bab7b5-b577-481f-a64f-f52a9e89a13f   \n",
       "4             4           4  a47aeaf3-7b4d-4551-8d7e-c0415f65f411   \n",
       "\n",
       "                                  tender_description  \\\n",
       "0  Construction Of Rcc Drain With Cover Slab From...   \n",
       "1  Day To Day Upkeeping Of Lawn And Garden At Koy...   \n",
       "2  P/l Wmb G-ii, 75 Mm Thick Wet Mix Macadam And ...   \n",
       "3  Improvement And Biannual Maintenance To Anjang...   \n",
       "4              Pre-monsoon Cleaning And Desilting Of   \n",
       "\n",
       "                                      tender_details tender_category  \\\n",
       "0  Construction Of Rcc Drain With Cover Slab From...           Works   \n",
       "1  Day To Day Upkeeping Of Lawn And Garden At Koy...           Works   \n",
       "2  P/l Wmb G-ii, 75 Mm Thick Wet Mix Macadam And ...           Works   \n",
       "3  Improvement And Biannual Maintenance To Anjang...           Works   \n",
       "4  Pre-monsoon Cleaning And Desilting Of Exisitin...           Works   \n",
       "\n",
       "                                           boq_items  \\\n",
       "0  [{'rowNumber': 12, 'itemDescription': 'Dismant...   \n",
       "1  [{'rowNumber': 21, 'itemDescription': 'Shiftin...   \n",
       "2  [{'rowNumber': 12, 'itemDescription': 'Providi...   \n",
       "3  [{'rowNumber': 12, 'itemDescription': 'IMPROVE...   \n",
       "4  [{'rowNumber': 18, 'itemDescription': 'GST 12%...   \n",
       "\n",
       "                                         boq_details  boq_len  \n",
       "0  ['Dismantling and removing cement concrete inc...       11  \n",
       "1  ['Shifting of Ghamlas from garden to 1 to 10 t...       29  \n",
       "2  ['Providing , laying, spreading and compacting...        4  \n",
       "3  ['IMPROVEMENT AND BIANNUAL MAINTENANCE TO ANJA...        1  \n",
       "4  ['GST 12%', 'PROVIDING AND OPERATING DUMPER OF...        6  "
      ]
     },
     "execution_count": 3,
     "metadata": {},
     "output_type": "execute_result"
    }
   ],
   "source": [
    "tenders.head()"
   ]
  },
  {
   "cell_type": "markdown",
   "id": "abac3f82-e84a-49df-8f1e-40fcf5d82242",
   "metadata": {
    "tags": []
   },
   "source": [
    "## Fixing the extra index columns "
   ]
  },
  {
   "cell_type": "code",
   "execution_count": 4,
   "id": "7ab339c0-9e4c-4104-9de0-ffb8f9cb6203",
   "metadata": {},
   "outputs": [
    {
     "data": {
      "text/html": [
       "<div>\n",
       "<style scoped>\n",
       "    .dataframe tbody tr th:only-of-type {\n",
       "        vertical-align: middle;\n",
       "    }\n",
       "\n",
       "    .dataframe tbody tr th {\n",
       "        vertical-align: top;\n",
       "    }\n",
       "\n",
       "    .dataframe thead th {\n",
       "        text-align: right;\n",
       "    }\n",
       "</style>\n",
       "<table border=\"1\" class=\"dataframe\">\n",
       "  <thead>\n",
       "    <tr style=\"text-align: right;\">\n",
       "      <th></th>\n",
       "      <th>Unnamed: 0.1</th>\n",
       "      <th>Unnamed: 0</th>\n",
       "      <th>tender_id</th>\n",
       "      <th>tender_description</th>\n",
       "      <th>tender_details</th>\n",
       "      <th>tender_category</th>\n",
       "      <th>boq_items</th>\n",
       "      <th>boq_details</th>\n",
       "      <th>boq_len</th>\n",
       "    </tr>\n",
       "  </thead>\n",
       "  <tbody>\n",
       "  </tbody>\n",
       "</table>\n",
       "</div>"
      ],
      "text/plain": [
       "Empty DataFrame\n",
       "Columns: [Unnamed: 0.1, Unnamed: 0, tender_id, tender_description, tender_details, tender_category, boq_items, boq_details, boq_len]\n",
       "Index: []"
      ]
     },
     "execution_count": 4,
     "metadata": {},
     "output_type": "execute_result"
    }
   ],
   "source": [
    "tenders.loc[tenders['Unnamed: 0.1']!=tenders['Unnamed: 0']]"
   ]
  },
  {
   "cell_type": "code",
   "execution_count": 5,
   "id": "0c8d88c2-72f6-4a96-b7ac-558bcb16536c",
   "metadata": {},
   "outputs": [
    {
     "data": {
      "text/html": [
       "<div>\n",
       "<style scoped>\n",
       "    .dataframe tbody tr th:only-of-type {\n",
       "        vertical-align: middle;\n",
       "    }\n",
       "\n",
       "    .dataframe tbody tr th {\n",
       "        vertical-align: top;\n",
       "    }\n",
       "\n",
       "    .dataframe thead th {\n",
       "        text-align: right;\n",
       "    }\n",
       "</style>\n",
       "<table border=\"1\" class=\"dataframe\">\n",
       "  <thead>\n",
       "    <tr style=\"text-align: right;\">\n",
       "      <th></th>\n",
       "      <th>Unnamed: 0.1</th>\n",
       "      <th>Unnamed: 0</th>\n",
       "      <th>tender_id</th>\n",
       "      <th>tender_description</th>\n",
       "      <th>tender_details</th>\n",
       "      <th>tender_category</th>\n",
       "      <th>boq_items</th>\n",
       "      <th>boq_details</th>\n",
       "      <th>boq_len</th>\n",
       "    </tr>\n",
       "  </thead>\n",
       "  <tbody>\n",
       "  </tbody>\n",
       "</table>\n",
       "</div>"
      ],
      "text/plain": [
       "Empty DataFrame\n",
       "Columns: [Unnamed: 0.1, Unnamed: 0, tender_id, tender_description, tender_details, tender_category, boq_items, boq_details, boq_len]\n",
       "Index: []"
      ]
     },
     "execution_count": 5,
     "metadata": {},
     "output_type": "execute_result"
    }
   ],
   "source": [
    "tenders.loc[tenders.index!=tenders['Unnamed: 0']]"
   ]
  },
  {
   "cell_type": "code",
   "execution_count": 6,
   "id": "9dadbcf1-a168-4e32-bcbd-239dc4416eaf",
   "metadata": {},
   "outputs": [],
   "source": [
    "tenders.drop(columns=['Unnamed: 0', 'Unnamed: 0.1'], inplace=True)"
   ]
  },
  {
   "cell_type": "code",
   "execution_count": null,
   "id": "80108955-bcd9-4f8d-b366-a4a0b864084f",
   "metadata": {},
   "outputs": [],
   "source": [
    "tenders.info()"
   ]
  },
  {
   "cell_type": "markdown",
   "id": "6251bba2-546f-48f4-be39-46292df71ab0",
   "metadata": {
    "tags": []
   },
   "source": [
    "## BOQ items and details equivalence"
   ]
  },
  {
   "cell_type": "code",
   "execution_count": null,
   "id": "635f6c3c-3f93-46a8-932e-52f4abdfa7b0",
   "metadata": {
    "tags": []
   },
   "outputs": [],
   "source": [
    "tenders['boq_items'][0]"
   ]
  },
  {
   "cell_type": "markdown",
   "id": "cd7e054d-2109-4f25-b8a4-a2b5f023c855",
   "metadata": {},
   "source": [
    "- Assuming that the quantity, units, rate, amount and '\\_class' quantities do not affect the category of the item\n",
    "- The only important information is the 'itemDescription'\n",
    "- Observing that the column boq_details also contains similar information"
   ]
  },
  {
   "cell_type": "markdown",
   "id": "ec13830a-d4b7-453e-92e3-f0bd0268a4b7",
   "metadata": {},
   "source": [
    "Checking for equivalence of values in 'boq_items' & 'boq_details'"
   ]
  },
  {
   "cell_type": "code",
   "execution_count": 9,
   "id": "b723ca7c-b3d6-4a50-b410-0d7b4f5bd63a",
   "metadata": {},
   "outputs": [],
   "source": [
    "from ast import literal_eval"
   ]
  },
  {
   "cell_type": "code",
   "execution_count": 10,
   "id": "f26e8971-fbea-48ec-8ba6-d2a8e3812d4d",
   "metadata": {},
   "outputs": [],
   "source": [
    "def boq_items_conv(rowitem):\n",
    "    \"\"\"Function to filter the items description from boq_items and add to list\n",
    "    \"\"\"\n",
    "    boq_details = [] # List contain item descriptions\n",
    "    if rowitem != '[]':\n",
    "        boqitemslist = literal_eval(rowitem) # Literal evaluation of the bytes to convert to python list\n",
    "        for item in boqitemslist:\n",
    "            boq_details.append(item['itemDescription']) # Adding descriptions to the list\n",
    "    return boq_details"
   ]
  },
  {
   "cell_type": "code",
   "execution_count": null,
   "id": "fb0517f7-d488-415f-957b-970bd180aedf",
   "metadata": {
    "tags": []
   },
   "outputs": [],
   "source": [
    "boq_items_conv(tenders['boq_items'][0])"
   ]
  },
  {
   "cell_type": "code",
   "execution_count": 12,
   "id": "9cab46ed-d0fa-42d7-be9a-3b38cf770809",
   "metadata": {},
   "outputs": [],
   "source": [
    "def boq_details_conv(rowitem):\n",
    "    \"\"\" Function to convert the bytes in boq_details to python list\n",
    "    \"\"\"\n",
    "    if rowitem != '[]':\n",
    "        test = literal_eval(rowitem)\n",
    "        return test"
   ]
  },
  {
   "cell_type": "code",
   "execution_count": null,
   "id": "27843100-a87d-4308-a209-7532500640f2",
   "metadata": {},
   "outputs": [],
   "source": [
    "tenders['boq_details'][80:90]"
   ]
  },
  {
   "cell_type": "code",
   "execution_count": null,
   "id": "6adf8d7c-f302-4bcf-986f-bbaad25ae851",
   "metadata": {
    "tags": []
   },
   "outputs": [],
   "source": [
    "boq_details_conv(tenders['boq_details'][0])"
   ]
  },
  {
   "cell_type": "markdown",
   "id": "e4b17a92-37fb-4b42-9444-3d254d21a2ef",
   "metadata": {},
   "source": [
    "Listing out rows in which the lists are different"
   ]
  },
  {
   "cell_type": "markdown",
   "id": "13fe3e62-ba00-4f03-853a-eb8a3e8cdc05",
   "metadata": {},
   "source": [
    "Since there are no such rows. We will drop the 'boq_items'"
   ]
  },
  {
   "cell_type": "code",
   "execution_count": 15,
   "id": "f065ad16-f234-4e20-9aa2-b1a0e8427a3d",
   "metadata": {},
   "outputs": [],
   "source": [
    "tenders.drop(columns=['boq_items'], inplace=True)"
   ]
  },
  {
   "cell_type": "code",
   "execution_count": null,
   "id": "8283cadd-d9bd-4be8-b6b8-b9da3d38a6c2",
   "metadata": {
    "tags": []
   },
   "outputs": [],
   "source": [
    "tenders.info()"
   ]
  },
  {
   "cell_type": "markdown",
   "id": "19713112-8a6c-44db-8f2f-6bdee094d727",
   "metadata": {
    "tags": []
   },
   "source": [
    "## tender_description and tender_details equivalence"
   ]
  },
  {
   "cell_type": "markdown",
   "id": "b8bced3f-b0cd-4ea4-a06d-e7215ac42ead",
   "metadata": {},
   "source": [
    "It appears that tender_description and tender_details are also very similar.\n",
    "Printing the cases, where it is different."
   ]
  },
  {
   "cell_type": "code",
   "execution_count": null,
   "id": "66ade6c5-7d73-4ec7-b45b-4df55f3cdc09",
   "metadata": {
    "tags": []
   },
   "outputs": [],
   "source": [
    "tenders.loc[tenders['tender_description']!=tenders['tender_details']][['tender_description','tender_details']].info()"
   ]
  },
  {
   "cell_type": "code",
   "execution_count": null,
   "id": "fe65f9b7-7499-4064-85e5-0690f56f1604",
   "metadata": {
    "tags": []
   },
   "outputs": [],
   "source": [
    "tenders.loc[tenders['tender_description']!=tenders['tender_details']][['tender_description','tender_details']].values"
   ]
  },
  {
   "cell_type": "markdown",
   "id": "8042d91a-a3c7-4ccc-a78e-e0d3cfdd98da",
   "metadata": {},
   "source": [
    "- It is observed that in the 20 cases, tender_description and tender_details don't match\n",
    "- In these cases, tender_details has a copy of the information in tender_description and a few more details"
   ]
  },
  {
   "cell_type": "code",
   "execution_count": 19,
   "id": "c21fe39a-5432-4e27-b908-df0d9365017a",
   "metadata": {},
   "outputs": [],
   "source": [
    "tenders.drop(columns=['tender_description'], inplace=True)"
   ]
  },
  {
   "cell_type": "markdown",
   "id": "1cbe0762-72a0-4416-919f-11554b21ca38",
   "metadata": {
    "tags": []
   },
   "source": [
    "## tender_details and boq_details"
   ]
  },
  {
   "cell_type": "code",
   "execution_count": null,
   "id": "ca41d503-250e-4ead-b545-f68664f817d7",
   "metadata": {
    "tags": []
   },
   "outputs": [],
   "source": [
    "tenders[['tender_details', 'boq_details']][:5].values"
   ]
  },
  {
   "cell_type": "markdown",
   "id": "8342e80b-5423-4527-bf61-9646c7871f3b",
   "metadata": {},
   "source": [
    "- It appears that the data in both these items are different\n",
    "- One might want to evaluate the usefulness of joining these two items to make a single column\n",
    "- For the moment, I am going to fill all the NAN values in boq_details with the values in tender_details"
   ]
  },
  {
   "cell_type": "markdown",
   "id": "02a81703-1fb6-40b1-87ef-246f16239e61",
   "metadata": {
    "tags": []
   },
   "source": [
    "# Feature Engineering"
   ]
  },
  {
   "cell_type": "markdown",
   "id": "fc0d464d-6a54-4e43-baf4-27785bd9d3db",
   "metadata": {
    "tags": []
   },
   "source": [
    "## Labels"
   ]
  },
  {
   "cell_type": "markdown",
   "id": "b43cf589-a97d-4b83-aed9-416b0ccfa2ab",
   "metadata": {},
   "source": [
    "Converting the tender_category column a form that can be fed to models"
   ]
  },
  {
   "cell_type": "code",
   "execution_count": 21,
   "id": "50d67f37-4160-4cf5-9734-12eebbd47828",
   "metadata": {},
   "outputs": [
    {
     "data": {
      "text/plain": [
       "array(['Works', 'PERCENTAGE', 'ITEM RATE', nan, 'Services', 'Goods',\n",
       "       'WORKS', 'SERVICES', 'GOODS'], dtype=object)"
      ]
     },
     "execution_count": 21,
     "metadata": {},
     "output_type": "execute_result"
    }
   ],
   "source": [
    "tenders['tender_category'].unique()"
   ]
  },
  {
   "cell_type": "markdown",
   "id": "3a9252e9-444e-43ea-846c-d1f2675e84c6",
   "metadata": {},
   "source": [
    "The 'nan' objects are not useful and we will drop these rows from further analysis"
   ]
  },
  {
   "cell_type": "code",
   "execution_count": null,
   "id": "4f7362af-96af-456c-9f7c-9a2bb8e2aaa4",
   "metadata": {},
   "outputs": [],
   "source": [
    "tenders.loc[tenders['tender_category'].isna()].count()"
   ]
  },
  {
   "cell_type": "markdown",
   "id": "7c1f6d6b-4888-41df-8908-65a6f62a4d8f",
   "metadata": {},
   "source": [
    "This amounts to ~10% of the total data available"
   ]
  },
  {
   "cell_type": "code",
   "execution_count": 23,
   "id": "b4663193-0c9a-4449-a72d-d03e5fd5ede6",
   "metadata": {},
   "outputs": [],
   "source": [
    "tenders.dropna(subset=['tender_category'], inplace=True)"
   ]
  },
  {
   "cell_type": "markdown",
   "id": "6cb6edd5-86a7-45c3-a2fa-5a6d068c8fab",
   "metadata": {},
   "source": [
    "Creating a labels column with normalized categories"
   ]
  },
  {
   "cell_type": "code",
   "execution_count": 24,
   "id": "c622c103-3592-40a5-b64a-e72a77feb40a",
   "metadata": {},
   "outputs": [],
   "source": [
    "tenders['label'] = tenders['tender_category'].map({'Works':0, 'WORKS':0, 'Services': 1, 'SERVICES': 1, 'Goods': 2, 'GOODS': 2, 'ITEM RATE': 3, 'PERCENTAGE': 4})"
   ]
  },
  {
   "cell_type": "code",
   "execution_count": 25,
   "id": "d78db623-f49b-429e-a47b-a45152c55531",
   "metadata": {},
   "outputs": [],
   "source": [
    "tenders.drop(columns=['tender_category'], inplace=True)"
   ]
  },
  {
   "cell_type": "markdown",
   "id": "d88533b4-db65-488e-bf03-9c9b7d97d3bb",
   "metadata": {
    "tags": []
   },
   "source": [
    "Checking the spread of the data"
   ]
  },
  {
   "cell_type": "code",
   "execution_count": 26,
   "id": "37b3892e-85dd-40cf-ba88-2039cd364209",
   "metadata": {
    "tags": []
   },
   "outputs": [],
   "source": [
    "import matplotlib.pyplot as plt"
   ]
  },
  {
   "cell_type": "code",
   "execution_count": 27,
   "id": "ca7822a6-d493-437b-9762-66fdb7c14160",
   "metadata": {
    "tags": []
   },
   "outputs": [
    {
     "data": {
      "text/plain": [
       "<Axes: >"
      ]
     },
     "execution_count": 27,
     "metadata": {},
     "output_type": "execute_result"
    },
    {
     "data": {
      "image/png": "[encoded data removed]",
      "text/plain": [
       "<Figure size 640x480 with 1 Axes>"
      ]
     },
     "metadata": {},
     "output_type": "display_data"
    }
   ],
   "source": [
    "tenders['label'].hist()"
   ]
  },
  {
   "cell_type": "markdown",
   "id": "d06df486-b67d-4fd5-a905-95d226e2070e",
   "metadata": {},
   "source": [
    "Note the skew in the data towards 'Work' and 'Services' categories"
   ]
  },
  {
   "cell_type": "code",
   "execution_count": null,
   "id": "f448cbf5-9a24-4081-b448-b25344b6007e",
   "metadata": {
    "tags": []
   },
   "outputs": [],
   "source": [
    "tenders.loc[tenders['label']==3]['boq_details'].values"
   ]
  },
  {
   "cell_type": "markdown",
   "id": "62deba42-ceb6-42b1-8d6a-03099ad98176",
   "metadata": {},
   "source": [
    "Checking to see if 'ITEM RATE' can be absorbed in the other categories"
   ]
  },
  {
   "cell_type": "code",
   "execution_count": null,
   "id": "6cd785c9-7c24-4e98-af1e-bb995b1e3452",
   "metadata": {
    "tags": []
   },
   "outputs": [],
   "source": [
    "tenders.loc[tenders['label']==4]['boq_details'].values"
   ]
  },
  {
   "cell_type": "markdown",
   "id": "446714c9-b1d9-4563-901e-1642239142a7",
   "metadata": {},
   "source": [
    "Checking to see if 'PERCENTAGE' can be absorbed in the other categories"
   ]
  },
  {
   "cell_type": "markdown",
   "id": "bf22a2f7-a69f-4373-9a45-f5b81eabbe62",
   "metadata": {
    "tags": []
   },
   "source": [
    "## Features"
   ]
  },
  {
   "cell_type": "markdown",
   "id": "b7090fc4-3ae6-489d-b247-bf0db85189f3",
   "metadata": {},
   "source": [
    "- tender_id is a unique number with no connection to the category\n",
    "- boq_len also has no connection with the category"
   ]
  },
  {
   "cell_type": "code",
   "execution_count": 30,
   "id": "6ac56179-7c90-4e1a-b295-0ff0cdc7d87a",
   "metadata": {},
   "outputs": [],
   "source": [
    "tenders.drop(columns=['tender_id', 'boq_len'], inplace=True)"
   ]
  },
  {
   "cell_type": "code",
   "execution_count": 31,
   "id": "ca422224-b3c2-4767-afbd-7b4f7080a2ef",
   "metadata": {},
   "outputs": [],
   "source": [
    "tenders['boq_details'].fillna('[]',inplace=True)"
   ]
  },
  {
   "cell_type": "markdown",
   "id": "45e8776d-1326-410f-a49c-f0a3a298a2fd",
   "metadata": {},
   "source": [
    "#### Combining columns to create a single feature string"
   ]
  },
  {
   "cell_type": "markdown",
   "id": "b93a3841-6677-45e9-bb66-2f6c8cee6143",
   "metadata": {},
   "source": [
    "Ideally I would want to convert the text from tender_details and boq_details to vectors too but we intend to try out different ways of vectorizing them and will postpone to the sections below"
   ]
  },
  {
   "cell_type": "markdown",
   "id": "6ec001b7-ebff-4b02-9dbd-f6e6f9130c17",
   "metadata": {},
   "source": [
    "1. Creating the function for combining the line items in boq_details into a single string"
   ]
  },
  {
   "cell_type": "code",
   "execution_count": 32,
   "id": "968f458a-82e9-44a9-972c-726e1f56edb7",
   "metadata": {},
   "outputs": [],
   "source": [
    "def boq_details_concat(rowitem):\n",
    "    \"\"\" Function to convert the bytes in boq_details to python list\n",
    "    \"\"\"\n",
    "    if rowitem is not None:\n",
    "        test = literal_eval(rowitem)\n",
    "        if test is not None:\n",
    "            return ' '.join(test)\n",
    "    else:\n",
    "        return ''"
   ]
  },
  {
   "cell_type": "markdown",
   "id": "353aec13-729e-4b5a-a061-5c96d20c659f",
   "metadata": {},
   "source": [
    "2. Joining strings to create one common feature string"
   ]
  },
  {
   "cell_type": "code",
   "execution_count": 33,
   "id": "b934e6dd-079c-4b5a-bf7e-06cd2c7737c4",
   "metadata": {
    "tags": []
   },
   "outputs": [],
   "source": [
    "tenders['features'] = tenders['tender_details'].values + tenders['boq_details'].map(boq_details_concat).values"
   ]
  },
  {
   "cell_type": "code",
   "execution_count": 34,
   "id": "b88c1b6f-3bb1-47bc-ac88-8f0f1009eb14",
   "metadata": {},
   "outputs": [],
   "source": [
    "tenders.drop(columns=['tender_details', 'boq_details'], inplace=True)"
   ]
  },
  {
   "cell_type": "code",
   "execution_count": null,
   "id": "aae37ef7-a669-4b53-8c10-d9733cc3599e",
   "metadata": {},
   "outputs": [],
   "source": [
    "tenders.info()"
   ]
  },
  {
   "cell_type": "markdown",
   "id": "d0e97e90-43fc-41ca-9e98-638973102dd8",
   "metadata": {
    "tags": []
   },
   "source": [
    "## Split for testing and training"
   ]
  },
  {
   "cell_type": "code",
   "execution_count": 36,
   "id": "788cea17-3ad3-4993-9e2e-bc0bc72eb9ad",
   "metadata": {},
   "outputs": [],
   "source": [
    "from sklearn.model_selection import train_test_split\n",
    "train_set, test_set = train_test_split(tenders, test_size=0.2, random_state=1)"
   ]
  },
  {
   "cell_type": "markdown",
   "id": "8cdc11b7-f846-41fd-a132-23288eacd241",
   "metadata": {
    "tags": []
   },
   "source": [
    "# Representation: Bag of words"
   ]
  },
  {
   "cell_type": "markdown",
   "id": "c4dbc032-f130-4907-8d97-fcf570f2ce50",
   "metadata": {},
   "source": [
    "### Transforming the natural language data"
   ]
  },
  {
   "cell_type": "markdown",
   "id": "c624b8e8-91e1-497f-8db1-80fbc07bd254",
   "metadata": {},
   "source": [
    "#### Creating count vectors"
   ]
  },
  {
   "cell_type": "code",
   "execution_count": 37,
   "id": "c2e7acc5-d89c-452b-9f1f-823bac652b66",
   "metadata": {},
   "outputs": [
    {
     "name": "stderr",
     "output_type": "stream",
     "text": [
      "/home/sumeetkd/.pyenv/versions/3.11.1/envs/hugface/lib/python3.11/site-packages/tqdm/auto.py:22: TqdmWarning: IProgress not found. Please update jupyter and ipywidgets. See https://ipywidgets.readthedocs.io/en/stable/user_install.html\n",
      "  from .autonotebook import tqdm as notebook_tqdm\n"
     ]
    }
   ],
   "source": [
    "import spacy\n",
    "nlp = spacy.load(\"en_core_web_sm\")"
   ]
  },
  {
   "cell_type": "code",
   "execution_count": 38,
   "id": "3fc3905a-80b9-4ddd-bd59-0356c810da0a",
   "metadata": {},
   "outputs": [],
   "source": [
    "def spacy_tokenizer(document):\n",
    "    tokens = nlp(document)\n",
    "    tokens = [token.lemma_.lower() for token in tokens if (\n",
    "        token.is_stop == False and \\\n",
    "        token.is_punct == False and \\\n",
    "        token.lemma_.strip()!= '')]\n",
    "    return tokens"
   ]
  },
  {
   "cell_type": "code",
   "execution_count": 39,
   "id": "ddeee7f4-d266-403f-9c96-56da16cb6293",
   "metadata": {},
   "outputs": [],
   "source": [
    "from sklearn.feature_extraction.text import CountVectorizer\n",
    "vector = CountVectorizer(input = 'content', tokenizer = spacy_tokenizer)"
   ]
  },
  {
   "cell_type": "code",
   "execution_count": 40,
   "id": "1772f706-50ce-40a1-bf67-397ede74050b",
   "metadata": {},
   "outputs": [
    {
     "name": "stderr",
     "output_type": "stream",
     "text": [
      "/home/sumeetkd/.pyenv/versions/3.11.1/envs/hugface/lib/python3.11/site-packages/sklearn/feature_extraction/text.py:528: UserWarning: The parameter 'token_pattern' will not be used since 'tokenizer' is not None'\n",
      "  warnings.warn(\n"
     ]
    }
   ],
   "source": [
    "train_features_td = vector.fit_transform(train_set['features'].values)"
   ]
  },
  {
   "cell_type": "code",
   "execution_count": 41,
   "id": "f235b755-516a-4635-8c4d-bd6bfbb2dff6",
   "metadata": {},
   "outputs": [],
   "source": [
    "test_features_td = vector.transform(test_set['features'].values)"
   ]
  },
  {
   "cell_type": "markdown",
   "id": "9fe4c7ad-40ae-42ba-bdf1-48081aab7283",
   "metadata": {
    "tags": []
   },
   "source": [
    "# Model selection and prediction"
   ]
  },
  {
   "cell_type": "markdown",
   "id": "31c05fa4-2540-49d4-9721-fe349c9e38a6",
   "metadata": {},
   "source": [
    "- There could be a relation between the first few words of tender_details and the label. We should try to capture the first few words of the description and use that as features\n",
    "- To begin with we will try to understand the effectiveness of Naive Bayes"
   ]
  },
  {
   "cell_type": "markdown",
   "id": "04aba571-1905-4a2e-9066-2b0afe77ebb8",
   "metadata": {},
   "source": [
    "## Model: Naive Bayes"
   ]
  },
  {
   "cell_type": "code",
   "execution_count": 42,
   "id": "5afd9b7b-91fc-4f45-885c-02028804294f",
   "metadata": {},
   "outputs": [],
   "source": [
    "from sklearn.naive_bayes import MultinomialNB\n",
    "nb = MultinomialNB()"
   ]
  },
  {
   "cell_type": "code",
   "execution_count": 44,
   "id": "aa0b5397-da4c-46ce-99b6-e366d58102de",
   "metadata": {},
   "outputs": [
    {
     "data": {
      "text/plain": [
       "array([0, 0, 0, 0, 4, 4, 4])"
      ]
     },
     "execution_count": 44,
     "metadata": {},
     "output_type": "execute_result"
    }
   ],
   "source": [
    "tenders['label'][1:8].values"
   ]
  },
  {
   "cell_type": "code",
   "execution_count": 45,
   "id": "f548edc5-268b-4feb-8d97-dd995903dd48",
   "metadata": {},
   "outputs": [
    {
     "data": {
      "text/html": [
       "<style>#sk-container-id-1 {color: black;background-color: white;}#sk-container-id-1 pre{padding: 0;}#sk-container-id-1 div.sk-toggleable {background-color: white;}#sk-container-id-1 label.sk-toggleable__label {cursor: pointer;display: block;width: 100%;margin-bottom: 0;padding: 0.3em;box-sizing: border-box;text-align: center;}#sk-container-id-1 label.sk-toggleable__label-arrow:before {content: \"▸\";float: left;margin-right: 0.25em;color: #696969;}#sk-container-id-1 label.sk-toggleable__label-arrow:hover:before {color: black;}#sk-container-id-1 div.sk-estimator:hover label.sk-toggleable__label-arrow:before {color: black;}#sk-container-id-1 div.sk-toggleable__content {max-height: 0;max-width: 0;overflow: hidden;text-align: left;background-color: #f0f8ff;}#sk-container-id-1 div.sk-toggleable__content pre {margin: 0.2em;color: black;border-radius: 0.25em;background-color: #f0f8ff;}#sk-container-id-1 input.sk-toggleable__control:checked~div.sk-toggleable__content {max-height: 200px;max-width: 100%;overflow: auto;}#sk-container-id-1 input.sk-toggleable__control:checked~label.sk-toggleable__label-arrow:before {content: \"▾\";}#sk-container-id-1 div.sk-estimator input.sk-toggleable__control:checked~label.sk-toggleable__label {background-color: #d4ebff;}#sk-container-id-1 div.sk-label input.sk-toggleable__control:checked~label.sk-toggleable__label {background-color: #d4ebff;}#sk-container-id-1 input.sk-hidden--visually {border: 0;clip: rect(1px 1px 1px 1px);clip: rect(1px, 1px, 1px, 1px);height: 1px;margin: -1px;overflow: hidden;padding: 0;position: absolute;width: 1px;}#sk-container-id-1 div.sk-estimator {font-family: monospace;background-color: #f0f8ff;border: 1px dotted black;border-radius: 0.25em;box-sizing: border-box;margin-bottom: 0.5em;}#sk-container-id-1 div.sk-estimator:hover {background-color: #d4ebff;}#sk-container-id-1 div.sk-parallel-item::after {content: \"\";width: 100%;border-bottom: 1px solid gray;flex-grow: 1;}#sk-container-id-1 div.sk-label:hover label.sk-toggleable__label {background-color: #d4ebff;}#sk-container-id-1 div.sk-serial::before {content: \"\";position: absolute;border-left: 1px solid gray;box-sizing: border-box;top: 0;bottom: 0;left: 50%;z-index: 0;}#sk-container-id-1 div.sk-serial {display: flex;flex-direction: column;align-items: center;background-color: white;padding-right: 0.2em;padding-left: 0.2em;position: relative;}#sk-container-id-1 div.sk-item {position: relative;z-index: 1;}#sk-container-id-1 div.sk-parallel {display: flex;align-items: stretch;justify-content: center;background-color: white;position: relative;}#sk-container-id-1 div.sk-item::before, #sk-container-id-1 div.sk-parallel-item::before {content: \"\";position: absolute;border-left: 1px solid gray;box-sizing: border-box;top: 0;bottom: 0;left: 50%;z-index: -1;}#sk-container-id-1 div.sk-parallel-item {display: flex;flex-direction: column;z-index: 1;position: relative;background-color: white;}#sk-container-id-1 div.sk-parallel-item:first-child::after {align-self: flex-end;width: 50%;}#sk-container-id-1 div.sk-parallel-item:last-child::after {align-self: flex-start;width: 50%;}#sk-container-id-1 div.sk-parallel-item:only-child::after {width: 0;}#sk-container-id-1 div.sk-dashed-wrapped {border: 1px dashed gray;margin: 0 0.4em 0.5em 0.4em;box-sizing: border-box;padding-bottom: 0.4em;background-color: white;}#sk-container-id-1 div.sk-label label {font-family: monospace;font-weight: bold;display: inline-block;line-height: 1.2em;}#sk-container-id-1 div.sk-label-container {text-align: center;}#sk-container-id-1 div.sk-container {/* jupyter's `normalize.less` sets `[hidden] { display: none; }` but bootstrap.min.css set `[hidden] { display: none !important; }` so we also need the `!important` here to be able to override the default hidden behavior on the sphinx rendered scikit-learn.org. See: https://github.com/scikit-learn/scikit-learn/issues/21755 */display: inline-block !important;position: relative;}#sk-container-id-1 div.sk-text-repr-fallback {display: none;}</style><div id=\"sk-container-id-1\" class=\"sk-top-container\"><div class=\"sk-text-repr-fallback\"><pre>MultinomialNB()</pre><b>In a Jupyter environment, please rerun this cell to show the HTML representation or trust the notebook. <br />On GitHub, the HTML representation is unable to render, please try loading this page with nbviewer.org.</b></div><div class=\"sk-container\" hidden><div class=\"sk-item\"><div class=\"sk-estimator sk-toggleable\"><input class=\"sk-toggleable__control sk-hidden--visually\" id=\"sk-estimator-id-1\" type=\"checkbox\" checked><label for=\"sk-estimator-id-1\" class=\"sk-toggleable__label sk-toggleable__label-arrow\">MultinomialNB</label><div class=\"sk-toggleable__content\"><pre>MultinomialNB()</pre></div></div></div></div></div>"
      ],
      "text/plain": [
       "MultinomialNB()"
      ]
     },
     "execution_count": 45,
     "metadata": {},
     "output_type": "execute_result"
    }
   ],
   "source": [
    "nb.fit(train_features_td,train_set['label'])"
   ]
  },
  {
   "cell_type": "code",
   "execution_count": 46,
   "id": "0e2e874d-4faf-48f1-8681-c2da68e106fb",
   "metadata": {},
   "outputs": [
    {
     "data": {
      "text/plain": [
       "array([1])"
      ]
     },
     "execution_count": 46,
     "metadata": {},
     "output_type": "execute_result"
    }
   ],
   "source": [
    "nb.predict(train_features_td[0])"
   ]
  },
  {
   "cell_type": "code",
   "execution_count": 47,
   "id": "4f2ac693-2b86-40cd-9d7e-f409fe7586e4",
   "metadata": {},
   "outputs": [
    {
     "data": {
      "text/plain": [
       "0"
      ]
     },
     "execution_count": 47,
     "metadata": {},
     "output_type": "execute_result"
    }
   ],
   "source": [
    "train_set['label'][0]"
   ]
  },
  {
   "cell_type": "markdown",
   "id": "1cede44e-66bb-41c3-8f65-085ac287e643",
   "metadata": {},
   "source": [
    "## Evaluation"
   ]
  },
  {
   "cell_type": "code",
   "execution_count": 48,
   "id": "2d189d2f-f380-4daf-a257-79169110e0a9",
   "metadata": {},
   "outputs": [],
   "source": [
    "from sklearn.metrics import ConfusionMatrixDisplay"
   ]
  },
  {
   "cell_type": "code",
   "execution_count": 49,
   "id": "19078ed2-4e76-47d9-83d5-21b6b37ba6f9",
   "metadata": {},
   "outputs": [
    {
     "data": {
      "text/plain": [
       "<sklearn.metrics._plot.confusion_matrix.ConfusionMatrixDisplay at 0x7f8d6be8ea90>"
      ]
     },
     "execution_count": 49,
     "metadata": {},
     "output_type": "execute_result"
    },
    {
     "data": {
      "image/png": "[encoded data removed]",
      "text/plain": [
       "<Figure size 640x480 with 2 Axes>"
      ]
     },
     "metadata": {},
     "output_type": "display_data"
    }
   ],
   "source": [
    "ConfusionMatrixDisplay.from_predictions(test_set['label'],nb.predict(test_features_td))"
   ]
  },
  {
   "cell_type": "markdown",
   "id": "f058a78d-7356-47bb-b17f-096429173f81",
   "metadata": {},
   "source": [
    "Evaluation of accuracy could be done using the standard accuracy metric "
   ]
  },
  {
   "cell_type": "code",
   "execution_count": 50,
   "id": "c269475d-0f04-4075-a667-ec6b6906f480",
   "metadata": {},
   "outputs": [],
   "source": [
    "from sklearn.metrics import accuracy_score"
   ]
  },
  {
   "cell_type": "code",
   "execution_count": 51,
   "id": "50e76d10-bae1-4dfd-97a2-8c577bc76b5d",
   "metadata": {},
   "outputs": [
    {
     "data": {
      "text/plain": [
       "0.7368421052631579"
      ]
     },
     "execution_count": 51,
     "metadata": {},
     "output_type": "execute_result"
    }
   ],
   "source": [
    "accuracy_score(test_set['label'],nb.predict(test_features_td))"
   ]
  },
  {
   "cell_type": "markdown",
   "id": "4f0e19dd-2f8d-485c-bbb8-535d9d2f570e",
   "metadata": {},
   "source": [
    "Being greater than 70%, this seems like an okay result. "
   ]
  },
  {
   "cell_type": "markdown",
   "id": "b37a84ec-4582-44a5-b2f0-70116eaba114",
   "metadata": {},
   "source": [
    "However, we have seen that the other classes are not doing quite well.\n",
    "A better metric that is able to capture the effectiveness to classify in imbalanced classes is the balanced accuracy"
   ]
  },
  {
   "cell_type": "code",
   "execution_count": 52,
   "id": "6581c2c3-ecb2-4e3b-9550-9ee2349e943c",
   "metadata": {},
   "outputs": [],
   "source": [
    "from sklearn.metrics import balanced_accuracy_score"
   ]
  },
  {
   "cell_type": "code",
   "execution_count": 53,
   "id": "f4d90bde-954e-471f-b425-9e929e6a7b49",
   "metadata": {},
   "outputs": [
    {
     "data": {
      "text/plain": [
       "0.4642857142857143"
      ]
     },
     "execution_count": 53,
     "metadata": {},
     "output_type": "execute_result"
    }
   ],
   "source": [
    "balanced_accuracy_score(test_set['label'],nb.predict(test_features_td))"
   ]
  },
  {
   "cell_type": "markdown",
   "id": "c2ee033c-5083-4f26-b38e-df40af2aeaac",
   "metadata": {},
   "source": [
    "With balanced accuracy, we can see that we the current model is not doing well and we should be exploring other models"
   ]
  },
  {
   "cell_type": "markdown",
   "id": "1ef5e4fe-86b0-440c-9f91-0480d3cdb0e7",
   "metadata": {},
   "source": [
    "# Representation: Word Embeddings"
   ]
  },
  {
   "cell_type": "markdown",
   "id": "b844f04b-da93-4246-816c-5f172704ca99",
   "metadata": {},
   "source": [
    "## Transforming the train and test data"
   ]
  },
  {
   "cell_type": "code",
   "execution_count": 67,
   "id": "427449d7-7e51-4ad3-ad3e-487f1fc8d65b",
   "metadata": {},
   "outputs": [],
   "source": [
    "from gensim.models import Word2Vec, KeyedVectors"
   ]
  },
  {
   "cell_type": "code",
   "execution_count": 68,
   "id": "7f20ebd7-4e26-40c5-991e-78f7660e4857",
   "metadata": {},
   "outputs": [],
   "source": [
    "import numpy as np"
   ]
  },
  {
   "cell_type": "markdown",
   "id": "663af461-2f4e-44ff-9e73-239b22ea57a2",
   "metadata": {},
   "source": [
    "Download the model from https://drive.google.com/file/d/0B7XkCwpI5KDYNlNUTTlSS21pQmM/edit?resourcekey=0-wjGZdNAUop6WykTtMip30g\n",
    "And unzip it"
   ]
  },
  {
   "cell_type": "code",
   "execution_count": 69,
   "id": "a4c707aa-17dc-45b6-aeaf-0c3e17b201dc",
   "metadata": {},
   "outputs": [],
   "source": [
    "path_to_model = 'GoogleNews-vectors-negative300.bin'"
   ]
  },
  {
   "cell_type": "code",
   "execution_count": 70,
   "id": "c2ef9ddf-e3c4-4bab-9b80-7ced3bdaab6c",
   "metadata": {},
   "outputs": [],
   "source": [
    "w2v_model = KeyedVectors.load_word2vec_format(path_to_model, binary=True)"
   ]
  },
  {
   "cell_type": "code",
   "execution_count": 71,
   "id": "72bec5ba-de24-40d7-9385-c33c83bd3597",
   "metadata": {},
   "outputs": [],
   "source": [
    "def embedding_feats(list_of_lists):\n",
    "    DIMENSION = 300\n",
    "    zero_vector = np.zeros(DIMENSION)\n",
    "    feats = []\n",
    "    for tokens in list_of_lists:\n",
    "        feat_for_this =  np.zeros(DIMENSION)\n",
    "        count_for_this = 0 + 1e-5 # to avoid divide-by-zero \n",
    "        for token in tokens:\n",
    "            if token in w2v_model:\n",
    "                feat_for_this += w2v_model[token]\n",
    "                count_for_this +=1\n",
    "        if(count_for_this!=0):\n",
    "            feats.append(feat_for_this/count_for_this) \n",
    "        else:\n",
    "            feats.append(zero_vector)\n",
    "    return feats"
   ]
  },
  {
   "cell_type": "code",
   "execution_count": 72,
   "id": "010b22c8-3948-4fd1-8ef9-e10aaec86c5c",
   "metadata": {},
   "outputs": [],
   "source": [
    "train_features_we = embedding_feats(train_set['features'].values)"
   ]
  },
  {
   "cell_type": "code",
   "execution_count": 73,
   "id": "f896e625-7421-46bb-a72c-88060e314089",
   "metadata": {},
   "outputs": [],
   "source": [
    "test_features_we = embedding_feats(test_set['features'].values)"
   ]
  },
  {
   "cell_type": "markdown",
   "id": "a15218f0-b26a-41f9-a9f7-f27f4cf6930b",
   "metadata": {},
   "source": [
    "## Model: Naive Bayes"
   ]
  },
  {
   "cell_type": "code",
   "execution_count": 74,
   "id": "8da79371-de3a-46d0-9912-3a01e72b5814",
   "metadata": {},
   "outputs": [],
   "source": [
    "from sklearn.naive_bayes import MultinomialNB\n",
    "nb_we = MultinomialNB()"
   ]
  },
  {
   "cell_type": "code",
   "execution_count": 75,
   "id": "ac6b43a6-f814-4a21-8e2f-c9a06b008921",
   "metadata": {},
   "outputs": [],
   "source": [
    "from sklearn.preprocessing import MinMaxScaler"
   ]
  },
  {
   "cell_type": "code",
   "execution_count": 76,
   "id": "9ae2266b-be4c-4fcb-99fb-9281239cfeb4",
   "metadata": {},
   "outputs": [
    {
     "data": {
      "text/html": [
       "<style>#sk-container-id-2 {color: black;background-color: white;}#sk-container-id-2 pre{padding: 0;}#sk-container-id-2 div.sk-toggleable {background-color: white;}#sk-container-id-2 label.sk-toggleable__label {cursor: pointer;display: block;width: 100%;margin-bottom: 0;padding: 0.3em;box-sizing: border-box;text-align: center;}#sk-container-id-2 label.sk-toggleable__label-arrow:before {content: \"▸\";float: left;margin-right: 0.25em;color: #696969;}#sk-container-id-2 label.sk-toggleable__label-arrow:hover:before {color: black;}#sk-container-id-2 div.sk-estimator:hover label.sk-toggleable__label-arrow:before {color: black;}#sk-container-id-2 div.sk-toggleable__content {max-height: 0;max-width: 0;overflow: hidden;text-align: left;background-color: #f0f8ff;}#sk-container-id-2 div.sk-toggleable__content pre {margin: 0.2em;color: black;border-radius: 0.25em;background-color: #f0f8ff;}#sk-container-id-2 input.sk-toggleable__control:checked~div.sk-toggleable__content {max-height: 200px;max-width: 100%;overflow: auto;}#sk-container-id-2 input.sk-toggleable__control:checked~label.sk-toggleable__label-arrow:before {content: \"▾\";}#sk-container-id-2 div.sk-estimator input.sk-toggleable__control:checked~label.sk-toggleable__label {background-color: #d4ebff;}#sk-container-id-2 div.sk-label input.sk-toggleable__control:checked~label.sk-toggleable__label {background-color: #d4ebff;}#sk-container-id-2 input.sk-hidden--visually {border: 0;clip: rect(1px 1px 1px 1px);clip: rect(1px, 1px, 1px, 1px);height: 1px;margin: -1px;overflow: hidden;padding: 0;position: absolute;width: 1px;}#sk-container-id-2 div.sk-estimator {font-family: monospace;background-color: #f0f8ff;border: 1px dotted black;border-radius: 0.25em;box-sizing: border-box;margin-bottom: 0.5em;}#sk-container-id-2 div.sk-estimator:hover {background-color: #d4ebff;}#sk-container-id-2 div.sk-parallel-item::after {content: \"\";width: 100%;border-bottom: 1px solid gray;flex-grow: 1;}#sk-container-id-2 div.sk-label:hover label.sk-toggleable__label {background-color: #d4ebff;}#sk-container-id-2 div.sk-serial::before {content: \"\";position: absolute;border-left: 1px solid gray;box-sizing: border-box;top: 0;bottom: 0;left: 50%;z-index: 0;}#sk-container-id-2 div.sk-serial {display: flex;flex-direction: column;align-items: center;background-color: white;padding-right: 0.2em;padding-left: 0.2em;position: relative;}#sk-container-id-2 div.sk-item {position: relative;z-index: 1;}#sk-container-id-2 div.sk-parallel {display: flex;align-items: stretch;justify-content: center;background-color: white;position: relative;}#sk-container-id-2 div.sk-item::before, #sk-container-id-2 div.sk-parallel-item::before {content: \"\";position: absolute;border-left: 1px solid gray;box-sizing: border-box;top: 0;bottom: 0;left: 50%;z-index: -1;}#sk-container-id-2 div.sk-parallel-item {display: flex;flex-direction: column;z-index: 1;position: relative;background-color: white;}#sk-container-id-2 div.sk-parallel-item:first-child::after {align-self: flex-end;width: 50%;}#sk-container-id-2 div.sk-parallel-item:last-child::after {align-self: flex-start;width: 50%;}#sk-container-id-2 div.sk-parallel-item:only-child::after {width: 0;}#sk-container-id-2 div.sk-dashed-wrapped {border: 1px dashed gray;margin: 0 0.4em 0.5em 0.4em;box-sizing: border-box;padding-bottom: 0.4em;background-color: white;}#sk-container-id-2 div.sk-label label {font-family: monospace;font-weight: bold;display: inline-block;line-height: 1.2em;}#sk-container-id-2 div.sk-label-container {text-align: center;}#sk-container-id-2 div.sk-container {/* jupyter's `normalize.less` sets `[hidden] { display: none; }` but bootstrap.min.css set `[hidden] { display: none !important; }` so we also need the `!important` here to be able to override the default hidden behavior on the sphinx rendered scikit-learn.org. See: https://github.com/scikit-learn/scikit-learn/issues/21755 */display: inline-block !important;position: relative;}#sk-container-id-2 div.sk-text-repr-fallback {display: none;}</style><div id=\"sk-container-id-2\" class=\"sk-top-container\"><div class=\"sk-text-repr-fallback\"><pre>MinMaxScaler()</pre><b>In a Jupyter environment, please rerun this cell to show the HTML representation or trust the notebook. <br />On GitHub, the HTML representation is unable to render, please try loading this page with nbviewer.org.</b></div><div class=\"sk-container\" hidden><div class=\"sk-item\"><div class=\"sk-estimator sk-toggleable\"><input class=\"sk-toggleable__control sk-hidden--visually\" id=\"sk-estimator-id-2\" type=\"checkbox\" checked><label for=\"sk-estimator-id-2\" class=\"sk-toggleable__label sk-toggleable__label-arrow\">MinMaxScaler</label><div class=\"sk-toggleable__content\"><pre>MinMaxScaler()</pre></div></div></div></div></div>"
      ],
      "text/plain": [
       "MinMaxScaler()"
      ]
     },
     "execution_count": 76,
     "metadata": {},
     "output_type": "execute_result"
    }
   ],
   "source": [
    "scaler = MinMaxScaler()\n",
    "scaler.fit(train_features_we)"
   ]
  },
  {
   "cell_type": "code",
   "execution_count": 77,
   "id": "30ba8afc-11d4-4251-8322-38308bbd2f64",
   "metadata": {},
   "outputs": [],
   "source": [
    "train_features_we_nb = scaler.transform(train_features_we)"
   ]
  },
  {
   "cell_type": "code",
   "execution_count": 78,
   "id": "68e10768-907e-4e21-ae6a-204b4907b0be",
   "metadata": {},
   "outputs": [
    {
     "data": {
      "text/html": [
       "<style>#sk-container-id-3 {color: black;background-color: white;}#sk-container-id-3 pre{padding: 0;}#sk-container-id-3 div.sk-toggleable {background-color: white;}#sk-container-id-3 label.sk-toggleable__label {cursor: pointer;display: block;width: 100%;margin-bottom: 0;padding: 0.3em;box-sizing: border-box;text-align: center;}#sk-container-id-3 label.sk-toggleable__label-arrow:before {content: \"▸\";float: left;margin-right: 0.25em;color: #696969;}#sk-container-id-3 label.sk-toggleable__label-arrow:hover:before {color: black;}#sk-container-id-3 div.sk-estimator:hover label.sk-toggleable__label-arrow:before {color: black;}#sk-container-id-3 div.sk-toggleable__content {max-height: 0;max-width: 0;overflow: hidden;text-align: left;background-color: #f0f8ff;}#sk-container-id-3 div.sk-toggleable__content pre {margin: 0.2em;color: black;border-radius: 0.25em;background-color: #f0f8ff;}#sk-container-id-3 input.sk-toggleable__control:checked~div.sk-toggleable__content {max-height: 200px;max-width: 100%;overflow: auto;}#sk-container-id-3 input.sk-toggleable__control:checked~label.sk-toggleable__label-arrow:before {content: \"▾\";}#sk-container-id-3 div.sk-estimator input.sk-toggleable__control:checked~label.sk-toggleable__label {background-color: #d4ebff;}#sk-container-id-3 div.sk-label input.sk-toggleable__control:checked~label.sk-toggleable__label {background-color: #d4ebff;}#sk-container-id-3 input.sk-hidden--visually {border: 0;clip: rect(1px 1px 1px 1px);clip: rect(1px, 1px, 1px, 1px);height: 1px;margin: -1px;overflow: hidden;padding: 0;position: absolute;width: 1px;}#sk-container-id-3 div.sk-estimator {font-family: monospace;background-color: #f0f8ff;border: 1px dotted black;border-radius: 0.25em;box-sizing: border-box;margin-bottom: 0.5em;}#sk-container-id-3 div.sk-estimator:hover {background-color: #d4ebff;}#sk-container-id-3 div.sk-parallel-item::after {content: \"\";width: 100%;border-bottom: 1px solid gray;flex-grow: 1;}#sk-container-id-3 div.sk-label:hover label.sk-toggleable__label {background-color: #d4ebff;}#sk-container-id-3 div.sk-serial::before {content: \"\";position: absolute;border-left: 1px solid gray;box-sizing: border-box;top: 0;bottom: 0;left: 50%;z-index: 0;}#sk-container-id-3 div.sk-serial {display: flex;flex-direction: column;align-items: center;background-color: white;padding-right: 0.2em;padding-left: 0.2em;position: relative;}#sk-container-id-3 div.sk-item {position: relative;z-index: 1;}#sk-container-id-3 div.sk-parallel {display: flex;align-items: stretch;justify-content: center;background-color: white;position: relative;}#sk-container-id-3 div.sk-item::before, #sk-container-id-3 div.sk-parallel-item::before {content: \"\";position: absolute;border-left: 1px solid gray;box-sizing: border-box;top: 0;bottom: 0;left: 50%;z-index: -1;}#sk-container-id-3 div.sk-parallel-item {display: flex;flex-direction: column;z-index: 1;position: relative;background-color: white;}#sk-container-id-3 div.sk-parallel-item:first-child::after {align-self: flex-end;width: 50%;}#sk-container-id-3 div.sk-parallel-item:last-child::after {align-self: flex-start;width: 50%;}#sk-container-id-3 div.sk-parallel-item:only-child::after {width: 0;}#sk-container-id-3 div.sk-dashed-wrapped {border: 1px dashed gray;margin: 0 0.4em 0.5em 0.4em;box-sizing: border-box;padding-bottom: 0.4em;background-color: white;}#sk-container-id-3 div.sk-label label {font-family: monospace;font-weight: bold;display: inline-block;line-height: 1.2em;}#sk-container-id-3 div.sk-label-container {text-align: center;}#sk-container-id-3 div.sk-container {/* jupyter's `normalize.less` sets `[hidden] { display: none; }` but bootstrap.min.css set `[hidden] { display: none !important; }` so we also need the `!important` here to be able to override the default hidden behavior on the sphinx rendered scikit-learn.org. See: https://github.com/scikit-learn/scikit-learn/issues/21755 */display: inline-block !important;position: relative;}#sk-container-id-3 div.sk-text-repr-fallback {display: none;}</style><div id=\"sk-container-id-3\" class=\"sk-top-container\"><div class=\"sk-text-repr-fallback\"><pre>MultinomialNB()</pre><b>In a Jupyter environment, please rerun this cell to show the HTML representation or trust the notebook. <br />On GitHub, the HTML representation is unable to render, please try loading this page with nbviewer.org.</b></div><div class=\"sk-container\" hidden><div class=\"sk-item\"><div class=\"sk-estimator sk-toggleable\"><input class=\"sk-toggleable__control sk-hidden--visually\" id=\"sk-estimator-id-3\" type=\"checkbox\" checked><label for=\"sk-estimator-id-3\" class=\"sk-toggleable__label sk-toggleable__label-arrow\">MultinomialNB</label><div class=\"sk-toggleable__content\"><pre>MultinomialNB()</pre></div></div></div></div></div>"
      ],
      "text/plain": [
       "MultinomialNB()"
      ]
     },
     "execution_count": 78,
     "metadata": {},
     "output_type": "execute_result"
    }
   ],
   "source": [
    "nb_we.fit(train_features_we_nb,train_set['label'])"
   ]
  },
  {
   "cell_type": "code",
   "execution_count": null,
   "id": "933f4308-89d6-4252-8624-4453580a2a69",
   "metadata": {},
   "outputs": [],
   "source": [
    "nb_we.predict(train_features_we_nb[0:5])"
   ]
  },
  {
   "cell_type": "code",
   "execution_count": null,
   "id": "1bf0ae8a-5225-401c-b6c1-92136ec20e93",
   "metadata": {},
   "outputs": [],
   "source": [
    "train_set['label'][0:5]"
   ]
  },
  {
   "cell_type": "markdown",
   "id": "ed4755ac-e8fa-45e9-a39d-c638d2c96af2",
   "metadata": {},
   "source": [
    "### Evaluation"
   ]
  },
  {
   "cell_type": "code",
   "execution_count": 81,
   "id": "0819309d-4e77-463d-bc8e-b2a3de734a92",
   "metadata": {},
   "outputs": [
    {
     "data": {
      "text/plain": [
       "<sklearn.metrics._plot.confusion_matrix.ConfusionMatrixDisplay at 0x7f8d6681ed90>"
      ]
     },
     "execution_count": 81,
     "metadata": {},
     "output_type": "execute_result"
    },
    {
     "data": {
      "image/png": "[encoded data removed]",
      "text/plain": [
       "<Figure size 640x480 with 2 Axes>"
      ]
     },
     "metadata": {},
     "output_type": "display_data"
    }
   ],
   "source": [
    "ConfusionMatrixDisplay.from_predictions(test_set['label'],nb_we.predict(scaler.transform(test_features_we)))"
   ]
  },
  {
   "cell_type": "markdown",
   "id": "62ea28b6-95de-4df1-87e3-1fb8c87b31c6",
   "metadata": {},
   "source": [
    "Evaluation of accuracy could be done using the standard accuracy metric "
   ]
  },
  {
   "cell_type": "code",
   "execution_count": 82,
   "id": "dc0df64f-8faf-43d4-8685-cc90e959ce1b",
   "metadata": {},
   "outputs": [
    {
     "data": {
      "text/plain": [
       "0.7894736842105263"
      ]
     },
     "execution_count": 82,
     "metadata": {},
     "output_type": "execute_result"
    }
   ],
   "source": [
    "accuracy_score(test_set['label'],nb_we.predict(scaler.transform(test_features_we)))"
   ]
  },
  {
   "cell_type": "code",
   "execution_count": 83,
   "id": "4437ef4a-430f-44fd-b5a5-79d586fb0bac",
   "metadata": {},
   "outputs": [
    {
     "data": {
      "text/plain": [
       "0.375"
      ]
     },
     "execution_count": 83,
     "metadata": {},
     "output_type": "execute_result"
    }
   ],
   "source": [
    "balanced_accuracy_score(test_set['label'],nb_we.predict(scaler.transform(test_features_we)))"
   ]
  },
  {
   "cell_type": "markdown",
   "id": "9b0a340c-68b6-43ad-a675-4d40bf0e1274",
   "metadata": {},
   "source": [
    "Interestingly the standard accuracy seems to have increased while the balanced accuracy decreased"
   ]
  },
  {
   "cell_type": "markdown",
   "id": "b6b484fb-eeb5-4f0c-8a46-72fe5758da5f",
   "metadata": {},
   "source": [
    "# Large Language Models"
   ]
  },
  {
   "cell_type": "markdown",
   "id": "d33b9fac-aa2d-40bd-a456-b46a00247af9",
   "metadata": {},
   "source": [
    "## Preprocessing the data"
   ]
  },
  {
   "cell_type": "markdown",
   "id": "98530bf9-592c-498b-b779-aa10a6b33022",
   "metadata": {},
   "source": [
    "Creating an evaluation set for LLM training"
   ]
  },
  {
   "cell_type": "code",
   "execution_count": 132,
   "id": "3ae4c523-108c-43ca-a6b4-052b15e0222c",
   "metadata": {},
   "outputs": [],
   "source": [
    "train_set_hf, eval_set_hf = train_test_split(train_set, test_size=0.2, random_state=1)"
   ]
  },
  {
   "cell_type": "markdown",
   "id": "991217a2-9d08-4da0-b341-8445f30cc426",
   "metadata": {},
   "source": [
    "Combining the line items in boq_details into a single string"
   ]
  },
  {
   "cell_type": "code",
   "execution_count": 134,
   "id": "f2c5e30f-9f74-40d9-8564-e506825535e7",
   "metadata": {
    "tags": []
   },
   "outputs": [],
   "source": [
    "dataset = {'train':[{'text':text, 'label':label} for text, label in zip(train_set_hf['features'],train_set_hf['label'])], 'test':[{'text':text, 'label':label} for text, label in zip(eval_set_hf['features'],eval_set_hf['label'])]}"
   ]
  },
  {
   "cell_type": "markdown",
   "id": "7cf6dae2-64c7-4112-a48e-9779ee7fa44d",
   "metadata": {},
   "source": [
    "## Tokenizing the dataset for using the BERT tokenizer"
   ]
  },
  {
   "cell_type": "code",
   "execution_count": 54,
   "id": "3818745b-20ae-4100-87a5-a7b306be8811",
   "metadata": {
    "tags": []
   },
   "outputs": [],
   "source": [
    "from transformers import AutoTokenizer"
   ]
  },
  {
   "cell_type": "code",
   "execution_count": 55,
   "id": "02680db7-ec7f-4a83-937e-513701ac2040",
   "metadata": {
    "tags": []
   },
   "outputs": [],
   "source": [
    "tokenizer = AutoTokenizer.from_pretrained(\"bert-base-uncased\")"
   ]
  },
  {
   "cell_type": "code",
   "execution_count": 137,
   "id": "870ab8e8-f3fd-4c06-9b45-fe260fcd4c9f",
   "metadata": {
    "tags": []
   },
   "outputs": [],
   "source": [
    "def tokenize_function(examples):\n",
    "    return tokenizer(examples, padding=\"max_length\", truncation = True)"
   ]
  },
  {
   "cell_type": "code",
   "execution_count": 138,
   "id": "08efbd52-dbff-4de5-b2fd-d389d2f61f23",
   "metadata": {
    "tags": []
   },
   "outputs": [],
   "source": [
    "import copy"
   ]
  },
  {
   "cell_type": "code",
   "execution_count": 139,
   "id": "4130f515-082c-4bb5-87c6-ab8c57cde5ce",
   "metadata": {
    "tags": []
   },
   "outputs": [],
   "source": [
    "tokenized_dataset = {}\n",
    "tokenized_dataset['train'] = []\n",
    "for item in dataset['train']:\n",
    "    #print(item)\n",
    "    updateditem = copy.deepcopy(item)\n",
    "    tokenized = tokenize_function(item['text'])\n",
    "    updateditem.update(tokenized)\n",
    "    tokenized_dataset['train'].append(updateditem)"
   ]
  },
  {
   "cell_type": "code",
   "execution_count": 140,
   "id": "ffaa63d2-baf2-431f-9576-81cfc021585d",
   "metadata": {
    "tags": []
   },
   "outputs": [],
   "source": [
    "tokenized_dataset['test'] = []\n",
    "for item in dataset['test']:\n",
    "    #print(item)\n",
    "    updateditem = copy.deepcopy(item)\n",
    "    tokenized = tokenize_function(item['text'])\n",
    "    updateditem.update(tokenized)\n",
    "    tokenized_dataset['test'].append(updateditem)"
   ]
  },
  {
   "cell_type": "markdown",
   "id": "86e22a0f-87b4-4244-a4f9-b78ef3de1e0d",
   "metadata": {},
   "source": [
    "Picklingdata"
   ]
  },
  {
   "cell_type": "code",
   "execution_count": 141,
   "id": "2297d466-c88a-44bb-9fc8-5c4b57821696",
   "metadata": {},
   "outputs": [],
   "source": [
    "import pickle"
   ]
  },
  {
   "cell_type": "code",
   "execution_count": 142,
   "id": "9f9cb8d8-4131-4c21-9b7e-c21ad12c240b",
   "metadata": {},
   "outputs": [],
   "source": [
    "hf_data = 'pickledata'\n",
    "outfile = open(hf_data, 'wb')\n",
    "pickle.dump(tokenized_dataset, outfile)\n",
    "outfile.close()"
   ]
  },
  {
   "cell_type": "markdown",
   "id": "2d8b2a49-2eb3-4ec1-a1b8-5a4aacefa69a",
   "metadata": {},
   "source": [
    "## Training"
   ]
  },
  {
   "cell_type": "markdown",
   "id": "9ac97c2f-2221-44e7-bd95-bd983beaaef8",
   "metadata": {},
   "source": [
    "It is recommended that one runs the following steps on GPU.\n",
    "The model has been saved in the bert folder and loaded in the next section"
   ]
  },
  {
   "cell_type": "code",
   "execution_count": 144,
   "id": "65dbd51f-2bc3-4ec1-92a8-ce4b3ddb7b94",
   "metadata": {
    "tags": []
   },
   "outputs": [],
   "source": [
    "from transformers import AutoModelForSequenceClassification"
   ]
  },
  {
   "cell_type": "code",
   "execution_count": null,
   "id": "1f8d6f02-dd2e-416d-9322-c3a4e3ac0983",
   "metadata": {
    "tags": []
   },
   "outputs": [],
   "source": [
    "model = AutoModelForSequenceClassification.from_pretrained(\"bert-base-uncased\", num_labels=5)"
   ]
  },
  {
   "cell_type": "code",
   "execution_count": null,
   "id": "a16bf3ee-fa35-42a4-afa6-ac9cb0108032",
   "metadata": {
    "tags": []
   },
   "outputs": [],
   "source": [
    "from transformers import TrainingArguments\n",
    "training_args = TrainingArguments(output_dir=\"test_trainer\")"
   ]
  },
  {
   "cell_type": "code",
   "execution_count": null,
   "id": "0e002617-9b9c-4ce2-b218-f1ae92b14732",
   "metadata": {
    "tags": []
   },
   "outputs": [],
   "source": [
    "import numpy as np\n",
    "import evaluate\n",
    "metric = evaluate.load(\"accuracy\")\n",
    "def compute_metrics(eval_pred):\n",
    "    logits, labels = eval_pred\n",
    "    predictions = np.argmax(logits, axis=-1)\n",
    "    return metric.compute(predictions=predictions, references=labels)"
   ]
  },
  {
   "cell_type": "code",
   "execution_count": null,
   "id": "f8d004bf-56c5-4583-bf11-bf6b8268c0f1",
   "metadata": {
    "tags": []
   },
   "outputs": [],
   "source": [
    "from transformers import TrainingArguments, Trainer\n",
    "training_args = TrainingArguments(output_dir=\"test_trainer\", evaluation_strategy=\"epoch\")"
   ]
  },
  {
   "cell_type": "code",
   "execution_count": null,
   "id": "9c392a67-3b7a-48b1-b27b-e5e4137f0b09",
   "metadata": {
    "tags": []
   },
   "outputs": [],
   "source": [
    "trainer = Trainer(\n",
    "    model=model,\n",
    "    args=training_args,\n",
    "    train_dataset=tokenized_dataset['train'],\n",
    "    eval_dataset=tokenized_dataset['test'],\n",
    "    compute_metrics=compute_metrics,\n",
    ")"
   ]
  },
  {
   "cell_type": "code",
   "execution_count": null,
   "id": "12466544-8868-4d14-bb91-8fc08e04d7a2",
   "metadata": {
    "tags": []
   },
   "outputs": [],
   "source": [
    "trainer.train()"
   ]
  },
  {
   "cell_type": "code",
   "execution_count": null,
   "id": "da73497d-cbf0-48f5-a72a-8c7449e07292",
   "metadata": {
    "id": "i2Ylp-CYdcaS"
   },
   "outputs": [],
   "source": [
    "modelpath = 'bert'"
   ]
  },
  {
   "cell_type": "code",
   "execution_count": null,
   "id": "cb612b25-f225-4834-9a05-c16728f60828",
   "metadata": {
    "colab": {
     "base_uri": "https://localhost:8080/"
    },
    "id": "Rn09WwdSf8_a",
    "outputId": "bf6ac42d-b325-41f3-c73b-15693e96e6e5"
   },
   "outputs": [],
   "source": [
    "trainer.save_model(modelpath)"
   ]
  },
  {
   "cell_type": "markdown",
   "id": "9dcd5363-8b88-4556-8905-fd2bd6e232f2",
   "metadata": {
    "tags": []
   },
   "source": [
    "# Evaluating model trained on google colab"
   ]
  },
  {
   "cell_type": "code",
   "execution_count": 57,
   "id": "d5ef3196-da88-4818-9e50-f461c2d14452",
   "metadata": {},
   "outputs": [],
   "source": [
    "from transformers import AutoModelForSequenceClassification\n",
    "model = AutoModelForSequenceClassification.from_pretrained('bert/', num_labels=5)"
   ]
  },
  {
   "cell_type": "code",
   "execution_count": 58,
   "id": "897d2349-7852-4ff2-8f55-186d9d701d72",
   "metadata": {},
   "outputs": [],
   "source": [
    "from transformers import pipeline"
   ]
  },
  {
   "cell_type": "code",
   "execution_count": 59,
   "id": "b77ec212-03e8-405b-a9ff-ecdb0a280a1d",
   "metadata": {},
   "outputs": [],
   "source": [
    "classifier = pipeline(\"text-classification\", model=model, tokenizer=tokenizer)"
   ]
  },
  {
   "cell_type": "code",
   "execution_count": 61,
   "id": "85f0c1ad-397c-4a2a-ad71-39334e377456",
   "metadata": {
    "tags": []
   },
   "outputs": [],
   "source": [
    "predictions = []\n",
    "for item, label in zip(test_set['features'], test_set['label'].values):\n",
    "    if len(item)>512:\n",
    "        data = item[:512]\n",
    "    else:\n",
    "        data = item\n",
    "    predictions.append(classifier(data)[0]['label'])"
   ]
  },
  {
   "cell_type": "code",
   "execution_count": 62,
   "id": "c2fe4b25-e30f-4488-b96c-0b1d97e53ebe",
   "metadata": {},
   "outputs": [],
   "source": [
    "final_predictions = [int(item.lstrip('LABEL_')) for item in predictions]"
   ]
  },
  {
   "cell_type": "code",
   "execution_count": 64,
   "id": "63f8fa30-ce39-4f02-bcce-a32afebe4209",
   "metadata": {},
   "outputs": [
    {
     "data": {
      "text/plain": [
       "<sklearn.metrics._plot.confusion_matrix.ConfusionMatrixDisplay at 0x7f8d66e3c490>"
      ]
     },
     "execution_count": 64,
     "metadata": {},
     "output_type": "execute_result"
    },
    {
     "data": {
      "image/png": "[encoded data removed]",
      "text/plain": [
       "<Figure size 640x480 with 2 Axes>"
      ]
     },
     "metadata": {},
     "output_type": "display_data"
    }
   ],
   "source": [
    "ConfusionMatrixDisplay.from_predictions(test_set['label'],final_predictions)"
   ]
  },
  {
   "cell_type": "code",
   "execution_count": 65,
   "id": "5b347959-5c0d-4b15-b653-c470d13e41d6",
   "metadata": {},
   "outputs": [
    {
     "data": {
      "text/plain": [
       "0.8421052631578947"
      ]
     },
     "execution_count": 65,
     "metadata": {},
     "output_type": "execute_result"
    }
   ],
   "source": [
    "accuracy_score(test_set['label'],final_predictions)"
   ]
  },
  {
   "cell_type": "code",
   "execution_count": 66,
   "id": "c3112ded-ae40-4327-874c-cdb8be690faa",
   "metadata": {},
   "outputs": [
    {
     "data": {
      "text/plain": [
       "0.5"
      ]
     },
     "execution_count": 66,
     "metadata": {},
     "output_type": "execute_result"
    }
   ],
   "source": [
    "balanced_accuracy_score(test_set['label'],final_predictions)"
   ]
  },
  {
   "cell_type": "markdown",
   "id": "d82936c5-6979-45bb-b3f7-d8b438442ba6",
   "metadata": {},
   "source": [
    "It appears that both the standard accuracy and the balanced accuracy have improved on using the large language model"
   ]
  },
  {
   "cell_type": "code",
   "execution_count": null,
   "id": "3df4d4d8-0ecd-475f-b53a-090309caa7f2",
   "metadata": {},
   "outputs": [],
   "source": []
  }
 ],
 "metadata": {
  "kernelspec": {
   "display_name": "hugface",
   "language": "python",
   "name": "hugface"
  },
  "language_info": {
   "codemirror_mode": {
    "name": "ipython",
    "version": 3
   },
   "file_extension": ".py",
   "mimetype": "text/x-python",
   "name": "python",
   "nbconvert_exporter": "python",
   "pygments_lexer": "ipython3",
   "version": "3.11.1"
  }
 },
 "nbformat": 4,
 "nbformat_minor": 5
}

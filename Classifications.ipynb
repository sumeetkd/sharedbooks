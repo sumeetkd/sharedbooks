{
 "cells": [
  {
   "cell_type": "markdown",
   "id": "7f81c472-dd78-45ab-b267-1f4978c86064",
   "metadata": {},
   "source": [
    "# Introduction "
   ]
  },
  {
   "cell_type": "markdown",
   "id": "4b2271af-ba27-48a6-9655-06936814ba6e",
   "metadata": {},
   "source": [
    "- The categories in are available in tender_categories\n",
    "- Data that is useful for categorization includes\n",
    "  - 'tender_details'\n",
    "  - 'tender_description' \n",
    "  - 'boq_items'\n",
    "  - 'boq_details'\n",
    "- After going through the features, we chose to combine the columns into a single string before feeding to the model\n",
    "- We used a simple countvectorizer to make vectors based on word frequencies\n",
    "- Naive Bayes was used to analyze these vectors\n",
    "- Evaluation using the standard accuracy metric suggests that gave good results but when using balanced accuracy we understood that naive bayes does not perform well"
   ]
  },
  {
   "cell_type": "markdown",
   "id": "21c20beb-91a2-4e93-8153-963d7d1801de",
   "metadata": {
    "jp-MarkdownHeadingCollapsed": true,
    "tags": []
   },
   "source": [
    "## Flow of logic"
   ]
  },
  {
   "cell_type": "markdown",
   "id": "9e4f85b8-6143-45d0-8429-18c3d7491816",
   "metadata": {
    "jp-MarkdownHeadingCollapsed": true,
    "tags": []
   },
   "source": [
    "### Ingesting tenders\n",
    "- Reading of data into pandas\n",
    "- Fixing repeated columns\n",
    "- Checking for uniqueness of information\n",
    "  - boq_details and boq_items\n",
    "  - tender_description and tender_details\n",
    "  - tender_details and boq_details\n",
    "### Feature engineering\n",
    "- Creating labels\n",
    "  - Plotting the skew in data\n",
    "  - Looking for ways to combine labels\n",
    "- Dropping additional columns\n",
    "- Splitting the data into train and test set\n",
    "- Representing the text as vectors: Countvectorizer\n",
    "  - Combining tender_details and boq_details into a single string\n",
    "  - Tokenizing the string using Spacy tokenizer\n",
    "    - Training vector which can transform new instances\n",
    "### Model training\n",
    "#### Using Naive Bayes\n",
    "### Evaluation\n",
    "- Evaluation is carried out using the accuracy metric\n",
    "- Evaluation is carried out using the balanced accuracy metric"
   ]
  },
  {
   "cell_type": "code",
   "execution_count": null,
   "id": "59dde969-736c-43e3-a099-b6344b86cc19",
   "metadata": {},
   "outputs": [],
   "source": []
  },
  {
   "cell_type": "markdown",
   "id": "f68213e7-ec0f-4de2-9d05-9ef7ea5f5616",
   "metadata": {
    "tags": []
   },
   "source": [
    "# Ingesting Tenders"
   ]
  },
  {
   "cell_type": "code",
   "execution_count": 1,
   "id": "2ce1d10f-65ab-4db3-9925-806b3b7d98ac",
   "metadata": {},
   "outputs": [],
   "source": [
    "import pandas as pd"
   ]
  },
  {
   "cell_type": "code",
   "execution_count": 2,
   "id": "124a8dc8-bffd-4c5a-97f4-5ed159d69267",
   "metadata": {},
   "outputs": [],
   "source": [
    "tenders = pd.read_csv(\n",
    "filepath_or_buffer='data/dataScienceAssignment/tender.csv',\\\n",
    "# This is the file path of the csv\n",
    "# Get the column names from a header row\n",
    "na_values='[]',\n",
    "header=0,\n",
    ")"
   ]
  },
  {
   "cell_type": "code",
   "execution_count": 3,
   "id": "f5f192f3-5055-458f-b3e6-a1cf0cfac95f",
   "metadata": {},
   "outputs": [
    {
     "data": {
      "text/html": [
       "<div>\n",
       "<style scoped>\n",
       "    .dataframe tbody tr th:only-of-type {\n",
       "        vertical-align: middle;\n",
       "    }\n",
       "\n",
       "    .dataframe tbody tr th {\n",
       "        vertical-align: top;\n",
       "    }\n",
       "\n",
       "    .dataframe thead th {\n",
       "        text-align: right;\n",
       "    }\n",
       "</style>\n",
       "<table border=\"1\" class=\"dataframe\">\n",
       "  <thead>\n",
       "    <tr style=\"text-align: right;\">\n",
       "      <th></th>\n",
       "      <th>Unnamed: 0.1</th>\n",
       "      <th>Unnamed: 0</th>\n",
       "      <th>tender_id</th>\n",
       "      <th>tender_description</th>\n",
       "      <th>tender_details</th>\n",
       "      <th>tender_category</th>\n",
       "      <th>boq_items</th>\n",
       "      <th>boq_details</th>\n",
       "      <th>boq_len</th>\n",
       "    </tr>\n",
       "  </thead>\n",
       "  <tbody>\n",
       "    <tr>\n",
       "      <th>0</th>\n",
       "      <td>0</td>\n",
       "      <td>0</td>\n",
       "      <td>ad77c36d-ee5b-415a-917b-f65a81752625</td>\n",
       "      <td>Construction Of Rcc Drain With Cover Slab From...</td>\n",
       "      <td>Construction Of Rcc Drain With Cover Slab From...</td>\n",
       "      <td>Works</td>\n",
       "      <td>[{'rowNumber': 12, 'itemDescription': 'Dismant...</td>\n",
       "      <td>['Dismantling and removing cement concrete inc...</td>\n",
       "      <td>11</td>\n",
       "    </tr>\n",
       "    <tr>\n",
       "      <th>1</th>\n",
       "      <td>1</td>\n",
       "      <td>1</td>\n",
       "      <td>d17ff512-0f4e-4e63-b9c0-4b4c13157f47</td>\n",
       "      <td>Day To Day Upkeeping Of Lawn And Garden At Koy...</td>\n",
       "      <td>Day To Day Upkeeping Of Lawn And Garden At Koy...</td>\n",
       "      <td>Works</td>\n",
       "      <td>[{'rowNumber': 21, 'itemDescription': 'Shiftin...</td>\n",
       "      <td>['Shifting of Ghamlas from garden to 1 to 10 t...</td>\n",
       "      <td>29</td>\n",
       "    </tr>\n",
       "    <tr>\n",
       "      <th>2</th>\n",
       "      <td>2</td>\n",
       "      <td>2</td>\n",
       "      <td>d5d6a926-6dec-473c-b6f4-c195e1c334f2</td>\n",
       "      <td>P/l Wmb G-ii, 75 Mm Thick Wet Mix Macadam And ...</td>\n",
       "      <td>P/l Wmb G-ii, 75 Mm Thick Wet Mix Macadam And ...</td>\n",
       "      <td>Works</td>\n",
       "      <td>[{'rowNumber': 12, 'itemDescription': 'Providi...</td>\n",
       "      <td>['Providing , laying, spreading and compacting...</td>\n",
       "      <td>4</td>\n",
       "    </tr>\n",
       "    <tr>\n",
       "      <th>3</th>\n",
       "      <td>3</td>\n",
       "      <td>3</td>\n",
       "      <td>67bab7b5-b577-481f-a64f-f52a9e89a13f</td>\n",
       "      <td>Improvement And Biannual Maintenance To Anjang...</td>\n",
       "      <td>Improvement And Biannual Maintenance To Anjang...</td>\n",
       "      <td>Works</td>\n",
       "      <td>[{'rowNumber': 12, 'itemDescription': 'IMPROVE...</td>\n",
       "      <td>['IMPROVEMENT AND BIANNUAL MAINTENANCE TO ANJA...</td>\n",
       "      <td>1</td>\n",
       "    </tr>\n",
       "    <tr>\n",
       "      <th>4</th>\n",
       "      <td>4</td>\n",
       "      <td>4</td>\n",
       "      <td>a47aeaf3-7b4d-4551-8d7e-c0415f65f411</td>\n",
       "      <td>Pre-monsoon Cleaning And Desilting Of</td>\n",
       "      <td>Pre-monsoon Cleaning And Desilting Of Exisitin...</td>\n",
       "      <td>Works</td>\n",
       "      <td>[{'rowNumber': 18, 'itemDescription': 'GST 12%...</td>\n",
       "      <td>['GST 12%', 'PROVIDING AND OPERATING DUMPER OF...</td>\n",
       "      <td>6</td>\n",
       "    </tr>\n",
       "  </tbody>\n",
       "</table>\n",
       "</div>"
      ],
      "text/plain": [
       "   Unnamed: 0.1  Unnamed: 0                             tender_id  \\\n",
       "0             0           0  ad77c36d-ee5b-415a-917b-f65a81752625   \n",
       "1             1           1  d17ff512-0f4e-4e63-b9c0-4b4c13157f47   \n",
       "2             2           2  d5d6a926-6dec-473c-b6f4-c195e1c334f2   \n",
       "3             3           3  67bab7b5-b577-481f-a64f-f52a9e89a13f   \n",
       "4             4           4  a47aeaf3-7b4d-4551-8d7e-c0415f65f411   \n",
       "\n",
       "                                  tender_description  \\\n",
       "0  Construction Of Rcc Drain With Cover Slab From...   \n",
       "1  Day To Day Upkeeping Of Lawn And Garden At Koy...   \n",
       "2  P/l Wmb G-ii, 75 Mm Thick Wet Mix Macadam And ...   \n",
       "3  Improvement And Biannual Maintenance To Anjang...   \n",
       "4              Pre-monsoon Cleaning And Desilting Of   \n",
       "\n",
       "                                      tender_details tender_category  \\\n",
       "0  Construction Of Rcc Drain With Cover Slab From...           Works   \n",
       "1  Day To Day Upkeeping Of Lawn And Garden At Koy...           Works   \n",
       "2  P/l Wmb G-ii, 75 Mm Thick Wet Mix Macadam And ...           Works   \n",
       "3  Improvement And Biannual Maintenance To Anjang...           Works   \n",
       "4  Pre-monsoon Cleaning And Desilting Of Exisitin...           Works   \n",
       "\n",
       "                                           boq_items  \\\n",
       "0  [{'rowNumber': 12, 'itemDescription': 'Dismant...   \n",
       "1  [{'rowNumber': 21, 'itemDescription': 'Shiftin...   \n",
       "2  [{'rowNumber': 12, 'itemDescription': 'Providi...   \n",
       "3  [{'rowNumber': 12, 'itemDescription': 'IMPROVE...   \n",
       "4  [{'rowNumber': 18, 'itemDescription': 'GST 12%...   \n",
       "\n",
       "                                         boq_details  boq_len  \n",
       "0  ['Dismantling and removing cement concrete inc...       11  \n",
       "1  ['Shifting of Ghamlas from garden to 1 to 10 t...       29  \n",
       "2  ['Providing , laying, spreading and compacting...        4  \n",
       "3  ['IMPROVEMENT AND BIANNUAL MAINTENANCE TO ANJA...        1  \n",
       "4  ['GST 12%', 'PROVIDING AND OPERATING DUMPER OF...        6  "
      ]
     },
     "execution_count": 3,
     "metadata": {},
     "output_type": "execute_result"
    }
   ],
   "source": [
    "tendersTh.head()"
   ]
  },
  {
   "cell_type": "markdown",
   "id": "abac3f82-e84a-49df-8f1e-40fcf5d82242",
   "metadata": {
    "jp-MarkdownHeadingCollapsed": true,
    "tags": []
   },
   "source": [
    "## Fixing the extra index columns "
   ]
  },
  {
   "cell_type": "code",
   "execution_count": 4,
   "id": "7ab339c0-9e4c-4104-9de0-ffb8f9cb6203",
   "metadata": {},
   "outputs": [
    {
     "data": {
      "text/html": [
       "<div>\n",
       "<style scoped>\n",
       "    .dataframe tbody tr th:only-of-type {\n",
       "        vertical-align: middle;\n",
       "    }\n",
       "\n",
       "    .dataframe tbody tr th {\n",
       "        vertical-align: top;\n",
       "    }\n",
       "\n",
       "    .dataframe thead th {\n",
       "        text-align: right;\n",
       "    }\n",
       "</style>\n",
       "<table border=\"1\" class=\"dataframe\">\n",
       "  <thead>\n",
       "    <tr style=\"text-align: right;\">\n",
       "      <th></th>\n",
       "      <th>Unnamed: 0.1</th>\n",
       "      <th>Unnamed: 0</th>\n",
       "      <th>tender_id</th>\n",
       "      <th>tender_description</th>\n",
       "      <th>tender_details</th>\n",
       "      <th>tender_category</th>\n",
       "      <th>boq_items</th>\n",
       "      <th>boq_details</th>\n",
       "      <th>boq_len</th>\n",
       "    </tr>\n",
       "  </thead>\n",
       "  <tbody>\n",
       "  </tbody>\n",
       "</table>\n",
       "</div>"
      ],
      "text/plain": [
       "Empty DataFrame\n",
       "Columns: [Unnamed: 0.1, Unnamed: 0, tender_id, tender_description, tender_details, tender_category, boq_items, boq_details, boq_len]\n",
       "Index: []"
      ]
     },
     "execution_count": 4,
     "metadata": {},
     "output_type": "execute_result"
    }
   ],
   "source": [
    "tenders.loc[tenders['Unnamed: 0.1']!=tenders['Unnamed: 0']]"
   ]
  },
  {
   "cell_type": "code",
   "execution_count": 5,
   "id": "0c8d88c2-72f6-4a96-b7ac-558bcb16536c",
   "metadata": {},
   "outputs": [
    {
     "data": {
      "text/html": [
       "<div>\n",
       "<style scoped>\n",
       "    .dataframe tbody tr th:only-of-type {\n",
       "        vertical-align: middle;\n",
       "    }\n",
       "\n",
       "    .dataframe tbody tr th {\n",
       "        vertical-align: top;\n",
       "    }\n",
       "\n",
       "    .dataframe thead th {\n",
       "        text-align: right;\n",
       "    }\n",
       "</style>\n",
       "<table border=\"1\" class=\"dataframe\">\n",
       "  <thead>\n",
       "    <tr style=\"text-align: right;\">\n",
       "      <th></th>\n",
       "      <th>Unnamed: 0.1</th>\n",
       "      <th>Unnamed: 0</th>\n",
       "      <th>tender_id</th>\n",
       "      <th>tender_description</th>\n",
       "      <th>tender_details</th>\n",
       "      <th>tender_category</th>\n",
       "      <th>boq_items</th>\n",
       "      <th>boq_details</th>\n",
       "      <th>boq_len</th>\n",
       "    </tr>\n",
       "  </thead>\n",
       "  <tbody>\n",
       "  </tbody>\n",
       "</table>\n",
       "</div>"
      ],
      "text/plain": [
       "Empty DataFrame\n",
       "Columns: [Unnamed: 0.1, Unnamed: 0, tender_id, tender_description, tender_details, tender_category, boq_items, boq_details, boq_len]\n",
       "Index: []"
      ]
     },
     "execution_count": 5,
     "metadata": {},
     "output_type": "execute_result"
    }
   ],
   "source": [
    "tenders.loc[tenders.index!=tenders['Unnamed: 0']]"
   ]
  },
  {
   "cell_type": "code",
   "execution_count": 6,
   "id": "9dadbcf1-a168-4e32-bcbd-239dc4416eaf",
   "metadata": {},
   "outputs": [],
   "source": [
    "tenders.drop(columns=['Unnamed: 0', 'Unnamed: 0.1'], inplace=True)"
   ]
  },
  {
   "cell_type": "code",
   "execution_count": 7,
   "id": "80108955-bcd9-4f8d-b366-a4a0b864084f",
   "metadata": {},
   "outputs": [
    {
     "name": "stdout",
     "output_type": "stream",
     "text": [
      "<class 'pandas.core.frame.DataFrame'>\n",
      "RangeIndex: 100 entries, 0 to 99\n",
      "Data columns (total 7 columns):\n",
      " #   Column              Non-Null Count  Dtype \n",
      "---  ------              --------------  ----- \n",
      " 0   tender_id           100 non-null    object\n",
      " 1   tender_description  100 non-null    object\n",
      " 2   tender_details      100 non-null    object\n",
      " 3   tender_category     91 non-null     object\n",
      " 4   boq_items           72 non-null     object\n",
      " 5   boq_details         69 non-null     object\n",
      " 6   boq_len             100 non-null    int64 \n",
      "dtypes: int64(1), object(6)\n",
      "memory usage: 5.6+ KB\n"
     ]
    }
   ],
   "source": [
    "tenders.info()"
   ]
  },
  {
   "cell_type": "markdown",
   "id": "6251bba2-546f-48f4-be39-46292df71ab0",
   "metadata": {
    "jp-MarkdownHeadingCollapsed": true,
    "tags": []
   },
   "source": [
    "## BOQ items and details equivalence"
   ]
  },
  {
   "cell_type": "code",
   "execution_count": 8,
   "id": "635f6c3c-3f93-46a8-932e-52f4abdfa7b0",
   "metadata": {
    "tags": []
   },
   "outputs": [
    {
     "data": {
      "text/plain": [
       "\"[{'rowNumber': 12, 'itemDescription': 'Dismantling and removing cement concrete including stacking the useful materials for re use and removing the debries within 50 mtr lead complete as per the direction of engineer in charge.', 'quantity': 9.0, 'units': 'Cum', 'rate': 5268.6, 'amount': 585.4, '_class': 'com.ofb.core.domain.mongo.BOQ'}, {'rowNumber': 13, 'itemDescription': 'Dismantling and removing RCC including stacking the useful materials for re use and removing the debries within 50 mtr lead complete as per the direction of engineer in charge.', 'quantity': 24.0, 'units': 'Cum', 'rate': 28015.2, 'amount': 1167.3, '_class': 'com.ofb.core.domain.mongo.BOQ'}, {'rowNumber': 14, 'itemDescription': 'Earthwork excavation of foundation in all kinds of soil with all leads ,lifts,delifts,including rough dressing and levelling the bed and depositing the excavated earth away from work site and breaking the clods to maximum 5cm to 7cm in size and laying in layers not exceeding 0.30m in depth etc complete as per direction of the Engineer-in-charge.', 'quantity': 370.0, 'units': 'Cum', 'rate': 75561.4, 'amount': 204.22, '_class': 'com.ofb.core.domain.mongo.BOQ'}, {'rowNumber': 15, 'itemDescription': 'Filling foundation and plinth with sand well watered and rammed with cost , conveyance , royalty ,taxes,labour , T & P , cess etc complete as per direction of the Engineer-in-charge.', 'quantity': 52.0, 'units': 'Cum', 'rate': 17352.4, 'amount': 333.7, '_class': 'com.ofb.core.domain.mongo.BOQ'}, {'rowNumber': 16, 'itemDescription': 'Cement Concrete  (1:3:6) with 40mm size  hard granite crusher broken metal including all cost ,conveyance,royalty& taxes etc complete of all materials to work site as per specifcation approved by the department & direction of Engineer-in-charge', 'quantity': 35.5, 'units': 'Cum', 'rate': 159671.9, 'amount': 4497.8, '_class': 'com.ofb.core.domain.mongo.BOQ'}, {'rowNumber': 17, 'itemDescription': 'R.C.C. work of M25 grade with Crusher granite coarse aggregate of size 20 mm down graded chips mixed with concrete mixer with all leads lifts and delifts including all cost, conveyance, royalty & taxes etc.compete of all materials  as per specification and direction of Engineer-in-charge.', 'quantity': 156.0, 'units': 'cum', 'rate': 790918.44, 'amount': 5069.99, '_class': 'com.ofb.core.domain.mongo.BOQ'}, {'rowNumber': 18, 'itemDescription': 'Supplying ,cutting,bending,binding,tying the grills and placing in position of uncoated HYSD  bar reinforcement for RCC work including cost,carriage,royalty and taxes of all materials,labour and cost of binding wire 18 to 20 gauges, cess complete as per the direction of engineer in charge.', 'quantity': 109.0, 'units': 'qntl', 'rate': 928512.14, 'amount': 8518.46, '_class': 'com.ofb.core.domain.mongo.BOQ'}, {'rowNumber': 19, 'itemDescription': 'Rigid smooth centering and shuttering for RCC works including  cost of materials and labour for the work etc complete as per the direction of engineer in charge(A)RCC WALL', 'quantity': 1071.0, 'units': 'sqm', 'rate': 108171.0, 'amount': 101.0, '_class': 'com.ofb.core.domain.mongo.BOQ'}, {'rowNumber': 20, 'itemDescription': 'Rigid smooth centering and shuttering for RCC works including  cost of materials and labour for the work etc complete as per the direction of engineer in charge(B)  RCC FLOOR , ROOF SLAB & LANDINGS', 'quantity': 187.0, 'units': 'sqm', 'rate': 79789.16, 'amount': 426.68, '_class': 'com.ofb.core.domain.mongo.BOQ'}, {'rowNumber': 21, 'itemDescription': 'Carriage of excavated earth and dismantled materials from site by mechanical means with 5km lead including cost of all labour and conveyance etc complete as per direction of the engineer in charge.', 'quantity': 329.0, 'units': 'cum', 'rate': 32242.0, 'amount': 98.0, '_class': 'com.ofb.core.domain.mongo.BOQ'}, {'rowNumber': 22, 'itemDescription': 'Cost of Transperency pillar.', 'quantity': 1.0, 'units': 'LS', 'rate': 3000.0, 'amount': 3000.0, '_class': 'com.ofb.core.domain.mongo.BOQ'}]\""
      ]
     },
     "execution_count": 8,
     "metadata": {},
     "output_type": "execute_result"
    }
   ],
   "source": [
    "tenders['boq_items'][0]"
   ]
  },
  {
   "cell_type": "markdown",
   "id": "cd7e054d-2109-4f25-b8a4-a2b5f023c855",
   "metadata": {},
   "source": [
    "- Assuming that the quantity, units, rate, amount and '\\_class' quantities do not affect the category of the item\n",
    "- The only important information is the 'itemDescription'\n",
    "- Observing that the column boq_details also contains similar information"
   ]
  },
  {
   "cell_type": "markdown",
   "id": "ec13830a-d4b7-453e-92e3-f0bd0268a4b7",
   "metadata": {},
   "source": [
    "Checking for equivalence of values in 'boq_items' & 'boq_details'"
   ]
  },
  {
   "cell_type": "code",
   "execution_count": 9,
   "id": "b723ca7c-b3d6-4a50-b410-0d7b4f5bd63a",
   "metadata": {},
   "outputs": [],
   "source": [
    "from ast import literal_eval"
   ]
  },
  {
   "cell_type": "code",
   "execution_count": 10,
   "id": "f26e8971-fbea-48ec-8ba6-d2a8e3812d4d",
   "metadata": {},
   "outputs": [],
   "source": [
    "def boq_items_conv(rowitem):\n",
    "    \"\"\"Function to filter the items description from boq_items and add to list\n",
    "    \"\"\"\n",
    "    boq_details = [] # List contain item descriptions\n",
    "    if rowitem != '[]':\n",
    "        boqitemslist = literal_eval(rowitem) # Literal evaluation of the bytes to convert to python list\n",
    "        for item in boqitemslist:\n",
    "            boq_details.append(item['itemDescription']) # Adding descriptions to the list\n",
    "    return boq_details"
   ]
  },
  {
   "cell_type": "code",
   "execution_count": 11,
   "id": "fb0517f7-d488-415f-957b-970bd180aedf",
   "metadata": {
    "tags": []
   },
   "outputs": [
    {
     "data": {
      "text/plain": [
       "['Dismantling and removing cement concrete including stacking the useful materials for re use and removing the debries within 50 mtr lead complete as per the direction of engineer in charge.',\n",
       " 'Dismantling and removing RCC including stacking the useful materials for re use and removing the debries within 50 mtr lead complete as per the direction of engineer in charge.',\n",
       " 'Earthwork excavation of foundation in all kinds of soil with all leads ,lifts,delifts,including rough dressing and levelling the bed and depositing the excavated earth away from work site and breaking the clods to maximum 5cm to 7cm in size and laying in layers not exceeding 0.30m in depth etc complete as per direction of the Engineer-in-charge.',\n",
       " 'Filling foundation and plinth with sand well watered and rammed with cost , conveyance , royalty ,taxes,labour , T & P , cess etc complete as per direction of the Engineer-in-charge.',\n",
       " 'Cement Concrete  (1:3:6) with 40mm size  hard granite crusher broken metal including all cost ,conveyance,royalty& taxes etc complete of all materials to work site as per specifcation approved by the department & direction of Engineer-in-charge',\n",
       " 'R.C.C. work of M25 grade with Crusher granite coarse aggregate of size 20 mm down graded chips mixed with concrete mixer with all leads lifts and delifts including all cost, conveyance, royalty & taxes etc.compete of all materials  as per specification and direction of Engineer-in-charge.',\n",
       " 'Supplying ,cutting,bending,binding,tying the grills and placing in position of uncoated HYSD  bar reinforcement for RCC work including cost,carriage,royalty and taxes of all materials,labour and cost of binding wire 18 to 20 gauges, cess complete as per the direction of engineer in charge.',\n",
       " 'Rigid smooth centering and shuttering for RCC works including  cost of materials and labour for the work etc complete as per the direction of engineer in charge(A)RCC WALL',\n",
       " 'Rigid smooth centering and shuttering for RCC works including  cost of materials and labour for the work etc complete as per the direction of engineer in charge(B)  RCC FLOOR , ROOF SLAB & LANDINGS',\n",
       " 'Carriage of excavated earth and dismantled materials from site by mechanical means with 5km lead including cost of all labour and conveyance etc complete as per direction of the engineer in charge.',\n",
       " 'Cost of Transperency pillar.']"
      ]
     },
     "execution_count": 11,
     "metadata": {},
     "output_type": "execute_result"
    }
   ],
   "source": [
    "boq_items_conv(tenders['boq_items'][0])"
   ]
  },
  {
   "cell_type": "code",
   "execution_count": 12,
   "id": "9cab46ed-d0fa-42d7-be9a-3b38cf770809",
   "metadata": {},
   "outputs": [],
   "source": [
    "def boq_details_conv(rowitem):\n",
    "    \"\"\" Function to convert the bytes in boq_details to python list\n",
    "    \"\"\"\n",
    "    if rowitem != '[]':\n",
    "        test = literal_eval(rowitem)\n",
    "        return test"
   ]
  },
  {
   "cell_type": "code",
   "execution_count": 13,
   "id": "27843100-a87d-4308-a209-7532500640f2",
   "metadata": {},
   "outputs": [
    {
     "data": {
      "text/plain": [
       "80    ['Supplying and fixing Moulded Case Circuit Br...\n",
       "81                                                  NaN\n",
       "82                                                  NaN\n",
       "83                                                  NaN\n",
       "84    ['Supplying of 1.1 KV LT UG cable XLPE or Heat...\n",
       "85                                                  NaN\n",
       "86    ['Supplying ......... amps rated 3phase with n...\n",
       "87    ['Supply and installation of ……. Inverter(home...\n",
       "88    ['Fabricating supplying and mounting MS box ma...\n",
       "89    ['Scraping of grass and other growth around th...\n",
       "Name: boq_details, dtype: object"
      ]
     },
     "execution_count": 13,
     "metadata": {},
     "output_type": "execute_result"
    }
   ],
   "source": [
    "tenders['boq_details'][80:90]"
   ]
  },
  {
   "cell_type": "code",
   "execution_count": 14,
   "id": "6adf8d7c-f302-4bcf-986f-bbaad25ae851",
   "metadata": {
    "tags": []
   },
   "outputs": [
    {
     "data": {
      "text/plain": [
       "['Dismantling and removing cement concrete including stacking the useful materials for re use and removing the debries within 50 mtr lead complete as per the direction of engineer in charge.',\n",
       " 'Dismantling and removing RCC including stacking the useful materials for re use and removing the debries within 50 mtr lead complete as per the direction of engineer in charge.',\n",
       " 'Earthwork excavation of foundation in all kinds of soil with all leads ,lifts,delifts,including rough dressing and levelling the bed and depositing the excavated earth away from work site and breaking the clods to maximum 5cm to 7cm in size and laying in layers not exceeding 0.30m in depth etc complete as per direction of the Engineer-in-charge.',\n",
       " 'Filling foundation and plinth with sand well watered and rammed with cost , conveyance , royalty ,taxes,labour , T & P , cess etc complete as per direction of the Engineer-in-charge.',\n",
       " 'Cement Concrete  (1:3:6) with 40mm size  hard granite crusher broken metal including all cost ,conveyance,royalty& taxes etc complete of all materials to work site as per specifcation approved by the department & direction of Engineer-in-charge',\n",
       " 'R.C.C. work of M25 grade with Crusher granite coarse aggregate of size 20 mm down graded chips mixed with concrete mixer with all leads lifts and delifts including all cost, conveyance, royalty & taxes etc.compete of all materials  as per specification and direction of Engineer-in-charge.',\n",
       " 'Supplying ,cutting,bending,binding,tying the grills and placing in position of uncoated HYSD  bar reinforcement for RCC work including cost,carriage,royalty and taxes of all materials,labour and cost of binding wire 18 to 20 gauges, cess complete as per the direction of engineer in charge.',\n",
       " 'Rigid smooth centering and shuttering for RCC works including  cost of materials and labour for the work etc complete as per the direction of engineer in charge(A)RCC WALL',\n",
       " 'Rigid smooth centering and shuttering for RCC works including  cost of materials and labour for the work etc complete as per the direction of engineer in charge(B)  RCC FLOOR , ROOF SLAB & LANDINGS',\n",
       " 'Carriage of excavated earth and dismantled materials from site by mechanical means with 5km lead including cost of all labour and conveyance etc complete as per direction of the engineer in charge.',\n",
       " 'Cost of Transperency pillar.']"
      ]
     },
     "execution_count": 14,
     "metadata": {},
     "output_type": "execute_result"
    }
   ],
   "source": [
    "boq_details_conv(tenders['boq_details'][0])"
   ]
  },
  {
   "cell_type": "markdown",
   "id": "e4b17a92-37fb-4b42-9444-3d254d21a2ef",
   "metadata": {},
   "source": [
    "Listing out rows in which the lists are different"
   ]
  },
  {
   "cell_type": "markdown",
   "id": "13fe3e62-ba00-4f03-853a-eb8a3e8cdc05",
   "metadata": {},
   "source": [
    "Since there are no such rows. We will drop the 'boq_items'"
   ]
  },
  {
   "cell_type": "code",
   "execution_count": 15,
   "id": "f065ad16-f234-4e20-9aa2-b1a0e8427a3d",
   "metadata": {},
   "outputs": [],
   "source": [
    "tenders.drop(columns=['boq_items'], inplace=True)"
   ]
  },
  {
   "cell_type": "code",
   "execution_count": 16,
   "id": "8283cadd-d9bd-4be8-b6b8-b9da3d38a6c2",
   "metadata": {
    "tags": []
   },
   "outputs": [
    {
     "name": "stdout",
     "output_type": "stream",
     "text": [
      "<class 'pandas.core.frame.DataFrame'>\n",
      "RangeIndex: 100 entries, 0 to 99\n",
      "Data columns (total 6 columns):\n",
      " #   Column              Non-Null Count  Dtype \n",
      "---  ------              --------------  ----- \n",
      " 0   tender_id           100 non-null    object\n",
      " 1   tender_description  100 non-null    object\n",
      " 2   tender_details      100 non-null    object\n",
      " 3   tender_category     91 non-null     object\n",
      " 4   boq_details         69 non-null     object\n",
      " 5   boq_len             100 non-null    int64 \n",
      "dtypes: int64(1), object(5)\n",
      "memory usage: 4.8+ KB\n"
     ]
    }
   ],
   "source": [
    "tenders.info()"
   ]
  },
  {
   "cell_type": "markdown",
   "id": "19713112-8a6c-44db-8f2f-6bdee094d727",
   "metadata": {
    "jp-MarkdownHeadingCollapsed": true,
    "tags": []
   },
   "source": [
    "## tender_description and tender_details equivalence"
   ]
  },
  {
   "cell_type": "markdown",
   "id": "b8bced3f-b0cd-4ea4-a06d-e7215ac42ead",
   "metadata": {},
   "source": [
    "It appears that tender_description and tender_details are also very similar.\n",
    "Printing the cases, where it is different."
   ]
  },
  {
   "cell_type": "code",
   "execution_count": 17,
   "id": "66ade6c5-7d73-4ec7-b45b-4df55f3cdc09",
   "metadata": {
    "tags": []
   },
   "outputs": [
    {
     "name": "stdout",
     "output_type": "stream",
     "text": [
      "<class 'pandas.core.frame.DataFrame'>\n",
      "Int64Index: 20 entries, 1 to 70\n",
      "Data columns (total 2 columns):\n",
      " #   Column              Non-Null Count  Dtype \n",
      "---  ------              --------------  ----- \n",
      " 0   tender_description  20 non-null     object\n",
      " 1   tender_details      20 non-null     object\n",
      "dtypes: object(2)\n",
      "memory usage: 480.0+ bytes\n"
     ]
    }
   ],
   "source": [
    "tenders.loc[tenders['tender_description']!=tenders['tender_details']][['tender_description','tender_details']].info()"
   ]
  },
  {
   "cell_type": "code",
   "execution_count": 18,
   "id": "fe65f9b7-7499-4064-85e5-0690f56f1604",
   "metadata": {
    "tags": []
   },
   "outputs": [
    {
     "data": {
      "text/plain": [
       "array([['Day To Day Upkeeping Of Lawn And Garden At Koyla Vihar Colony, Indora Complex And Admin Building, Vip Guest House , Annex Building Of Wcl, Hq, Nagpur. ( For 01 Year )',\n",
       "        'Day To Day Upkeeping Of Lawn And Garden At Koyla Vihar Colony, Indora Complex And Admin Building, Vip Guest House , Annex Building Of Wcl, Hq, Nagpur.( For 01 Year )'],\n",
       "       ['Pre-monsoon Cleaning And Desilting Of',\n",
       "        'Pre-monsoon Cleaning And Desilting Of Exisiting Nallas In Ward Office No 4 Area.'],\n",
       "       ['Design, Build And Operate Contract For Morbi Maliya Augumentation Regional Water Supply Scheme',\n",
       "        'Design, Build And Operate Contract For Morbi Maliya Augumentation Regional Water Supply Scheme. \\ninstrument Of Tender Fee & Emd Shall Be Submitted In Electronic Format Only Through Online (by Scanning While Uploading The Bid). This Submission Shall Mean That Tender Fee And Emd Are Received For Purpose Of Opening The Bid. Accordingly, Offer Of Only Those Shall Be Open Whose Tender Fee And Emd Is Receive Electronically. However For The Purpose Of Realization Of Instrument Of Tender Fee & Emd, Bidder Shall Send The Same In Original Through Rpad/speed Post/hand Delivery Accpted So As To Reach To \"executive Engineer Public Health Work Division Morbi 2 Daudi Plot, Gaurav Nivas Near Rastriya Shala Morbi-363641 Next Day Of Last Date Of Bid Submission Upto 15:00 Hrs. For Not Submitting Dd/fdr/bg In Original, Bidder Shall Be Banned To Participate In Any Tender Of The Board For Period Of 3 Years As A Penal Action. Any Document In Supporting To Tender Bid Shall Be Submitted In Electronic Format Only Through Online (by Scanning Etc.) And Submission Only In Hard Copy Will Not Be Accepted Separately. Prebid Meeting Is Held At Office Of Chief Engineer, Zone-3, &#8220;jal Bhavan&#8221; University Road, Opp..sarita Vihar Soc. Rajkot 360005 On Dated 05/04/2022 15:00 Hrs'],\n",
       "       ['Design, Build & Operate Contract For Providing, Supplying, Laying Testing ',\n",
       "        'Remodeling Of Surendranagar Integrated Phase-ii Part-a And S-2 S-3 (vadod & Chokadi Zone) Regional Water Supply Scheme Of Surendranagar District Based On Dholidhaja Dam(package-ii) 3rd Attempt. \\ninstrument Of Tender Fee & Emd Shall Be Submitted In Electronic Format Only Through Online (by Scanning While Uploading The Bid). This Submission Shall Mean That Tender Fee And Emd Are Received For Purpose Of Opening The Bid. Accordingly Offer Of Only Those Shall Be Opened Whose Tender Fee And Emd Is Received Electronically. However For The Purpose Of Realization Of Instrument Of Tender Fee & Emd, Bidder Shall Send The Same In Original Through Rpad/speed Post/hand Delivery Reach To \"executive Engineer, Public Health Works Division, Limbdi ; Upto 06/05/2022 15:00 Hrs. For Not Submitting Dd/fdr/bg In Original, Bidder Shall Be Banned To Participate In Any Tender Of The Board For Period Of 3 Years As A Penal Action. Any Document In Supporting To Tender Bid Shall Be Submitted In Electronic Format Only Through Online (by Scanning Etc.) And Submission Only In Hard Copy Will Not Be Accepted Separately. . Address For Pre Bid Meeting Office Of The Chief Engineer Zone-3 Univercity Road, Opp.sarita Vihar Society, Near Love Temple Rajkot 360005 Dt.19/04/2022 15:00 Hrs.'],\n",
       "       ['Em/469/2022 Replacement Of Damaged Doors Windows And Ventilators Of D Sector And Cisf Colony',\n",
       "        'Replacement Of Damaged Doors Windows And Ventilators Of D Sector And Cisf Colony At Nuclear Fuel Complex, Hyderabad.'],\n",
       "       ['Biom/bc/ Contracts /ote(55)/22-23/civil/c-214',\n",
       "        'Replacement Of Old Cgi Sheets With Pre-galvanized Iron Profile Sheets At Tc Plant, Bacheli Complex'],\n",
       "       ['Biom/bc/ Contracts /ote(55)/22-23/pl.elec/pe-006',\n",
       "        'Life Expectancy Test Of Ht Panels At Crushing Plant, Dep-5'],\n",
       "       ['Biom/bc/ Contracts /ote(55)/22-23/civil/c-216',\n",
       "        'Providing And Fixing Of Flyproof Doors At Type-ii And Type-iii Quarters At Bacheli Complex'],\n",
       "       ['Supply Of Milk And Milk Product',\n",
       "        'Supply Of Milk And Milk Products'],\n",
       "       ['Biom/bc/ Contracts /ote(55)/22-23/civil/c-219',\n",
       "        'External Facelifting Of Type-iii, Type-iv And Type-v Quarters At North Block Of Bacheli Township'],\n",
       "       ['Biom/bc/ Contracts /ote(55)/22-23/civil/c-208',\n",
       "        'Ceramic Tile Flooring In Type-iii Quarters In South Block At Bacheli Township'],\n",
       "       ['Limited Tender Notice For Appointment Of Agency',\n",
       "        'Limited Tender Notice For Appointment Of Agency For Conceptualizing, Designing And Fabrication Of Stall For Participating In The Event Global Patidar Business Summit (gpbs) -2022 Scheduled To Be Organized From 29th April, 2022 To 1st May, 2022.'],\n",
       "       ['Biom/bc/ Contracts /ote(55)/22-23/civil/c-213',\n",
       "        'Recarpeting Of Road From Main Gate To Rajeev Chowk At Bacheli Township'],\n",
       "       ['Biom/bc/ Contracts /ote(55)/22-23/civil/c-162',\n",
       "        'Construction Of Buttress Wall Of Length 340 Meters At Toe Of Waste Dump No. 5, Deposit-5'],\n",
       "       ['Biom/bc/ Contracts /ote(55)/22-23/civil/c-211',\n",
       "        'Renovation Of Nerli Dam For Multipurpose Use At Bacheli Complex'],\n",
       "       ['Curry Powder', 'Procurement Of Curry Powder'],\n",
       "       ['Biom/bc/ Contracts /ote(55)/22-23/civil/c-210',\n",
       "        'Beautification Works At Bacheli Township'],\n",
       "       ['Design, Built & Operate Contract For Providing, Supplying, Laying Testing Commissioning Of Rcc U/g Sump, Rcc Esr, Pump House D.i./pvc Pipe Line And Pumping Machinery For Remodelling Of Paddhari Group Regional Water Supply Scheme Of Rajkot District Based On Nc-20 Bulk Line Tapping Including Operation & Preventive Maintenance For New And Existing Component For Supply Of Water For 60 Months.”',\n",
       "        'Design, Built & Operate Contract For Providing, Supplying, Laying Testing Commissioning Of Rcc U/g Sump, Rcc Esr, Pump House D.i./pvc Pipe Line And Pumping Machinery For Remodelling Of Paddhari Group Regional Water Supply Scheme Of Rajkot District Based On Nc-20 Bulk Line Tapping Including Operation & Preventive Maintenance For New And Existing Component For Supply Of Water For 60 Months.”. \\ninstrument Of Tender Fee & Emd Shall Be Submitted In Electronic Format Only Through Online (by Scanning While Uploading The Bid). This Submission Shall Mean That Tender Fee And Emd Are Received For Purpose Of Opening The Bid. Accordingly, Offer Of Only Those Bidders Shall Be Opened Whose Tender Fee And Emd Is Received Electronically. However For The Purpose Of Realization Of Instrument Of Tender Fee & Emd, Bidder Shall Send The Same In Original Through Rpad/ Speed Post / Hand Delivery So As To Reach To \"executive Engineer, Public Health Works Division, G.w.s.s.b., Jal Bhavan, Univercity Road, Opp. Sarita Vihar Soc. Near Love Temple Rajkot By 06/05/2022, Up To 15.00 Hrs. For Not Submitting Dd/fdr/bg In Original, Bidder Shall Be Banned From Participation In Any Tender Of The Gwssb/gwil For Period Of 3 Years As A Penalty. Any Document In Supporting To Tender Bid Shall Be Submitted In Electronic Format Only Through Online (by Scanning Etc.) And Submission Only In Hard Copy Will Not Be Accepted Separately. Prebid Meeting Is At Office Of The Chief Engineer Zone-3 Univercity Road, Opp.sarita Vihar Society, Near Love Temple Rajkot 360005'],\n",
       "       ['Construction Of Over Head Tank At Narayanaghatta Village, Muttanalluru Grama Panchayath, Anekal Taluk, Bangalore Urban District Under Gp Deposit Contribution Grants',\n",
       "        'Construction Of Over Head Tank At Narayanaghatta Village, Muttanalluru Grama Panchayath, Anekal Taluk, Bangalore Urban District Under Gp Deposit Contribution Grants.'],\n",
       "       ['Construction Of Stilt+g+5 Floors Adjacent To Nyayadegula Building In Vacant Site At Siddaiah Road, Bangalore',\n",
       "        'Construction Of Stilt+g+5 Floors Adjacent To Nyayadegula Building In Vacant Site At Siddaiah Road, Bangalore (mediation Center And Family Courts)']],\n",
       "      dtype=object)"
      ]
     },
     "execution_count": 18,
     "metadata": {},
     "output_type": "execute_result"
    }
   ],
   "source": [
    "tenders.loc[tenders['tender_description']!=tenders['tender_details']][['tender_description','tender_details']].values"
   ]
  },
  {
   "cell_type": "markdown",
   "id": "8042d91a-a3c7-4ccc-a78e-e0d3cfdd98da",
   "metadata": {},
   "source": [
    "- It is observed that in the 20 cases, tender_description and tender_details don't match\n",
    "- In these cases, tender_details has a copy of the information in tender_description and a few more details"
   ]
  },
  {
   "cell_type": "code",
   "execution_count": 19,
   "id": "c21fe39a-5432-4e27-b908-df0d9365017a",
   "metadata": {},
   "outputs": [],
   "source": [
    "tenders.drop(columns=['tender_description'], inplace=True)"
   ]
  },
  {
   "cell_type": "markdown",
   "id": "1cbe0762-72a0-4416-919f-11554b21ca38",
   "metadata": {
    "tags": []
   },
   "source": [
    "## tender_details and boq_details"
   ]
  },
  {
   "cell_type": "code",
   "execution_count": 20,
   "id": "ca41d503-250e-4ead-b545-f68664f817d7",
   "metadata": {
    "tags": []
   },
   "outputs": [
    {
     "data": {
      "text/plain": [
       "array([['Construction Of Rcc Drain With Cover Slab From Plot No 87/a Manisha Enclave To Plot No 24/2224 At Saswath Vihar In Ward No 6',\n",
       "        \"['Dismantling and removing cement concrete including stacking the useful materials for re use and removing the debries within 50 mtr lead complete as per the direction of engineer in charge.', 'Dismantling and removing RCC including stacking the useful materials for re use and removing the debries within 50 mtr lead complete as per the direction of engineer in charge.', 'Earthwork excavation of foundation in all kinds of soil with all leads ,lifts,delifts,including rough dressing and levelling the bed and depositing the excavated earth away from work site and breaking the clods to maximum 5cm to 7cm in size and laying in layers not exceeding 0.30m in depth etc complete as per direction of the Engineer-in-charge.', 'Filling foundation and plinth with sand well watered and rammed with cost , conveyance , royalty ,taxes,labour , T & P , cess etc complete as per direction of the Engineer-in-charge.', 'Cement Concrete  (1:3:6) with 40mm size  hard granite crusher broken metal including all cost ,conveyance,royalty& taxes etc complete of all materials to work site as per specifcation approved by the department & direction of Engineer-in-charge', 'R.C.C. work of M25 grade with Crusher granite coarse aggregate of size 20 mm down graded chips mixed with concrete mixer with all leads lifts and delifts including all cost, conveyance, royalty & taxes etc.compete of all materials  as per specification and direction of Engineer-in-charge.', 'Supplying ,cutting,bending,binding,tying the grills and placing in position of uncoated HYSD  bar reinforcement for RCC work including cost,carriage,royalty and taxes of all materials,labour and cost of binding wire 18 to 20 gauges, cess complete as per the direction of engineer in charge.', 'Rigid smooth centering and shuttering for RCC works including  cost of materials and labour for the work etc complete as per the direction of engineer in charge(A)RCC WALL', 'Rigid smooth centering and shuttering for RCC works including  cost of materials and labour for the work etc complete as per the direction of engineer in charge(B)  RCC FLOOR , ROOF SLAB & LANDINGS', 'Carriage of excavated earth and dismantled materials from site by mechanical means with 5km lead including cost of all labour and conveyance etc complete as per direction of the engineer in charge.', 'Cost of Transperency pillar.']\"],\n",
       "       ['Day To Day Upkeeping Of Lawn And Garden At Koyla Vihar Colony, Indora Complex And Admin Building, Vip Guest House , Annex Building Of Wcl, Hq, Nagpur.( For 01 Year )',\n",
       "        \"['Shifting of Ghamlas from garden to 1 to 10 th floor and replace same time to time including cleaning & maintenance , trimming of plants & replacement of plants of ghamlas and  as per instruction of Enginner Incharge ', 'Supplying of Boomflower or equivalent insecticide of leading approved brand as and when required for garden maintenance ', 'Supplying of Bonemeal/Sterameal or equivalent insecticide of leading approved brand as and when required for garden maintenance ', 'Supplying of manure of leading approved brand as and when required for garden maintenance ', 'Maintenance of hedges including watering application of farm yard and manure , fertiliser, incecticide, soil preparation as and when required as per instruction of Engineer Incharge. Excluding the cost of manure , fertiliser, incecticide.                             \\\\n', 'Supplying of Urea or equivalent incecticide of leading approved brand as and when required for garden maintenance ', 'Supplying of DAP or equivalent insecticide of leading approved brand as and when required for garden maintenance ', 'Supplying Hilban/ Tricel /lethal or equivalent insecticide of leading approved brand as and when required for garden maintenance', 'Supplying of vermicompost    of leading approved brand as and when required for garden maintenance ', 'Supplying of Ekalux or equivalent insecticide of leading approved brand as and when required for garden maintenance ', 'Total impact of GST for the purpose of CTC', 'Supplying & Stacking of Good earth at Site including royalty charges  and carriage upto 1 km ( earth measured in stackes will be reduces by 20% for payment ) ', 'Maintenance of Kitchen garden and assist of Kitchen work etc. (Note: 3 number of bunglows at Koyla Vihar colony and 3 number of bunglows at Indora complex individually has been considered in this item) ', 'Trimming of Branches of tree including collection of branches and stacking them as per the instruction of Engineer Incharge. ', 'Supplying of Neem powder or equivalent insecticide of leading approved brand as and when required for garden maintenance ', 'Supplying of Carbendezim or equivalent incecticide of leading approved brand as and when required for garden maintenance ', 'Supplying of Chlorodustor equivalent incecticide of leading approved brand as and when required for garden maintenance ', 'Supplying Malathion or equivalent insecticide of leading approved brand as and when required for garden maintenance ', 'Supplying of Yalmet 10G  or equivalent insecticide of leading approved brand as and when required for garden maintenance  ', 'Regular Maintenance of garden lawns Inside D type C type& Near B type 2 & 61 including weeding out all undesirable vegitation , watering forking, cutting treaming, of branches, etc. And applying pesticides, bamboo support etc. Including the cost of soil etc material but exluding the cost of manure, petiside and soil etc. Complete. \\\\n', 'Maintenance of Flowering plant in Gamla , decorative plant, palm etc. Including watering application of farm yard and manure , fertiliser, incecticide, soil preparation as and when required as per instruction of Engineer Incharge. Excluding the cost of manure and pesticides.                             \\\\n', 'Supplying of Sharp/ Acetami/ md  or equivalent insecticide of leading approved brand as and when required for garden maintenance  ', 'Supplying of Roxmix or equivalent incecticide of leading approved brand as and when required for garden maintenance ', 'Supplying of Rogor/ Tatagor or equivalent insecticide of leading approved brand as and when required for garden maintenance ', 'Supplying Monocrotophos or equivalent insecticide of leading approved brand as and when required for garden maintenance ', 'Grassing with selection No. 1 grass inclding watering, and maintenance of lawn for 30 days or more till the grass form a thick lawn , free from weeds and fit for mowing includig supplying good earth , if needed ( the good earth shall be paid for separately.)\\\\n', 'Supplying of Poly fed 19/19/19 or equivalent insecticide of leading approved brand as and when required for garden maintenance ', 'Regular Maintenance of garden lawns Inside D type C type& Near B type 2 & 61 including weeding out all undesirable vegitation , watering forking, cutting treaming, of branches, etc. And applying pesticides, bamboo support etc. Including the cost of soil etc material but exluding the cost of manure, petiside and soil etc. Complete. \\\\n', 'Cleaning of lawn area including brooming , weeding out all undesirable vegitation , remove all unwanted shrubs cutting and removing of grass etc. And removing materials including  loading,  unloading to a lead of 50.0 mtrs as per the instruction of Engineer Incharge. \\\\n']\"],\n",
       "       ['P/l Wmb G-ii, 75 Mm Thick Wet Mix Macadam And 25mm Thick Sdbc On Sherpur Bala And Kattal Gujran Link Road Under Macadamization Programme Of Cities Town 2022-23',\n",
       "        \"['Providing , laying, spreading and compacting crushed stone aggregate of 63 mm to 45 mm  sizes  to WBM specifications in uniform thickness, hand picking, rolling with 3 wheeled road / vibratory roller 8-10 tonne capacity in stages to proper grade and camber, applying and brooming  of  13.2 mm nominal size (Type - A) screening/binding material as stone dust  to fill up interstices of coarse aggregate, watering and compacting to the required density, finished work to be measured including all leads, lifts and carriage of material by  MT/ H.L. (conforming to clause 404 of MORT&H specifications).', 'Providing, laying, spreading and compacting graded stone aggregate (size range 53 mm to 0.075 mm ) to Wet  Mix  Macadam  ( W M M )  specification including premixing the material with water at OMC in mechanical mix plant, carriage of mixed material by tipper to site, for all leads & lifts, laying in uniform layers with mechanical paver finisher in sub- base / base course on well prepared surface and compacting with vibratory roller of 8 to 10 tonne capacity to achieve the desired density complete as per specifications and directions of Engineer-in-Charge.', 'Providing and laying 25 mm Thick Semi- Dense Bituminous Concrete compacted thickness with bitumen of grade VG- 30 @5% (percentage by weight of total mix) and lime filler @ 2% (percentage by weight of Aggregate) prepared in Drum Type Hot Mix Plant of 60-90 TPH capacity using crushed stone aggregates of specified grading, premixed with bituminous binder and filler, transporting the hot mix to work site by tippers, laying with paver finisher equipped with electronic sensor to the required grade, level and alignment and rolling with smooth wheeled, vibratory and tandem rollers to achieve the desired compaction and density as per specification including tack coat @ 0.50 kg/sqm on bitumen surface and 0.75 kg/sqm on WBM surface complete and as per directions of Engineer-in-Charge.', 'Supplying and laying including digging, carrying by lorry, filling River Bed Material including watering & consolidation in layers to specified lines, camber,  grades and cross sections. Finished work including material , labour  all leads , lifts and carriage of material by MT/HL. ( for berm filling)']\"],\n",
       "       ['Improvement And Biannual Maintenance To Anjangaon Kakada Rama Saur Shirala Mozari Road Km 37/500 To 43/500 Sh-308 Tq.bhatkuli Dist.amravati',\n",
       "        \"['IMPROVEMENT AND BIANNUAL MAINTENANCE TO ANJANGAON KAKADA RAMA SAUR SHIRALA MOZARI ROAD KM 37/500 TO 43/500 SH-308 TQ.BHATKULI DIST.AMRAVATI']\"],\n",
       "       ['Pre-monsoon Cleaning And Desilting Of Exisiting Nallas In Ward Office No 4 Area.',\n",
       "        \"['GST 12%', 'PROVIDING AND OPERATING DUMPER OF 6 CMT CAPACITY ON RENT FOR TRANSPORTATION AND DISPOSAL OF DESILTED MATERIALS FROM NALLA CLEANING INCLUDING COST OF FUEL, DRIVER ETC. AS DIRECTED COMPLETE.                              DSR 2020-21 Pg No/I.No /420/4.', 'PROVIDING AND OPERATING HYDRAULIC EXCAVATOR CUM LOADER OF 0.6 CMT CAPACITY (JCB /TATA HITACHI OR SIMILAR) ON RENT FOR NALLA CLEANING/DESILTING INCLUDING COST OF FUEL, OPERATOR ETC. AS DIRECTED COMPLETE. ', 'PROVIDNG AND OPERATING HYDRAULIC EXCAVATOR OF 0.90 CMT  CAPACITY (TATA HITACHI/POCLAIN OR SIMILAR) ON RENT FOR NALLA CLEANING/ DESILTING INCLUDING COST OF FUEL,OPERATOR ETC AS DIRECTED COMPLETE', 'SUPPLYING MAZDOOR- UNSKILLED HEAVY MALE /FEMALE FOR CLEANING AND DESILTING OF NALLA /CULVERT ETC. MANUALLY INCLUDING NECESSARY TOOLS/ACCESORRIES REQUIRED AS DIRECTED INCLUDING EPF/BONUS/CESS ETC. COMPLETE', 'SHIFTING OF POCLAIN/HYDRAULIC EXCAVATOR OF 0.90 CMT  CAPACITY']\"]],\n",
       "      dtype=object)"
      ]
     },
     "execution_count": 20,
     "metadata": {},
     "output_type": "execute_result"
    }
   ],
   "source": [
    "tenders[['tender_details', 'boq_details']][:5].values"
   ]
  },
  {
   "cell_type": "markdown",
   "id": "8342e80b-5423-4527-bf61-9646c7871f3b",
   "metadata": {},
   "source": [
    "- It appears that the data in both these items are different\n",
    "- One might want to evaluate the usefulness of joining these two items to make a single column\n",
    "- For the moment, I am going to fill all the NAN values in boq_details with the values in tender_details"
   ]
  },
  {
   "cell_type": "markdown",
   "id": "02a81703-1fb6-40b1-87ef-246f16239e61",
   "metadata": {
    "tags": []
   },
   "source": [
    "# Feature Engineering"
   ]
  },
  {
   "cell_type": "markdown",
   "id": "fc0d464d-6a54-4e43-baf4-27785bd9d3db",
   "metadata": {
    "jp-MarkdownHeadingCollapsed": true,
    "tags": []
   },
   "source": [
    "## Labels"
   ]
  },
  {
   "cell_type": "markdown",
   "id": "b43cf589-a97d-4b83-aed9-416b0ccfa2ab",
   "metadata": {},
   "source": [
    "Converting the tender_category column a form that can be fed to models"
   ]
  },
  {
   "cell_type": "code",
   "execution_count": 21,
   "id": "50d67f37-4160-4cf5-9734-12eebbd47828",
   "metadata": {},
   "outputs": [
    {
     "data": {
      "text/plain": [
       "array(['Works', 'PERCENTAGE', 'ITEM RATE', nan, 'Services', 'Goods',\n",
       "       'WORKS', 'SERVICES', 'GOODS'], dtype=object)"
      ]
     },
     "execution_count": 21,
     "metadata": {},
     "output_type": "execute_result"
    }
   ],
   "source": [
    "tenders['tender_category'].unique()"
   ]
  },
  {
   "cell_type": "markdown",
   "id": "3a9252e9-444e-43ea-846c-d1f2675e84c6",
   "metadata": {},
   "source": [
    "The 'nan' objects are not useful and we will drop these rows from further analysis"
   ]
  },
  {
   "cell_type": "code",
   "execution_count": 22,
   "id": "4f7362af-96af-456c-9f7c-9a2bb8e2aaa4",
   "metadata": {},
   "outputs": [
    {
     "data": {
      "text/plain": [
       "tender_id          9\n",
       "tender_details     9\n",
       "tender_category    0\n",
       "boq_details        9\n",
       "boq_len            9\n",
       "dtype: int64"
      ]
     },
     "execution_count": 22,
     "metadata": {},
     "output_type": "execute_result"
    }
   ],
   "source": [
    "tenders.loc[tenders['tender_category'].isna()].count()"
   ]
  },
  {
   "cell_type": "markdown",
   "id": "7c1f6d6b-4888-41df-8908-65a6f62a4d8f",
   "metadata": {},
   "source": [
    "This amounts to ~10% of the total data available"
   ]
  },
  {
   "cell_type": "code",
   "execution_count": 23,
   "id": "b4663193-0c9a-4449-a72d-d03e5fd5ede6",
   "metadata": {},
   "outputs": [],
   "source": [
    "tenders.dropna(subset=['tender_category'], inplace=True)"
   ]
  },
  {
   "cell_type": "markdown",
   "id": "6cb6edd5-86a7-45c3-a2fa-5a6d068c8fab",
   "metadata": {},
   "source": [
    "Creating a labels column with normalized categories"
   ]
  },
  {
   "cell_type": "code",
   "execution_count": 24,
   "id": "c622c103-3592-40a5-b64a-e72a77feb40a",
   "metadata": {},
   "outputs": [],
   "source": [
    "tenders['labels'] = tenders['tender_category'].map({'Works':1, 'WORKS':1, 'Services': 2, 'SERVICES': 2, 'Goods': 3, 'GOODS': 3, 'ITEM RATE': 4, 'PERCENTAGE': 5})"
   ]
  },
  {
   "cell_type": "code",
   "execution_count": 25,
   "id": "d78db623-f49b-429e-a47b-a45152c55531",
   "metadata": {},
   "outputs": [],
   "source": [
    "tenders.drop(columns=['tender_category'], inplace=True)"
   ]
  },
  {
   "cell_type": "markdown",
   "id": "d88533b4-db65-488e-bf03-9c9b7d97d3bb",
   "metadata": {
    "tags": []
   },
   "source": [
    "Checking the spread of the data"
   ]
  },
  {
   "cell_type": "code",
   "execution_count": 26,
   "id": "37b3892e-85dd-40cf-ba88-2039cd364209",
   "metadata": {
    "tags": []
   },
   "outputs": [],
   "source": [
    "import matplotlib.pyplot as plt"
   ]
  },
  {
   "cell_type": "code",
   "execution_count": 27,
   "id": "ca7822a6-d493-437b-9762-66fdb7c14160",
   "metadata": {
    "tags": []
   },
   "outputs": [
    {
     "data": {
      "text/plain": [
       "<AxesSubplot: >"
      ]
     },
     "execution_count": 27,
     "metadata": {},
     "output_type": "execute_result"
    },
    {
     "data": {
      "image/png": "[encoded data removed]",
      "text/plain": [
       "<Figure size 640x480 with 1 Axes>"
      ]
     },
     "metadata": {},
     "output_type": "display_data"
    }
   ],
   "source": [
    "tenders['labels'].hist()"
   ]
  },
  {
   "cell_type": "markdown",
   "id": "d06df486-b67d-4fd5-a905-95d226e2070e",
   "metadata": {},
   "source": [
    "Note the skew in the data towards 'Work' and 'Services' categories"
   ]
  },
  {
   "cell_type": "code",
   "execution_count": 28,
   "id": "f448cbf5-9a24-4081-b448-b25344b6007e",
   "metadata": {
    "tags": []
   },
   "outputs": [
    {
     "data": {
      "text/plain": [
       "array([\"['Supply, Installation & Commissioning of Milk Homogenizer, Capacity 10KLPH  for Sitamarhi Dairy, Sitamarhi, Bihar']\",\n",
       "       '[\"Open Tender Enquiry (RFP) To Select a Service Provider for Development, Implementation, Operational Training & Support of Unified Management Information System \\'Unified-MIS\\'.\"]'],\n",
       "      dtype=object)"
      ]
     },
     "execution_count": 28,
     "metadata": {},
     "output_type": "execute_result"
    }
   ],
   "source": [
    "tenders.loc[tenders['labels']==4]['boq_details'].values"
   ]
  },
  {
   "cell_type": "markdown",
   "id": "62deba42-ceb6-42b1-8d6a-03099ad98176",
   "metadata": {},
   "source": [
    "Checking to see if 'ITEM RATE' can be absorbed in the other categories"
   ]
  },
  {
   "cell_type": "code",
   "execution_count": 29,
   "id": "6cd785c9-7c24-4e98-af1e-bb995b1e3452",
   "metadata": {
    "tags": []
   },
   "outputs": [
    {
     "data": {
      "text/plain": [
       "array([\"['Removal of Jalkumbhi and Aquatic grass, Daldal &Sewage material  of Badshahi Nala in between 0.00 km to 16.50 km']\",\n",
       "       \"['BED CLEARNCE OF PARSA BARMUTTA NALA UNDER PUNPUN FLOOD PROTECTION SUB DIVISION PUNPUN PATNA']\",\n",
       "       \"['Removal of Jalkumbhi and Aquatic grass, Daldal & Sewage  material of Badshahi Nala  between 16.50 KM TO 30.13 KM']\",\n",
       "       \"['Removal of Jalkumbhi and Aquatic grass, Daldal & Sewage  material of Pahari Sewerage Nala in between Ch- 0 & 215 (6.65km)and KhanuaNala in between  Ch- 0 &171.25 (5.22km)']\",\n",
       "       \"['Removal of Jalkumbhi and Aquatic grass, Daldal & Sewage  material of Parsa Barmutta Nala in a length of 6.60 km']\",\n",
       "       \"['Request for Proposal (RFP) for Development of Mushahari Ghat in Bhagalpur including DLP with maintenance for two (2) years under Smart City Mission on Percentage Rate basis.']\",\n",
       "       \"['Repair & Painting work of Hostel No. 01 of Government Ambedkar Girls Residential School (+2) Dighi Hajipur for the Year 2022-23']\",\n",
       "       \"['Constructioin of Boundary wall from Jail Suprintendent Residence to Jail Gate at Purnea for the year 2021-22']\",\n",
       "       \"['CONSTRUCTION OF FLOOD SHELTER BUILDING (FOR FLOOD AFFECTED AREA)  TARAIYA PANCHAYAT VILLAGE PIROKHAR AT  MADHWAPUR BLOCK DISTRICT  MADHUBANI.']\",\n",
       "       \"['Construction of R.C.C. Drain, Sump House, P.C.C. Road with culvert and repairing of Old Drain and Campus filling for water logging issues in Mandal Kara Hajipur Vaishali for the year 2022-23']\"],\n",
       "      dtype=object)"
      ]
     },
     "execution_count": 29,
     "metadata": {},
     "output_type": "execute_result"
    }
   ],
   "source": [
    "tenders.loc[tenders['labels']==5]['boq_details'].values"
   ]
  },
  {
   "cell_type": "markdown",
   "id": "446714c9-b1d9-4563-901e-1642239142a7",
   "metadata": {},
   "source": [
    "Checking to see if 'PERCENTAGE' can be absorbed in the other categories"
   ]
  },
  {
   "cell_type": "markdown",
   "id": "bf22a2f7-a69f-4373-9a45-f5b81eabbe62",
   "metadata": {
    "jp-MarkdownHeadingCollapsed": true,
    "tags": []
   },
   "source": [
    "## Features"
   ]
  },
  {
   "cell_type": "code",
   "execution_count": 30,
   "id": "aae37ef7-a669-4b53-8c10-d9733cc3599e",
   "metadata": {},
   "outputs": [
    {
     "name": "stdout",
     "output_type": "stream",
     "text": [
      "<class 'pandas.core.frame.DataFrame'>\n",
      "Int64Index: 91 entries, 0 to 99\n",
      "Data columns (total 5 columns):\n",
      " #   Column          Non-Null Count  Dtype \n",
      "---  ------          --------------  ----- \n",
      " 0   tender_id       91 non-null     object\n",
      " 1   tender_details  91 non-null     object\n",
      " 2   boq_details     60 non-null     object\n",
      " 3   boq_len         91 non-null     int64 \n",
      " 4   labels          91 non-null     int64 \n",
      "dtypes: int64(2), object(3)\n",
      "memory usage: 4.3+ KB\n"
     ]
    }
   ],
   "source": [
    "tenders.info()"
   ]
  },
  {
   "cell_type": "markdown",
   "id": "b7090fc4-3ae6-489d-b247-bf0db85189f3",
   "metadata": {},
   "source": [
    "- tender_id is a unique number with no connection to the category\n",
    "- boq_len also has no connection with the category"
   ]
  },
  {
   "cell_type": "code",
   "execution_count": 31,
   "id": "6ac56179-7c90-4e1a-b295-0ff0cdc7d87a",
   "metadata": {},
   "outputs": [],
   "source": [
    "tenders.drop(columns=['tender_id', 'boq_len'], inplace=True)"
   ]
  },
  {
   "cell_type": "markdown",
   "id": "b93a3841-6677-45e9-bb66-2f6c8cee6143",
   "metadata": {},
   "source": [
    "Ideally I would want to convert the text from tender_details and boq_details to vectors too but we intend to try out different ways of vectorizing them and will postpone to the sections below"
   ]
  },
  {
   "cell_type": "markdown",
   "id": "d0e97e90-43fc-41ca-9e98-638973102dd8",
   "metadata": {
    "jp-MarkdownHeadingCollapsed": true,
    "tags": []
   },
   "source": [
    "## Split"
   ]
  },
  {
   "cell_type": "code",
   "execution_count": 32,
   "id": "788cea17-3ad3-4993-9e2e-bc0bc72eb9ad",
   "metadata": {},
   "outputs": [],
   "source": [
    "from sklearn.model_selection import train_test_split\n",
    "train_set, test_set = train_test_split(tenders, test_size=0.2, random_state=1)"
   ]
  },
  {
   "cell_type": "markdown",
   "id": "8cdc11b7-f846-41fd-a132-23288eacd241",
   "metadata": {
    "tags": []
   },
   "source": [
    "## Representation: Bag of words"
   ]
  },
  {
   "cell_type": "markdown",
   "id": "45e8776d-1326-410f-a49c-f0a3a298a2fd",
   "metadata": {},
   "source": [
    "### Combining columns to create a single feature string"
   ]
  },
  {
   "cell_type": "code",
   "execution_count": 33,
   "id": "bd950feb-d9f1-49ee-9a51-c4066cf05b6b",
   "metadata": {},
   "outputs": [],
   "source": [
    "train_set['boq_details'].fillna('[]',inplace=True)"
   ]
  },
  {
   "cell_type": "code",
   "execution_count": 34,
   "id": "e004db3a-2b04-4eb6-a092-12a02e2f5ed9",
   "metadata": {},
   "outputs": [],
   "source": [
    "test_set['boq_details'].fillna('[]',inplace=True)"
   ]
  },
  {
   "cell_type": "markdown",
   "id": "6ec001b7-ebff-4b02-9dbd-f6e6f9130c17",
   "metadata": {},
   "source": [
    "Combining the line items in boq_details into a single string"
   ]
  },
  {
   "cell_type": "code",
   "execution_count": 35,
   "id": "968f458a-82e9-44a9-972c-726e1f56edb7",
   "metadata": {},
   "outputs": [],
   "source": [
    "def boq_details_concat(rowitem):\n",
    "    \"\"\" Function to convert the bytes in boq_details to python list\n",
    "    \"\"\"\n",
    "    if rowitem is not None:\n",
    "        test = literal_eval(rowitem)\n",
    "        if test is not None:\n",
    "            return ' '.join(test)\n",
    "    else:\n",
    "        return ''"
   ]
  },
  {
   "cell_type": "code",
   "execution_count": 36,
   "id": "b934e6dd-079c-4b5a-bf7e-06cd2c7737c4",
   "metadata": {
    "tags": []
   },
   "outputs": [],
   "source": [
    "combined_features = train_set['tender_details'].values + train_set['boq_details'].map(boq_details_concat).values"
   ]
  },
  {
   "cell_type": "code",
   "execution_count": 37,
   "id": "0d394b2d-5eb7-4267-b060-f642bccddc79",
   "metadata": {},
   "outputs": [],
   "source": [
    "combined_features_test = test_set['tender_details'].values + test_set['boq_details'].map(boq_details_concat).values"
   ]
  },
  {
   "cell_type": "markdown",
   "id": "c624b8e8-91e1-497f-8db1-80fbc07bd254",
   "metadata": {},
   "source": [
    "### Creating count vectors"
   ]
  },
  {
   "cell_type": "code",
   "execution_count": 41,
   "id": "c2e7acc5-d89c-452b-9f1f-823bac652b66",
   "metadata": {},
   "outputs": [],
   "source": [
    "import spacy\n",
    "nlp = spacy.load(\"en_core_web_sm\")"
   ]
  },
  {
   "cell_type": "code",
   "execution_count": 42,
   "id": "3fc3905a-80b9-4ddd-bd59-0356c810da0a",
   "metadata": {},
   "outputs": [],
   "source": [
    "def spacy_tokenizer(document):\n",
    "    tokens = nlp(document)\n",
    "    tokens = [token.lemma_.lower() for token in tokens if (\n",
    "        token.is_stop == False and \\\n",
    "        token.is_punct == False and \\\n",
    "        token.lemma_.strip()!= '')]\n",
    "    return tokens"
   ]
  },
  {
   "cell_type": "code",
   "execution_count": 43,
   "id": "ddeee7f4-d266-403f-9c96-56da16cb6293",
   "metadata": {},
   "outputs": [],
   "source": [
    "from sklearn.feature_extraction.text import CountVectorizer\n",
    "vector = CountVectorizer(input = 'content', tokenizer = spacy_tokenizer)"
   ]
  },
  {
   "cell_type": "code",
   "execution_count": 44,
   "id": "1772f706-50ce-40a1-bf67-397ede74050b",
   "metadata": {},
   "outputs": [
    {
     "name": "stderr",
     "output_type": "stream",
     "text": [
      "/home/sumeetkd/.pyenv/versions/DS/lib/python3.11/site-packages/sklearn/feature_extraction/text.py:528: UserWarning: The parameter 'token_pattern' will not be used since 'tokenizer' is not None'\n",
      "  warnings.warn(\n"
     ]
    }
   ],
   "source": [
    "train_features_td = vector.fit_transform(combined_features)"
   ]
  },
  {
   "cell_type": "code",
   "execution_count": 45,
   "id": "f235b755-516a-4635-8c4d-bd6bfbb2dff6",
   "metadata": {},
   "outputs": [],
   "source": [
    "test_features_td = vector.transform(combined_features_test)"
   ]
  },
  {
   "cell_type": "code",
   "execution_count": 46,
   "id": "96b0e9ae-03d6-428b-9969-7f3b112faa36",
   "metadata": {},
   "outputs": [
    {
     "data": {
      "text/plain": [
       "<72x2650 sparse matrix of type '<class 'numpy.int64'>'\n",
       "\twith 7353 stored elements in Compressed Sparse Row format>"
      ]
     },
     "execution_count": 46,
     "metadata": {},
     "output_type": "execute_result"
    }
   ],
   "source": [
    "train_features_td"
   ]
  },
  {
   "cell_type": "code",
   "execution_count": 47,
   "id": "310f3c4d-113d-45e8-970d-fe6ccb645826",
   "metadata": {},
   "outputs": [
    {
     "data": {
      "text/plain": [
       "<19x2650 sparse matrix of type '<class 'numpy.int64'>'\n",
       "\twith 2154 stored elements in Compressed Sparse Row format>"
      ]
     },
     "execution_count": 47,
     "metadata": {},
     "output_type": "execute_result"
    }
   ],
   "source": [
    "test_features_td"
   ]
  },
  {
   "cell_type": "markdown",
   "id": "9fe4c7ad-40ae-42ba-bdf1-48081aab7283",
   "metadata": {
    "tags": []
   },
   "source": [
    "# Model selection and prediction"
   ]
  },
  {
   "cell_type": "markdown",
   "id": "31c05fa4-2540-49d4-9721-fe349c9e38a6",
   "metadata": {},
   "source": [
    "- There could be a relation between the first few words of tender_details and the label. We will try to capture the first few words of the description and use that as features"
   ]
  },
  {
   "cell_type": "markdown",
   "id": "04aba571-1905-4a2e-9066-2b0afe77ebb8",
   "metadata": {},
   "source": [
    "# Model: Naive Bayes"
   ]
  },
  {
   "cell_type": "code",
   "execution_count": 48,
   "id": "5afd9b7b-91fc-4f45-885c-02028804294f",
   "metadata": {},
   "outputs": [],
   "source": [
    "from sklearn.naive_bayes import MultinomialNB\n",
    "nb = MultinomialNB()"
   ]
  },
  {
   "cell_type": "code",
   "execution_count": 51,
   "id": "aa0b5397-da4c-46ce-99b6-e366d58102de",
   "metadata": {},
   "outputs": [
    {
     "name": "stderr",
     "output_type": "stream",
     "text": [
      "/tmp/ipykernel_1899753/812729284.py:1: FutureWarning: The behavior of `series[i:j]` with an integer-dtype index is deprecated. In a future version, this will be treated as *label-based* indexing, consistent with e.g. `series[i]` lookups. To retain the old behavior, use `series.iloc[i:j]`. To get the future behavior, use `series.loc[i:j]`.\n",
      "  tenders['labels'][1:8].values\n"
     ]
    },
    {
     "data": {
      "text/plain": [
       "array([1, 1, 1, 1, 5, 5, 5])"
      ]
     },
     "execution_count": 51,
     "metadata": {},
     "output_type": "execute_result"
    }
   ],
   "source": [
    "tenders['labels'][1:8].values"
   ]
  },
  {
   "cell_type": "code",
   "execution_count": 52,
   "id": "f548edc5-268b-4feb-8d97-dd995903dd48",
   "metadata": {},
   "outputs": [
    {
     "data": {
      "text/html": [
       "<style>#sk-container-id-2 {color: black;background-color: white;}#sk-container-id-2 pre{padding: 0;}#sk-container-id-2 div.sk-toggleable {background-color: white;}#sk-container-id-2 label.sk-toggleable__label {cursor: pointer;display: block;width: 100%;margin-bottom: 0;padding: 0.3em;box-sizing: border-box;text-align: center;}#sk-container-id-2 label.sk-toggleable__label-arrow:before {content: \"▸\";float: left;margin-right: 0.25em;color: #696969;}#sk-container-id-2 label.sk-toggleable__label-arrow:hover:before {color: black;}#sk-container-id-2 div.sk-estimator:hover label.sk-toggleable__label-arrow:before {color: black;}#sk-container-id-2 div.sk-toggleable__content {max-height: 0;max-width: 0;overflow: hidden;text-align: left;background-color: #f0f8ff;}#sk-container-id-2 div.sk-toggleable__content pre {margin: 0.2em;color: black;border-radius: 0.25em;background-color: #f0f8ff;}#sk-container-id-2 input.sk-toggleable__control:checked~div.sk-toggleable__content {max-height: 200px;max-width: 100%;overflow: auto;}#sk-container-id-2 input.sk-toggleable__control:checked~label.sk-toggleable__label-arrow:before {content: \"▾\";}#sk-container-id-2 div.sk-estimator input.sk-toggleable__control:checked~label.sk-toggleable__label {background-color: #d4ebff;}#sk-container-id-2 div.sk-label input.sk-toggleable__control:checked~label.sk-toggleable__label {background-color: #d4ebff;}#sk-container-id-2 input.sk-hidden--visually {border: 0;clip: rect(1px 1px 1px 1px);clip: rect(1px, 1px, 1px, 1px);height: 1px;margin: -1px;overflow: hidden;padding: 0;position: absolute;width: 1px;}#sk-container-id-2 div.sk-estimator {font-family: monospace;background-color: #f0f8ff;border: 1px dotted black;border-radius: 0.25em;box-sizing: border-box;margin-bottom: 0.5em;}#sk-container-id-2 div.sk-estimator:hover {background-color: #d4ebff;}#sk-container-id-2 div.sk-parallel-item::after {content: \"\";width: 100%;border-bottom: 1px solid gray;flex-grow: 1;}#sk-container-id-2 div.sk-label:hover label.sk-toggleable__label {background-color: #d4ebff;}#sk-container-id-2 div.sk-serial::before {content: \"\";position: absolute;border-left: 1px solid gray;box-sizing: border-box;top: 0;bottom: 0;left: 50%;z-index: 0;}#sk-container-id-2 div.sk-serial {display: flex;flex-direction: column;align-items: center;background-color: white;padding-right: 0.2em;padding-left: 0.2em;position: relative;}#sk-container-id-2 div.sk-item {position: relative;z-index: 1;}#sk-container-id-2 div.sk-parallel {display: flex;align-items: stretch;justify-content: center;background-color: white;position: relative;}#sk-container-id-2 div.sk-item::before, #sk-container-id-2 div.sk-parallel-item::before {content: \"\";position: absolute;border-left: 1px solid gray;box-sizing: border-box;top: 0;bottom: 0;left: 50%;z-index: -1;}#sk-container-id-2 div.sk-parallel-item {display: flex;flex-direction: column;z-index: 1;position: relative;background-color: white;}#sk-container-id-2 div.sk-parallel-item:first-child::after {align-self: flex-end;width: 50%;}#sk-container-id-2 div.sk-parallel-item:last-child::after {align-self: flex-start;width: 50%;}#sk-container-id-2 div.sk-parallel-item:only-child::after {width: 0;}#sk-container-id-2 div.sk-dashed-wrapped {border: 1px dashed gray;margin: 0 0.4em 0.5em 0.4em;box-sizing: border-box;padding-bottom: 0.4em;background-color: white;}#sk-container-id-2 div.sk-label label {font-family: monospace;font-weight: bold;display: inline-block;line-height: 1.2em;}#sk-container-id-2 div.sk-label-container {text-align: center;}#sk-container-id-2 div.sk-container {/* jupyter's `normalize.less` sets `[hidden] { display: none; }` but bootstrap.min.css set `[hidden] { display: none !important; }` so we also need the `!important` here to be able to override the default hidden behavior on the sphinx rendered scikit-learn.org. See: https://github.com/scikit-learn/scikit-learn/issues/21755 */display: inline-block !important;position: relative;}#sk-container-id-2 div.sk-text-repr-fallback {display: none;}</style><div id=\"sk-container-id-2\" class=\"sk-top-container\"><div class=\"sk-text-repr-fallback\"><pre>MultinomialNB()</pre><b>In a Jupyter environment, please rerun this cell to show the HTML representation or trust the notebook. <br />On GitHub, the HTML representation is unable to render, please try loading this page with nbviewer.org.</b></div><div class=\"sk-container\" hidden><div class=\"sk-item\"><div class=\"sk-estimator sk-toggleable\"><input class=\"sk-toggleable__control sk-hidden--visually\" id=\"sk-estimator-id-2\" type=\"checkbox\" checked><label for=\"sk-estimator-id-2\" class=\"sk-toggleable__label sk-toggleable__label-arrow\">MultinomialNB</label><div class=\"sk-toggleable__content\"><pre>MultinomialNB()</pre></div></div></div></div></div>"
      ],
      "text/plain": [
       "MultinomialNB()"
      ]
     },
     "execution_count": 52,
     "metadata": {},
     "output_type": "execute_result"
    }
   ],
   "source": [
    "nb.fit(train_features_td,train_set['labels'])"
   ]
  },
  {
   "cell_type": "code",
   "execution_count": 53,
   "id": "0e2e874d-4faf-48f1-8681-c2da68e106fb",
   "metadata": {},
   "outputs": [
    {
     "data": {
      "text/plain": [
       "array([2])"
      ]
     },
     "execution_count": 53,
     "metadata": {},
     "output_type": "execute_result"
    }
   ],
   "source": [
    "nb.predict(train_features_td[0])"
   ]
  },
  {
   "cell_type": "code",
   "execution_count": 54,
   "id": "4f2ac693-2b86-40cd-9d7e-f409fe7586e4",
   "metadata": {},
   "outputs": [
    {
     "data": {
      "text/plain": [
       "1"
      ]
     },
     "execution_count": 54,
     "metadata": {},
     "output_type": "execute_result"
    }
   ],
   "source": [
    "train_set['labels'][0]"
   ]
  },
  {
   "cell_type": "markdown",
   "id": "1cede44e-66bb-41c3-8f65-085ac287e643",
   "metadata": {},
   "source": [
    "# Evaluation"
   ]
  },
  {
   "cell_type": "code",
   "execution_count": 55,
   "id": "2d189d2f-f380-4daf-a257-79169110e0a9",
   "metadata": {},
   "outputs": [],
   "source": [
    "from sklearn.metrics import ConfusionMatrixDisplay"
   ]
  },
  {
   "cell_type": "code",
   "execution_count": 56,
   "id": "19078ed2-4e76-47d9-83d5-21b6b37ba6f9",
   "metadata": {},
   "outputs": [
    {
     "data": {
      "text/plain": [
       "<sklearn.metrics._plot.confusion_matrix.ConfusionMatrixDisplay at 0x7f326bb4b150>"
      ]
     },
     "execution_count": 56,
     "metadata": {},
     "output_type": "execute_result"
    },
    {
     "data": {
      "image/png": "[encoded data removed]",
      "text/plain": [
       "<Figure size 640x480 with 2 Axes>"
      ]
     },
     "metadata": {},
     "output_type": "display_data"
    }
   ],
   "source": [
    "ConfusionMatrixDisplay.from_predictions(test_set['labels'],nb.predict(test_features_td))"
   ]
  },
  {
   "cell_type": "markdown",
   "id": "f058a78d-7356-47bb-b17f-096429173f81",
   "metadata": {},
   "source": [
    "Evaluation of accuracy could be done using the standard accuracy metric "
   ]
  },
  {
   "cell_type": "code",
   "execution_count": 57,
   "id": "c269475d-0f04-4075-a667-ec6b6906f480",
   "metadata": {},
   "outputs": [],
   "source": [
    "from sklearn.metrics import accuracy_score"
   ]
  },
  {
   "cell_type": "code",
   "execution_count": 59,
   "id": "50e76d10-bae1-4dfd-97a2-8c577bc76b5d",
   "metadata": {},
   "outputs": [
    {
     "data": {
      "text/plain": [
       "0.7368421052631579"
      ]
     },
     "execution_count": 59,
     "metadata": {},
     "output_type": "execute_result"
    }
   ],
   "source": [
    "accuracy_score(test_set['labels'],nb.predict(test_features_td))"
   ]
  },
  {
   "cell_type": "markdown",
   "id": "4f0e19dd-2f8d-485c-bbb8-535d9d2f570e",
   "metadata": {},
   "source": [
    "Being greater than 70%, this seems like an okay result. "
   ]
  },
  {
   "cell_type": "markdown",
   "id": "b37a84ec-4582-44a5-b2f0-70116eaba114",
   "metadata": {},
   "source": [
    "However, we have seen that the other classes are not doing quite well.\n",
    "A better metric that is able to capture the effectiveness to classify in imbalanced classes is the balanced accuracy"
   ]
  },
  {
   "cell_type": "code",
   "execution_count": 61,
   "id": "6581c2c3-ecb2-4e3b-9550-9ee2349e943c",
   "metadata": {},
   "outputs": [],
   "source": [
    "from sklearn.metrics import balanced_accuracy_score"
   ]
  },
  {
   "cell_type": "code",
   "execution_count": 62,
   "id": "f4d90bde-954e-471f-b425-9e929e6a7b49",
   "metadata": {},
   "outputs": [
    {
     "data": {
      "text/plain": [
       "0.4642857142857143"
      ]
     },
     "execution_count": 62,
     "metadata": {},
     "output_type": "execute_result"
    }
   ],
   "source": [
    "balanced_accuracy_score(test_set['labels'],nb.predict(test_features_td))"
   ]
  },
  {
   "cell_type": "markdown",
   "id": "c2ee033c-5083-4f26-b38e-df40af2aeaac",
   "metadata": {},
   "source": [
    "With balanced accuracy, we can see that we the current model is not doing well and we should be exploring other models"
   ]
  },
  {
   "cell_type": "code",
   "execution_count": null,
   "id": "be454c9f-fd7e-4fcb-846e-7b6c29848857",
   "metadata": {},
   "outputs": [],
   "source": []
  }
 ],
 "metadata": {
  "kernelspec": {
   "display_name": "DS",
   "language": "python",
   "name": "ds"
  },
  "language_info": {
   "codemirror_mode": {
    "name": "ipython",
    "version": 3
   },
   "file_extension": ".py",
   "mimetype": "text/x-python",
   "name": "python",
   "nbconvert_exporter": "python",
   "pygments_lexer": "ipython3",
   "version": "3.11.1"
  }
 },
 "nbformat": 4,
 "nbformat_minor": 5
}

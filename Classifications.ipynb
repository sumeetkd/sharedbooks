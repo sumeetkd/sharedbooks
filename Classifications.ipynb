{
 "cells": [
  {
   "cell_type": "markdown",
   "id": "7f81c472-dd78-45ab-b267-1f4978c86064",
   "metadata": {},
   "source": [
    "# Introduction "
   ]
  },
  {
   "cell_type": "markdown",
   "id": "4b2271af-ba27-48a6-9655-06936814ba6e",
   "metadata": {},
   "source": [
    "- The categories in are available in tender_categories\n",
    "- Data that is useful for categorization includes\n",
    "  - 'tender_details'\n",
    "  - 'tender_description' \n",
    "  - 'boq_items'\n",
    "  - 'boq_details'\n",
    "- After going through the features, we chose to combine the columns into a single string before feeding to the model\n",
    "- We used a simple countvectorizer to make vectors based on word frequencies\n",
    "- Naive Bayes was used to analyze these vectors\n",
    "- Evaluation using the standard accuracy metric suggests that the model is good but when using balanced accuracy we can see that naive bayes does not perform well.\n",
    "- This is expected due to the skew in the data"
   ]
  },
  {
   "cell_type": "markdown",
   "id": "21c20beb-91a2-4e93-8153-963d7d1801de",
   "metadata": {
    "tags": []
   },
   "source": [
    "## Flow of logic"
   ]
  },
  {
   "cell_type": "markdown",
   "id": "9e4f85b8-6143-45d0-8429-18c3d7491816",
   "metadata": {
    "jp-MarkdownHeadingCollapsed": true,
    "tags": []
   },
   "source": [
    "### Ingesting tenders\n",
    "- Reading of data into pandas\n",
    "- Fixing repeated columns\n",
    "- Checking for uniqueness of information\n",
    "  - boq_details and boq_items\n",
    "  - tender_description and tender_details\n",
    "  - tender_details and boq_details\n",
    "### Feature engineering\n",
    "- Creating labels\n",
    "  - Plotting the skew in data\n",
    "  - Looking for ways to combine labels\n",
    "- Dropping additional columns\n",
    "- Splitting the data into train and test set\n",
    "- Representing the text as vectors: Countvectorizer\n",
    "  - Combining tender_details and boq_details into a single string\n",
    "  - Tokenizing the string using Spacy tokenizer\n",
    "    - Training vector which can transform new instances\n",
    "### Model training\n",
    "#### Using Naive Bayes\n",
    "### Evaluation\n",
    "- Evaluation is carried out using the accuracy metric\n",
    "- Evaluation is carried out using the balanced accuracy metric"
   ]
  },
  {
   "cell_type": "code",
   "execution_count": null,
   "id": "59dde969-736c-43e3-a099-b6344b86cc19",
   "metadata": {},
   "outputs": [],
   "source": []
  },
  {
   "cell_type": "markdown",
   "id": "f68213e7-ec0f-4de2-9d05-9ef7ea5f5616",
   "metadata": {
    "tags": []
   },
   "source": [
    "# Ingesting Tenders"
   ]
  },
  {
   "cell_type": "code",
   "execution_count": null,
   "id": "2ce1d10f-65ab-4db3-9925-806b3b7d98ac",
   "metadata": {},
   "outputs": [],
   "source": [
    "import pandas as pd"
   ]
  },
  {
   "cell_type": "code",
   "execution_count": null,
   "id": "124a8dc8-bffd-4c5a-97f4-5ed159d69267",
   "metadata": {},
   "outputs": [],
   "source": [
    "tenders = pd.read_csv(\n",
    "filepath_or_buffer='data/dataScienceAssignment/tender.csv',\\\n",
    "# This is the file path of the csv\n",
    "# Get the column names from a header row\n",
    "na_values='[]',\n",
    "header=0,\n",
    ")"
   ]
  },
  {
   "cell_type": "code",
   "execution_count": null,
   "id": "f5f192f3-5055-458f-b3e6-a1cf0cfac95f",
   "metadata": {},
   "outputs": [],
   "source": [
    "tendersTh.head()"
   ]
  },
  {
   "cell_type": "markdown",
   "id": "abac3f82-e84a-49df-8f1e-40fcf5d82242",
   "metadata": {
    "tags": []
   },
   "source": [
    "## Fixing the extra index columns "
   ]
  },
  {
   "cell_type": "code",
   "execution_count": null,
   "id": "7ab339c0-9e4c-4104-9de0-ffb8f9cb6203",
   "metadata": {},
   "outputs": [],
   "source": [
    "tenders.loc[tenders['Unnamed: 0.1']!=tenders['Unnamed: 0']]"
   ]
  },
  {
   "cell_type": "code",
   "execution_count": null,
   "id": "0c8d88c2-72f6-4a96-b7ac-558bcb16536c",
   "metadata": {},
   "outputs": [],
   "source": [
    "tenders.loc[tenders.index!=tenders['Unnamed: 0']]"
   ]
  },
  {
   "cell_type": "code",
   "execution_count": null,
   "id": "9dadbcf1-a168-4e32-bcbd-239dc4416eaf",
   "metadata": {},
   "outputs": [],
   "source": [
    "tenders.drop(columns=['Unnamed: 0', 'Unnamed: 0.1'], inplace=True)"
   ]
  },
  {
   "cell_type": "code",
   "execution_count": null,
   "id": "80108955-bcd9-4f8d-b366-a4a0b864084f",
   "metadata": {},
   "outputs": [],
   "source": [
    "tenders.info()"
   ]
  },
  {
   "cell_type": "markdown",
   "id": "6251bba2-546f-48f4-be39-46292df71ab0",
   "metadata": {
    "tags": []
   },
   "source": [
    "## BOQ items and details equivalence"
   ]
  },
  {
   "cell_type": "code",
   "execution_count": null,
   "id": "635f6c3c-3f93-46a8-932e-52f4abdfa7b0",
   "metadata": {
    "tags": []
   },
   "outputs": [],
   "source": [
    "tenders['boq_items'][0]"
   ]
  },
  {
   "cell_type": "markdown",
   "id": "cd7e054d-2109-4f25-b8a4-a2b5f023c855",
   "metadata": {},
   "source": [
    "- Assuming that the quantity, units, rate, amount and '\\_class' quantities do not affect the category of the item\n",
    "- The only important information is the 'itemDescription'\n",
    "- Observing that the column boq_details also contains similar information"
   ]
  },
  {
   "cell_type": "markdown",
   "id": "ec13830a-d4b7-453e-92e3-f0bd0268a4b7",
   "metadata": {},
   "source": [
    "Checking for equivalence of values in 'boq_items' & 'boq_details'"
   ]
  },
  {
   "cell_type": "code",
   "execution_count": null,
   "id": "b723ca7c-b3d6-4a50-b410-0d7b4f5bd63a",
   "metadata": {},
   "outputs": [],
   "source": [
    "from ast import literal_eval"
   ]
  },
  {
   "cell_type": "code",
   "execution_count": null,
   "id": "f26e8971-fbea-48ec-8ba6-d2a8e3812d4d",
   "metadata": {},
   "outputs": [],
   "source": [
    "def boq_items_conv(rowitem):\n",
    "    \"\"\"Function to filter the items description from boq_items and add to list\n",
    "    \"\"\"\n",
    "    boq_details = [] # List contain item descriptions\n",
    "    if rowitem != '[]':\n",
    "        boqitemslist = literal_eval(rowitem) # Literal evaluation of the bytes to convert to python list\n",
    "        for item in boqitemslist:\n",
    "            boq_details.append(item['itemDescription']) # Adding descriptions to the list\n",
    "    return boq_details"
   ]
  },
  {
   "cell_type": "code",
   "execution_count": null,
   "id": "fb0517f7-d488-415f-957b-970bd180aedf",
   "metadata": {
    "tags": []
   },
   "outputs": [],
   "source": [
    "boq_items_conv(tenders['boq_items'][0])"
   ]
  },
  {
   "cell_type": "code",
   "execution_count": null,
   "id": "9cab46ed-d0fa-42d7-be9a-3b38cf770809",
   "metadata": {},
   "outputs": [],
   "source": [
    "def boq_details_conv(rowitem):\n",
    "    \"\"\" Function to convert the bytes in boq_details to python list\n",
    "    \"\"\"\n",
    "    if rowitem != '[]':\n",
    "        test = literal_eval(rowitem)\n",
    "        return test"
   ]
  },
  {
   "cell_type": "code",
   "execution_count": null,
   "id": "27843100-a87d-4308-a209-7532500640f2",
   "metadata": {},
   "outputs": [],
   "source": [
    "tenders['boq_details'][80:90]"
   ]
  },
  {
   "cell_type": "code",
   "execution_count": null,
   "id": "6adf8d7c-f302-4bcf-986f-bbaad25ae851",
   "metadata": {
    "tags": []
   },
   "outputs": [],
   "source": [
    "boq_details_conv(tenders['boq_details'][0])"
   ]
  },
  {
   "cell_type": "markdown",
   "id": "e4b17a92-37fb-4b42-9444-3d254d21a2ef",
   "metadata": {},
   "source": [
    "Listing out rows in which the lists are different"
   ]
  },
  {
   "cell_type": "markdown",
   "id": "13fe3e62-ba00-4f03-853a-eb8a3e8cdc05",
   "metadata": {},
   "source": [
    "Since there are no such rows. We will drop the 'boq_items'"
   ]
  },
  {
   "cell_type": "code",
   "execution_count": null,
   "id": "f065ad16-f234-4e20-9aa2-b1a0e8427a3d",
   "metadata": {},
   "outputs": [],
   "source": [
    "tenders.drop(columns=['boq_items'], inplace=True)"
   ]
  },
  {
   "cell_type": "code",
   "execution_count": null,
   "id": "8283cadd-d9bd-4be8-b6b8-b9da3d38a6c2",
   "metadata": {
    "tags": []
   },
   "outputs": [],
   "source": [
    "tenders.info()"
   ]
  },
  {
   "cell_type": "markdown",
   "id": "19713112-8a6c-44db-8f2f-6bdee094d727",
   "metadata": {
    "jp-MarkdownHeadingCollapsed": true,
    "tags": []
   },
   "source": [
    "## tender_description and tender_details equivalence"
   ]
  },
  {
   "cell_type": "markdown",
   "id": "b8bced3f-b0cd-4ea4-a06d-e7215ac42ead",
   "metadata": {},
   "source": [
    "It appears that tender_description and tender_details are also very similar.\n",
    "Printing the cases, where it is different."
   ]
  },
  {
   "cell_type": "code",
   "execution_count": null,
   "id": "66ade6c5-7d73-4ec7-b45b-4df55f3cdc09",
   "metadata": {
    "tags": []
   },
   "outputs": [],
   "source": [
    "tenders.loc[tenders['tender_description']!=tenders['tender_details']][['tender_description','tender_details']].info()"
   ]
  },
  {
   "cell_type": "code",
   "execution_count": null,
   "id": "fe65f9b7-7499-4064-85e5-0690f56f1604",
   "metadata": {
    "tags": []
   },
   "outputs": [],
   "source": [
    "tenders.loc[tenders['tender_description']!=tenders['tender_details']][['tender_description','tender_details']].values"
   ]
  },
  {
   "cell_type": "markdown",
   "id": "8042d91a-a3c7-4ccc-a78e-e0d3cfdd98da",
   "metadata": {},
   "source": [
    "- It is observed that in the 20 cases, tender_description and tender_details don't match\n",
    "- In these cases, tender_details has a copy of the information in tender_description and a few more details"
   ]
  },
  {
   "cell_type": "code",
   "execution_count": null,
   "id": "c21fe39a-5432-4e27-b908-df0d9365017a",
   "metadata": {},
   "outputs": [],
   "source": [
    "tenders.drop(columns=['tender_description'], inplace=True)"
   ]
  },
  {
   "cell_type": "markdown",
   "id": "1cbe0762-72a0-4416-919f-11554b21ca38",
   "metadata": {
    "tags": []
   },
   "source": [
    "## tender_details and boq_details"
   ]
  },
  {
   "cell_type": "code",
   "execution_count": null,
   "id": "ca41d503-250e-4ead-b545-f68664f817d7",
   "metadata": {
    "tags": []
   },
   "outputs": [],
   "source": [
    "tenders[['tender_details', 'boq_details']][:5].values"
   ]
  },
  {
   "cell_type": "markdown",
   "id": "8342e80b-5423-4527-bf61-9646c7871f3b",
   "metadata": {},
   "source": [
    "- It appears that the data in both these items are different\n",
    "- One might want to evaluate the usefulness of joining these two items to make a single column\n",
    "- For the moment, I am going to fill all the NAN values in boq_details with the values in tender_details"
   ]
  },
  {
   "cell_type": "markdown",
   "id": "02a81703-1fb6-40b1-87ef-246f16239e61",
   "metadata": {
    "tags": []
   },
   "source": [
    "# Feature Engineering"
   ]
  },
  {
   "cell_type": "markdown",
   "id": "fc0d464d-6a54-4e43-baf4-27785bd9d3db",
   "metadata": {
    "jp-MarkdownHeadingCollapsed": true,
    "tags": []
   },
   "source": [
    "## Labels"
   ]
  },
  {
   "cell_type": "markdown",
   "id": "b43cf589-a97d-4b83-aed9-416b0ccfa2ab",
   "metadata": {},
   "source": [
    "Converting the tender_category column a form that can be fed to models"
   ]
  },
  {
   "cell_type": "code",
   "execution_count": null,
   "id": "50d67f37-4160-4cf5-9734-12eebbd47828",
   "metadata": {},
   "outputs": [],
   "source": [
    "tenders['tender_category'].unique()"
   ]
  },
  {
   "cell_type": "markdown",
   "id": "3a9252e9-444e-43ea-846c-d1f2675e84c6",
   "metadata": {},
   "source": [
    "The 'nan' objects are not useful and we will drop these rows from further analysis"
   ]
  },
  {
   "cell_type": "code",
   "execution_count": null,
   "id": "4f7362af-96af-456c-9f7c-9a2bb8e2aaa4",
   "metadata": {},
   "outputs": [],
   "source": [
    "tenders.loc[tenders['tender_category'].isna()].count()"
   ]
  },
  {
   "cell_type": "markdown",
   "id": "7c1f6d6b-4888-41df-8908-65a6f62a4d8f",
   "metadata": {},
   "source": [
    "This amounts to ~10% of the total data available"
   ]
  },
  {
   "cell_type": "code",
   "execution_count": null,
   "id": "b4663193-0c9a-4449-a72d-d03e5fd5ede6",
   "metadata": {},
   "outputs": [],
   "source": [
    "tenders.dropna(subset=['tender_category'], inplace=True)"
   ]
  },
  {
   "cell_type": "markdown",
   "id": "6cb6edd5-86a7-45c3-a2fa-5a6d068c8fab",
   "metadata": {},
   "source": [
    "Creating a labels column with normalized categories"
   ]
  },
  {
   "cell_type": "code",
   "execution_count": null,
   "id": "c622c103-3592-40a5-b64a-e72a77feb40a",
   "metadata": {},
   "outputs": [],
   "source": [
    "tenders['labels'] = tenders['tender_category'].map({'Works':1, 'WORKS':1, 'Services': 2, 'SERVICES': 2, 'Goods': 3, 'GOODS': 3, 'ITEM RATE': 4, 'PERCENTAGE': 5})"
   ]
  },
  {
   "cell_type": "code",
   "execution_count": null,
   "id": "d78db623-f49b-429e-a47b-a45152c55531",
   "metadata": {},
   "outputs": [],
   "source": [
    "tenders.drop(columns=['tender_category'], inplace=True)"
   ]
  },
  {
   "cell_type": "markdown",
   "id": "d88533b4-db65-488e-bf03-9c9b7d97d3bb",
   "metadata": {
    "tags": []
   },
   "source": [
    "Checking the spread of the data"
   ]
  },
  {
   "cell_type": "code",
   "execution_count": null,
   "id": "37b3892e-85dd-40cf-ba88-2039cd364209",
   "metadata": {
    "tags": []
   },
   "outputs": [],
   "source": [
    "import matplotlib.pyplot as plt"
   ]
  },
  {
   "cell_type": "code",
   "execution_count": null,
   "id": "ca7822a6-d493-437b-9762-66fdb7c14160",
   "metadata": {
    "tags": []
   },
   "outputs": [],
   "source": [
    "tenders['labels'].hist()"
   ]
  },
  {
   "cell_type": "markdown",
   "id": "d06df486-b67d-4fd5-a905-95d226e2070e",
   "metadata": {},
   "source": [
    "Note the skew in the data towards 'Work' and 'Services' categories"
   ]
  },
  {
   "cell_type": "code",
   "execution_count": null,
   "id": "f448cbf5-9a24-4081-b448-b25344b6007e",
   "metadata": {
    "tags": []
   },
   "outputs": [],
   "source": [
    "tenders.loc[tenders['labels']==4]['boq_details'].values"
   ]
  },
  {
   "cell_type": "markdown",
   "id": "62deba42-ceb6-42b1-8d6a-03099ad98176",
   "metadata": {},
   "source": [
    "Checking to see if 'ITEM RATE' can be absorbed in the other categories"
   ]
  },
  {
   "cell_type": "code",
   "execution_count": null,
   "id": "6cd785c9-7c24-4e98-af1e-bb995b1e3452",
   "metadata": {
    "tags": []
   },
   "outputs": [],
   "source": [
    "tenders.loc[tenders['labels']==5]['boq_details'].values"
   ]
  },
  {
   "cell_type": "markdown",
   "id": "446714c9-b1d9-4563-901e-1642239142a7",
   "metadata": {},
   "source": [
    "Checking to see if 'PERCENTAGE' can be absorbed in the other categories"
   ]
  },
  {
   "cell_type": "markdown",
   "id": "bf22a2f7-a69f-4373-9a45-f5b81eabbe62",
   "metadata": {
    "jp-MarkdownHeadingCollapsed": true,
    "tags": []
   },
   "source": [
    "## Features"
   ]
  },
  {
   "cell_type": "code",
   "execution_count": null,
   "id": "aae37ef7-a669-4b53-8c10-d9733cc3599e",
   "metadata": {},
   "outputs": [],
   "source": [
    "tenders.info()"
   ]
  },
  {
   "cell_type": "markdown",
   "id": "b7090fc4-3ae6-489d-b247-bf0db85189f3",
   "metadata": {},
   "source": [
    "- tender_id is a unique number with no connection to the category\n",
    "- boq_len also has no connection with the category"
   ]
  },
  {
   "cell_type": "code",
   "execution_count": null,
   "id": "6ac56179-7c90-4e1a-b295-0ff0cdc7d87a",
   "metadata": {},
   "outputs": [],
   "source": [
    "tenders.drop(columns=['tender_id', 'boq_len'], inplace=True)"
   ]
  },
  {
   "cell_type": "markdown",
   "id": "b93a3841-6677-45e9-bb66-2f6c8cee6143",
   "metadata": {},
   "source": [
    "Ideally I would want to convert the text from tender_details and boq_details to vectors too but we intend to try out different ways of vectorizing them and will postpone to the sections below"
   ]
  },
  {
   "cell_type": "markdown",
   "id": "d0e97e90-43fc-41ca-9e98-638973102dd8",
   "metadata": {
    "jp-MarkdownHeadingCollapsed": true,
    "tags": []
   },
   "source": [
    "## Split"
   ]
  },
  {
   "cell_type": "code",
   "execution_count": null,
   "id": "788cea17-3ad3-4993-9e2e-bc0bc72eb9ad",
   "metadata": {},
   "outputs": [],
   "source": [
    "from sklearn.model_selection import train_test_split\n",
    "train_set, test_set = train_test_split(tenders, test_size=0.2, random_state=1)"
   ]
  },
  {
   "cell_type": "markdown",
   "id": "8cdc11b7-f846-41fd-a132-23288eacd241",
   "metadata": {
    "tags": []
   },
   "source": [
    "## Representation: Bag of words"
   ]
  },
  {
   "cell_type": "markdown",
   "id": "45e8776d-1326-410f-a49c-f0a3a298a2fd",
   "metadata": {},
   "source": [
    "### Combining columns to create a single feature string"
   ]
  },
  {
   "cell_type": "code",
   "execution_count": null,
   "id": "bd950feb-d9f1-49ee-9a51-c4066cf05b6b",
   "metadata": {},
   "outputs": [],
   "source": [
    "train_set['boq_details'].fillna('[]',inplace=True)"
   ]
  },
  {
   "cell_type": "code",
   "execution_count": null,
   "id": "e004db3a-2b04-4eb6-a092-12a02e2f5ed9",
   "metadata": {},
   "outputs": [],
   "source": [
    "test_set['boq_details'].fillna('[]',inplace=True)"
   ]
  },
  {
   "cell_type": "markdown",
   "id": "6ec001b7-ebff-4b02-9dbd-f6e6f9130c17",
   "metadata": {},
   "source": [
    "Combining the line items in boq_details into a single string"
   ]
  },
  {
   "cell_type": "code",
   "execution_count": null,
   "id": "968f458a-82e9-44a9-972c-726e1f56edb7",
   "metadata": {},
   "outputs": [],
   "source": [
    "def boq_details_concat(rowitem):\n",
    "    \"\"\" Function to convert the bytes in boq_details to python list\n",
    "    \"\"\"\n",
    "    if rowitem is not None:\n",
    "        test = literal_eval(rowitem)\n",
    "        if test is not None:\n",
    "            return ' '.join(test)\n",
    "    else:\n",
    "        return ''"
   ]
  },
  {
   "cell_type": "code",
   "execution_count": null,
   "id": "b934e6dd-079c-4b5a-bf7e-06cd2c7737c4",
   "metadata": {
    "tags": []
   },
   "outputs": [],
   "source": [
    "combined_features = train_set['tender_details'].values + train_set['boq_details'].map(boq_details_concat).values"
   ]
  },
  {
   "cell_type": "code",
   "execution_count": null,
   "id": "0d394b2d-5eb7-4267-b060-f642bccddc79",
   "metadata": {},
   "outputs": [],
   "source": [
    "combined_features_test = test_set['tender_details'].values + test_set['boq_details'].map(boq_details_concat).values"
   ]
  },
  {
   "cell_type": "markdown",
   "id": "c624b8e8-91e1-497f-8db1-80fbc07bd254",
   "metadata": {},
   "source": [
    "### Creating count vectors"
   ]
  },
  {
   "cell_type": "code",
   "execution_count": null,
   "id": "c2e7acc5-d89c-452b-9f1f-823bac652b66",
   "metadata": {},
   "outputs": [],
   "source": [
    "import spacy\n",
    "nlp = spacy.load(\"en_core_web_sm\")"
   ]
  },
  {
   "cell_type": "code",
   "execution_count": null,
   "id": "3fc3905a-80b9-4ddd-bd59-0356c810da0a",
   "metadata": {},
   "outputs": [],
   "source": [
    "def spacy_tokenizer(document):\n",
    "    tokens = nlp(document)\n",
    "    tokens = [token.lemma_.lower() for token in tokens if (\n",
    "        token.is_stop == False and \\\n",
    "        token.is_punct == False and \\\n",
    "        token.lemma_.strip()!= '')]\n",
    "    return tokens"
   ]
  },
  {
   "cell_type": "code",
   "execution_count": null,
   "id": "ddeee7f4-d266-403f-9c96-56da16cb6293",
   "metadata": {},
   "outputs": [],
   "source": [
    "from sklearn.feature_extraction.text import CountVectorizer\n",
    "vector = CountVectorizer(input = 'content', tokenizer = spacy_tokenizer)"
   ]
  },
  {
   "cell_type": "code",
   "execution_count": null,
   "id": "1772f706-50ce-40a1-bf67-397ede74050b",
   "metadata": {},
   "outputs": [],
   "source": [
    "train_features_td = vector.fit_transform(combined_features)"
   ]
  },
  {
   "cell_type": "code",
   "execution_count": null,
   "id": "f235b755-516a-4635-8c4d-bd6bfbb2dff6",
   "metadata": {},
   "outputs": [],
   "source": [
    "test_features_td = vector.transform(combined_features_test)"
   ]
  },
  {
   "cell_type": "code",
   "execution_count": null,
   "id": "96b0e9ae-03d6-428b-9969-7f3b112faa36",
   "metadata": {},
   "outputs": [],
   "source": [
    "train_features_td"
   ]
  },
  {
   "cell_type": "code",
   "execution_count": null,
   "id": "310f3c4d-113d-45e8-970d-fe6ccb645826",
   "metadata": {},
   "outputs": [],
   "source": [
    "test_features_td"
   ]
  },
  {
   "cell_type": "markdown",
   "id": "9fe4c7ad-40ae-42ba-bdf1-48081aab7283",
   "metadata": {
    "tags": []
   },
   "source": [
    "# Model selection and prediction"
   ]
  },
  {
   "cell_type": "markdown",
   "id": "31c05fa4-2540-49d4-9721-fe349c9e38a6",
   "metadata": {},
   "source": [
    "- There could be a relation between the first few words of tender_details and the label. We will try to capture the first few words of the description and use that as features"
   ]
  },
  {
   "cell_type": "markdown",
   "id": "04aba571-1905-4a2e-9066-2b0afe77ebb8",
   "metadata": {},
   "source": [
    "# Model: Naive Bayes"
   ]
  },
  {
   "cell_type": "code",
   "execution_count": null,
   "id": "5afd9b7b-91fc-4f45-885c-02028804294f",
   "metadata": {},
   "outputs": [],
   "source": [
    "from sklearn.naive_bayes import MultinomialNB\n",
    "nb = MultinomialNB()"
   ]
  },
  {
   "cell_type": "code",
   "execution_count": null,
   "id": "aa0b5397-da4c-46ce-99b6-e366d58102de",
   "metadata": {},
   "outputs": [],
   "source": [
    "tenders['labels'][1:8].values"
   ]
  },
  {
   "cell_type": "code",
   "execution_count": null,
   "id": "f548edc5-268b-4feb-8d97-dd995903dd48",
   "metadata": {},
   "outputs": [],
   "source": [
    "nb.fit(train_features_td,train_set['labels'])"
   ]
  },
  {
   "cell_type": "code",
   "execution_count": null,
   "id": "0e2e874d-4faf-48f1-8681-c2da68e106fb",
   "metadata": {},
   "outputs": [],
   "source": [
    "nb.predict(train_features_td[0])"
   ]
  },
  {
   "cell_type": "code",
   "execution_count": null,
   "id": "4f2ac693-2b86-40cd-9d7e-f409fe7586e4",
   "metadata": {},
   "outputs": [],
   "source": [
    "train_set['labels'][0]"
   ]
  },
  {
   "cell_type": "markdown",
   "id": "1cede44e-66bb-41c3-8f65-085ac287e643",
   "metadata": {},
   "source": [
    "# Evaluation"
   ]
  },
  {
   "cell_type": "code",
   "execution_count": null,
   "id": "2d189d2f-f380-4daf-a257-79169110e0a9",
   "metadata": {},
   "outputs": [],
   "source": [
    "from sklearn.metrics import ConfusionMatrixDisplay"
   ]
  },
  {
   "cell_type": "code",
   "execution_count": null,
   "id": "19078ed2-4e76-47d9-83d5-21b6b37ba6f9",
   "metadata": {},
   "outputs": [],
   "source": [
    "ConfusionMatrixDisplay.from_predictions(test_set['labels'],nb.predict(test_features_td))"
   ]
  },
  {
   "cell_type": "markdown",
   "id": "f058a78d-7356-47bb-b17f-096429173f81",
   "metadata": {},
   "source": [
    "Evaluation of accuracy could be done using the standard accuracy metric "
   ]
  },
  {
   "cell_type": "code",
   "execution_count": null,
   "id": "c269475d-0f04-4075-a667-ec6b6906f480",
   "metadata": {},
   "outputs": [],
   "source": [
    "from sklearn.metrics import accuracy_score"
   ]
  },
  {
   "cell_type": "code",
   "execution_count": 63,
   "id": "50e76d10-bae1-4dfd-97a2-8c577bc76b5d",
   "metadata": {},
   "outputs": [
    {
     "data": {
      "text/plain": [
       "0.7368421052631579"
      ]
     },
     "execution_count": 63,
     "metadata": {},
     "output_type": "execute_result"
    }
   ],
   "source": [
    "accuracy_score(test_set['labels'],nb.predict(test_features_td))"
   ]
  },
  {
   "cell_type": "markdown",
   "id": "4f0e19dd-2f8d-485c-bbb8-535d9d2f570e",
   "metadata": {},
   "source": [
    "Being greater than 70%, this seems like an okay result. "
   ]
  },
  {
   "cell_type": "markdown",
   "id": "b37a84ec-4582-44a5-b2f0-70116eaba114",
   "metadata": {},
   "source": [
    "However, we have seen that the other classes are not doing quite well.\n",
    "A better metric that is able to capture the effectiveness to classify in imbalanced classes is the balanced accuracy"
   ]
  },
  {
   "cell_type": "code",
   "execution_count": null,
   "id": "6581c2c3-ecb2-4e3b-9550-9ee2349e943c",
   "metadata": {},
   "outputs": [],
   "source": [
    "from sklearn.metrics import balanced_accuracy_score"
   ]
  },
  {
   "cell_type": "code",
   "execution_count": 64,
   "id": "f4d90bde-954e-471f-b425-9e929e6a7b49",
   "metadata": {},
   "outputs": [
    {
     "data": {
      "text/plain": [
       "0.4642857142857143"
      ]
     },
     "execution_count": 64,
     "metadata": {},
     "output_type": "execute_result"
    }
   ],
   "source": [
    "balanced_accuracy_score(test_set['labels'],nb.predict(test_features_td))"
   ]
  },
  {
   "cell_type": "markdown",
   "id": "c2ee033c-5083-4f26-b38e-df40af2aeaac",
   "metadata": {},
   "source": [
    "With balanced accuracy, we can see that we the current model is not doing well and we should be exploring other models"
   ]
  },
  {
   "cell_type": "code",
   "execution_count": null,
   "id": "be454c9f-fd7e-4fcb-846e-7b6c29848857",
   "metadata": {},
   "outputs": [],
   "source": []
  }
 ],
 "metadata": {
  "kernelspec": {
   "display_name": "DS",
   "language": "python",
   "name": "ds"
  },
  "language_info": {
   "codemirror_mode": {
    "name": "ipython",
    "version": 3
   },
   "file_extension": ".py",
   "mimetype": "text/x-python",
   "name": "python",
   "nbconvert_exporter": "python",
   "pygments_lexer": "ipython3",
   "version": "3.11.1"
  }
 },
 "nbformat": 4,
 "nbformat_minor": 5
}
